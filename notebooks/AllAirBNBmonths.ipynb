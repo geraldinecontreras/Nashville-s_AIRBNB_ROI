{
 "cells": [
  {
   "cell_type": "code",
   "execution_count": 2,
   "metadata": {},
   "outputs": [
    {
     "name": "stdout",
     "output_type": "stream",
     "text": [
      "Populating the interactive namespace from numpy and matplotlib\n",
      "time: 2.41 s (started: 2021-12-16 00:16:14 -06:00)\n"
     ]
    }
   ],
   "source": [
    "%matplotlib inline\n",
    "%pylab inline\n",
    "%load_ext autotime\n",
    "\n",
    "import pandas as pd\n",
    "import numpy as np\n",
    "import matplotlib.pyplot as plt\n",
    "import plotly.graph_objs as go\n",
    "import seaborn as sns\n",
    "import os\n",
    "import glob\n",
    "import geopandas as gpd\n",
    "import geopy\n",
    "import plotly_express as px\n",
    "import tqdm\n",
    "\n",
    "from graphics import Point\n",
    "from functools import reduce\n",
    "from datetime import date\n",
    "from datetime import datetime\n",
    "from geopy.geocoders import Nominatim\n",
    "from geopy.extra.rate_limiter import RateLimiter\n",
    "from tqdm.notebook import tqdm_notebook\n",
    "\n",
    "\n",
    "#from dtale.views import startup\n",
    "#import dtale\n",
    "#import pyplot as plt\n",
    "# os and glob help concat multiple csv files into one"
   ]
  },
  {
   "cell_type": "code",
   "execution_count": 18,
   "metadata": {},
   "outputs": [
    {
     "name": "stdout",
     "output_type": "stream",
     "text": [
      "time: 0 ns (started: 2021-12-16 00:27:06 -06:00)\n"
     ]
    }
   ],
   "source": [
    "from geopy.geocoders import Photon\n",
    "geolocator = Photon(user_agent=\"measurements\")"
   ]
  },
  {
   "cell_type": "code",
   "execution_count": 3,
   "metadata": {},
   "outputs": [
    {
     "data": {
      "text/plain": [
       "(6112, 16)"
      ]
     },
     "execution_count": 3,
     "metadata": {},
     "output_type": "execute_result"
    },
    {
     "name": "stdout",
     "output_type": "stream",
     "text": [
      "time: 47 ms (started: 2021-12-16 00:16:20 -06:00)\n"
     ]
    }
   ],
   "source": [
    "januarylistings = pd.read_csv('../data/January2021listings.csv')\n",
    "januarylistings.shape"
   ]
  },
  {
   "cell_type": "code",
   "execution_count": 4,
   "metadata": {},
   "outputs": [
    {
     "name": "stdout",
     "output_type": "stream",
     "text": [
      "<class 'pandas.core.frame.DataFrame'>\n",
      "RangeIndex: 6112 entries, 0 to 6111\n",
      "Data columns (total 16 columns):\n",
      " #   Column                          Non-Null Count  Dtype  \n",
      "---  ------                          --------------  -----  \n",
      " 0   id                              6112 non-null   int64  \n",
      " 1   name                            6112 non-null   object \n",
      " 2   host_id                         6112 non-null   int64  \n",
      " 3   host_name                       6110 non-null   object \n",
      " 4   neighbourhood_group             0 non-null      float64\n",
      " 5   neighbourhood                   6112 non-null   object \n",
      " 6   latitude                        6112 non-null   float64\n",
      " 7   longitude                       6112 non-null   float64\n",
      " 8   room_type                       6112 non-null   object \n",
      " 9   price                           6112 non-null   int64  \n",
      " 10  minimum_nights                  6112 non-null   int64  \n",
      " 11  number_of_reviews               6112 non-null   int64  \n",
      " 12  last_review                     5224 non-null   object \n",
      " 13  reviews_per_month               5224 non-null   float64\n",
      " 14  calculated_host_listings_count  6112 non-null   int64  \n",
      " 15  availability_365                6112 non-null   int64  \n",
      "dtypes: float64(4), int64(7), object(5)\n",
      "memory usage: 764.1+ KB\n",
      "time: 16 ms (started: 2021-12-16 00:16:22 -06:00)\n"
     ]
    }
   ],
   "source": [
    "januarylistings.info()"
   ]
  },
  {
   "cell_type": "code",
   "execution_count": 5,
   "metadata": {},
   "outputs": [
    {
     "data": {
      "text/html": [
       "<div>\n",
       "<style scoped>\n",
       "    .dataframe tbody tr th:only-of-type {\n",
       "        vertical-align: middle;\n",
       "    }\n",
       "\n",
       "    .dataframe tbody tr th {\n",
       "        vertical-align: top;\n",
       "    }\n",
       "\n",
       "    .dataframe thead th {\n",
       "        text-align: right;\n",
       "    }\n",
       "</style>\n",
       "<table border=\"1\" class=\"dataframe\">\n",
       "  <thead>\n",
       "    <tr style=\"text-align: right;\">\n",
       "      <th></th>\n",
       "      <th>id</th>\n",
       "      <th>name</th>\n",
       "      <th>host_id</th>\n",
       "      <th>host_name</th>\n",
       "      <th>neighbourhood_group</th>\n",
       "      <th>neighbourhood</th>\n",
       "      <th>latitude</th>\n",
       "      <th>longitude</th>\n",
       "      <th>room_type</th>\n",
       "      <th>price</th>\n",
       "      <th>minimum_nights</th>\n",
       "      <th>number_of_reviews</th>\n",
       "      <th>last_review</th>\n",
       "      <th>reviews_per_month</th>\n",
       "      <th>calculated_host_listings_count</th>\n",
       "      <th>availability_365</th>\n",
       "    </tr>\n",
       "  </thead>\n",
       "  <tbody>\n",
       "    <tr>\n",
       "      <th>0</th>\n",
       "      <td>6422</td>\n",
       "      <td>Nashville Charm</td>\n",
       "      <td>12172</td>\n",
       "      <td>Michele</td>\n",
       "      <td>NaN</td>\n",
       "      <td>District 6</td>\n",
       "      <td>36.17315</td>\n",
       "      <td>-86.73581</td>\n",
       "      <td>Private room</td>\n",
       "      <td>40</td>\n",
       "      <td>30</td>\n",
       "      <td>674</td>\n",
       "      <td>2020-03-03</td>\n",
       "      <td>4.72</td>\n",
       "      <td>1</td>\n",
       "      <td>236</td>\n",
       "    </tr>\n",
       "    <tr>\n",
       "      <th>1</th>\n",
       "      <td>25613</td>\n",
       "      <td>Room in Historic East Nashville Craftsman Home</td>\n",
       "      <td>95811</td>\n",
       "      <td>Nell</td>\n",
       "      <td>NaN</td>\n",
       "      <td>District 6</td>\n",
       "      <td>36.17826</td>\n",
       "      <td>-86.74162</td>\n",
       "      <td>Private room</td>\n",
       "      <td>75</td>\n",
       "      <td>2</td>\n",
       "      <td>510</td>\n",
       "      <td>2020-03-14</td>\n",
       "      <td>3.90</td>\n",
       "      <td>1</td>\n",
       "      <td>32</td>\n",
       "    </tr>\n",
       "    <tr>\n",
       "      <th>2</th>\n",
       "      <td>136015</td>\n",
       "      <td>Apart. on the Ridge near Opryland</td>\n",
       "      <td>666322</td>\n",
       "      <td>Dave And Peggy</td>\n",
       "      <td>NaN</td>\n",
       "      <td>District 15</td>\n",
       "      <td>36.19464</td>\n",
       "      <td>-86.67195</td>\n",
       "      <td>Entire home/apt</td>\n",
       "      <td>103</td>\n",
       "      <td>30</td>\n",
       "      <td>50</td>\n",
       "      <td>2020-08-04</td>\n",
       "      <td>0.43</td>\n",
       "      <td>2</td>\n",
       "      <td>1</td>\n",
       "    </tr>\n",
       "    <tr>\n",
       "      <th>3</th>\n",
       "      <td>137063</td>\n",
       "      <td>Furnished basement room for rent</td>\n",
       "      <td>670408</td>\n",
       "      <td>Richard</td>\n",
       "      <td>NaN</td>\n",
       "      <td>District 26</td>\n",
       "      <td>36.09212</td>\n",
       "      <td>-86.71302</td>\n",
       "      <td>Private room</td>\n",
       "      <td>50</td>\n",
       "      <td>1</td>\n",
       "      <td>0</td>\n",
       "      <td>NaN</td>\n",
       "      <td>NaN</td>\n",
       "      <td>1</td>\n",
       "      <td>365</td>\n",
       "    </tr>\n",
       "    <tr>\n",
       "      <th>4</th>\n",
       "      <td>258817</td>\n",
       "      <td>ButterflyRoom-private bath- open Jan 26</td>\n",
       "      <td>22296</td>\n",
       "      <td>Diana</td>\n",
       "      <td>NaN</td>\n",
       "      <td>District 12</td>\n",
       "      <td>36.16249</td>\n",
       "      <td>-86.58988</td>\n",
       "      <td>Private room</td>\n",
       "      <td>27</td>\n",
       "      <td>30</td>\n",
       "      <td>96</td>\n",
       "      <td>2019-12-14</td>\n",
       "      <td>0.87</td>\n",
       "      <td>7</td>\n",
       "      <td>364</td>\n",
       "    </tr>\n",
       "  </tbody>\n",
       "</table>\n",
       "</div>"
      ],
      "text/plain": [
       "       id                                            name  host_id  \\\n",
       "0    6422                                 Nashville Charm    12172   \n",
       "1   25613  Room in Historic East Nashville Craftsman Home    95811   \n",
       "2  136015               Apart. on the Ridge near Opryland   666322   \n",
       "3  137063                Furnished basement room for rent   670408   \n",
       "4  258817         ButterflyRoom-private bath- open Jan 26    22296   \n",
       "\n",
       "        host_name  neighbourhood_group neighbourhood  latitude  longitude  \\\n",
       "0         Michele                  NaN    District 6  36.17315  -86.73581   \n",
       "1            Nell                  NaN    District 6  36.17826  -86.74162   \n",
       "2  Dave And Peggy                  NaN   District 15  36.19464  -86.67195   \n",
       "3         Richard                  NaN   District 26  36.09212  -86.71302   \n",
       "4           Diana                  NaN   District 12  36.16249  -86.58988   \n",
       "\n",
       "         room_type  price  minimum_nights  number_of_reviews last_review  \\\n",
       "0     Private room     40              30                674  2020-03-03   \n",
       "1     Private room     75               2                510  2020-03-14   \n",
       "2  Entire home/apt    103              30                 50  2020-08-04   \n",
       "3     Private room     50               1                  0         NaN   \n",
       "4     Private room     27              30                 96  2019-12-14   \n",
       "\n",
       "   reviews_per_month  calculated_host_listings_count  availability_365  \n",
       "0               4.72                               1               236  \n",
       "1               3.90                               1                32  \n",
       "2               0.43                               2                 1  \n",
       "3                NaN                               1               365  \n",
       "4               0.87                               7               364  "
      ]
     },
     "execution_count": 5,
     "metadata": {},
     "output_type": "execute_result"
    },
    {
     "name": "stdout",
     "output_type": "stream",
     "text": [
      "time: 31 ms (started: 2021-12-16 00:16:24 -06:00)\n"
     ]
    }
   ],
   "source": [
    "januarylistings.head()"
   ]
  },
  {
   "cell_type": "code",
   "execution_count": 6,
   "metadata": {},
   "outputs": [
    {
     "name": "stdout",
     "output_type": "stream",
     "text": [
      "time: 0 ns (started: 2021-12-16 00:16:27 -06:00)\n"
     ]
    }
   ],
   "source": [
    "all_filenames = [i for i in glob.glob('../data/*.{}'.format('csv'))]"
   ]
  },
  {
   "cell_type": "code",
   "execution_count": 7,
   "metadata": {},
   "outputs": [
    {
     "name": "stdout",
     "output_type": "stream",
     "text": [
      "['../data\\\\April2021listings.csv', '../data\\\\April2021neighbourhoods.csv', '../data\\\\August2021listings.csv', '../data\\\\August2021neighbourhoods.csv', '../data\\\\City_zhvi_uc_sfr_tier_0.33_0.67_sm_sa_month.csv', '../data\\\\December2020listings.csv', '../data\\\\December2020neighbourhoods.csv', '../data\\\\feb2021listings.csv', '../data\\\\feb2021neighbourhoods.csv', '../data\\\\House Price Index for Nashville.csv', '../data\\\\January2021listings.csv', '../data\\\\January2021neighbourhoods.csv', '../data\\\\July2021listings.csv', '../data\\\\July2021neighbourhoods.csv', '../data\\\\June2021listings.csv', '../data\\\\June2021neighbourhoods.csv', '../data\\\\Metro_invt_fs_uc_sfrcondo_sm_month.csv', '../data\\\\Metro_mlp_uc_sfrcondo_sm_month.csv', '../data\\\\Metro_sales_count_now_uc_sfrcondo_month.csv', '../data\\\\October2021listings.csv', '../data\\\\October2021neighbourhoods.csv', '../data\\\\RDC_Inventory_Core_Metrics_County_History.csv', '../data\\\\redfin_2021-12-09-17-27-26.csv', '../data\\\\redfin_2021-12-09-19-15-56.csv', '../data\\\\September2021listings.csv', '../data\\\\September2021neighbourhoods.csv']\n",
      "time: 0 ns (started: 2021-12-16 00:16:28 -06:00)\n"
     ]
    }
   ],
   "source": [
    "print(all_filenames)"
   ]
  },
  {
   "cell_type": "code",
   "execution_count": 8,
   "metadata": {},
   "outputs": [
    {
     "name": "stderr",
     "output_type": "stream",
     "text": [
      "C:\\Users\\YASHAC~1\\AppData\\Local\\Temp/ipykernel_16120/2231667099.py:2: DtypeWarning: Columns (0,1) have mixed types.Specify dtype option on import or set low_memory=False.\n",
      "  combined_months = pd.concat([pd.read_csv(f) for f in all_filenames ])\n"
     ]
    },
    {
     "name": "stdout",
     "output_type": "stream",
     "text": [
      "time: 3.78 s (started: 2021-12-16 00:16:31 -06:00)\n"
     ]
    }
   ],
   "source": [
    "#data is missing march - november and december\n",
    "combined_months = pd.concat([pd.read_csv(f) for f in all_filenames ])"
   ]
  },
  {
   "cell_type": "code",
   "execution_count": 9,
   "metadata": {},
   "outputs": [
    {
     "name": "stdout",
     "output_type": "stream",
     "text": [
      "<class 'pandas.core.frame.DataFrame'>\n",
      "Int64Index: 284624 entries, 0 to 34\n",
      "Columns: 358 entries, id to LONGITUDE\n",
      "dtypes: float64(330), object(28)\n",
      "memory usage: 779.6+ MB\n",
      "time: 31 ms (started: 2021-12-16 00:16:43 -06:00)\n"
     ]
    }
   ],
   "source": [
    "combined_months.info()"
   ]
  },
  {
   "cell_type": "code",
   "execution_count": 11,
   "metadata": {},
   "outputs": [
    {
     "name": "stdout",
     "output_type": "stream",
     "text": [
      "time: 1.81 s (started: 2021-12-16 00:17:12 -06:00)\n"
     ]
    }
   ],
   "source": [
    "#drops columns that have only NAN values\n",
    "combined_months.dropna(how='all', axis=1, inplace=True)\n"
   ]
  },
  {
   "cell_type": "code",
   "execution_count": 12,
   "metadata": {},
   "outputs": [
    {
     "name": "stdout",
     "output_type": "stream",
     "text": [
      "time: 390 ms (started: 2021-12-16 00:17:15 -06:00)\n"
     ]
    }
   ],
   "source": [
    "combined_months = combined_months.drop(['neighbourhood'], axis=1)"
   ]
  },
  {
   "cell_type": "code",
   "execution_count": 13,
   "metadata": {},
   "outputs": [
    {
     "data": {
      "text/html": [
       "<div>\n",
       "<style scoped>\n",
       "    .dataframe tbody tr th:only-of-type {\n",
       "        vertical-align: middle;\n",
       "    }\n",
       "\n",
       "    .dataframe tbody tr th {\n",
       "        vertical-align: top;\n",
       "    }\n",
       "\n",
       "    .dataframe thead th {\n",
       "        text-align: right;\n",
       "    }\n",
       "</style>\n",
       "<table border=\"1\" class=\"dataframe\">\n",
       "  <thead>\n",
       "    <tr style=\"text-align: right;\">\n",
       "      <th></th>\n",
       "      <th>id</th>\n",
       "      <th>name</th>\n",
       "      <th>host_id</th>\n",
       "      <th>host_name</th>\n",
       "      <th>latitude</th>\n",
       "      <th>longitude</th>\n",
       "      <th>room_type</th>\n",
       "      <th>price</th>\n",
       "      <th>minimum_nights</th>\n",
       "      <th>number_of_reviews</th>\n",
       "      <th>...</th>\n",
       "      <th>$/SQUARE FEET</th>\n",
       "      <th>HOA/MONTH</th>\n",
       "      <th>STATUS</th>\n",
       "      <th>URL (SEE https://www.redfin.com/buy-a-home/comparative-market-analysis FOR INFO ON PRICING)</th>\n",
       "      <th>SOURCE</th>\n",
       "      <th>MLS#</th>\n",
       "      <th>FAVORITE</th>\n",
       "      <th>INTERESTED</th>\n",
       "      <th>LATITUDE</th>\n",
       "      <th>LONGITUDE</th>\n",
       "    </tr>\n",
       "  </thead>\n",
       "  <tbody>\n",
       "    <tr>\n",
       "      <th>0</th>\n",
       "      <td>6422.0</td>\n",
       "      <td>Nashville Charm</td>\n",
       "      <td>12172.0</td>\n",
       "      <td>Michele</td>\n",
       "      <td>36.17315</td>\n",
       "      <td>-86.73581</td>\n",
       "      <td>Private room</td>\n",
       "      <td>40.0</td>\n",
       "      <td>30.0</td>\n",
       "      <td>674.0</td>\n",
       "      <td>...</td>\n",
       "      <td>NaN</td>\n",
       "      <td>NaN</td>\n",
       "      <td>NaN</td>\n",
       "      <td>NaN</td>\n",
       "      <td>NaN</td>\n",
       "      <td>NaN</td>\n",
       "      <td>NaN</td>\n",
       "      <td>NaN</td>\n",
       "      <td>NaN</td>\n",
       "      <td>NaN</td>\n",
       "    </tr>\n",
       "    <tr>\n",
       "      <th>1</th>\n",
       "      <td>25613.0</td>\n",
       "      <td>Room in Historic East Nashville Craftsman Home</td>\n",
       "      <td>95811.0</td>\n",
       "      <td>Nell</td>\n",
       "      <td>36.17826</td>\n",
       "      <td>-86.74162</td>\n",
       "      <td>Private room</td>\n",
       "      <td>75.0</td>\n",
       "      <td>2.0</td>\n",
       "      <td>510.0</td>\n",
       "      <td>...</td>\n",
       "      <td>NaN</td>\n",
       "      <td>NaN</td>\n",
       "      <td>NaN</td>\n",
       "      <td>NaN</td>\n",
       "      <td>NaN</td>\n",
       "      <td>NaN</td>\n",
       "      <td>NaN</td>\n",
       "      <td>NaN</td>\n",
       "      <td>NaN</td>\n",
       "      <td>NaN</td>\n",
       "    </tr>\n",
       "    <tr>\n",
       "      <th>2</th>\n",
       "      <td>39870.0</td>\n",
       "      <td>Close to Vanderbilt 2</td>\n",
       "      <td>171184.0</td>\n",
       "      <td>Evelyn</td>\n",
       "      <td>36.12523</td>\n",
       "      <td>-86.81278</td>\n",
       "      <td>Private room</td>\n",
       "      <td>60.0</td>\n",
       "      <td>1.0</td>\n",
       "      <td>262.0</td>\n",
       "      <td>...</td>\n",
       "      <td>NaN</td>\n",
       "      <td>NaN</td>\n",
       "      <td>NaN</td>\n",
       "      <td>NaN</td>\n",
       "      <td>NaN</td>\n",
       "      <td>NaN</td>\n",
       "      <td>NaN</td>\n",
       "      <td>NaN</td>\n",
       "      <td>NaN</td>\n",
       "      <td>NaN</td>\n",
       "    </tr>\n",
       "    <tr>\n",
       "      <th>3</th>\n",
       "      <td>258817.0</td>\n",
       "      <td>ButterflyRoom-private bath- open May 16</td>\n",
       "      <td>22296.0</td>\n",
       "      <td>Diana</td>\n",
       "      <td>36.16249</td>\n",
       "      <td>-86.58988</td>\n",
       "      <td>Private room</td>\n",
       "      <td>29.0</td>\n",
       "      <td>30.0</td>\n",
       "      <td>96.0</td>\n",
       "      <td>...</td>\n",
       "      <td>NaN</td>\n",
       "      <td>NaN</td>\n",
       "      <td>NaN</td>\n",
       "      <td>NaN</td>\n",
       "      <td>NaN</td>\n",
       "      <td>NaN</td>\n",
       "      <td>NaN</td>\n",
       "      <td>NaN</td>\n",
       "      <td>NaN</td>\n",
       "      <td>NaN</td>\n",
       "    </tr>\n",
       "    <tr>\n",
       "      <th>4</th>\n",
       "      <td>289242.0</td>\n",
       "      <td>MorningstarHouse, monthly room- open may 1</td>\n",
       "      <td>22296.0</td>\n",
       "      <td>Diana</td>\n",
       "      <td>36.16102</td>\n",
       "      <td>-86.59207</td>\n",
       "      <td>Private room</td>\n",
       "      <td>28.0</td>\n",
       "      <td>30.0</td>\n",
       "      <td>76.0</td>\n",
       "      <td>...</td>\n",
       "      <td>NaN</td>\n",
       "      <td>NaN</td>\n",
       "      <td>NaN</td>\n",
       "      <td>NaN</td>\n",
       "      <td>NaN</td>\n",
       "      <td>NaN</td>\n",
       "      <td>NaN</td>\n",
       "      <td>NaN</td>\n",
       "      <td>NaN</td>\n",
       "      <td>NaN</td>\n",
       "    </tr>\n",
       "  </tbody>\n",
       "</table>\n",
       "<p>5 rows × 352 columns</p>\n",
       "</div>"
      ],
      "text/plain": [
       "         id                                            name   host_id  \\\n",
       "0    6422.0                                 Nashville Charm   12172.0   \n",
       "1   25613.0  Room in Historic East Nashville Craftsman Home   95811.0   \n",
       "2   39870.0                           Close to Vanderbilt 2  171184.0   \n",
       "3  258817.0         ButterflyRoom-private bath- open May 16   22296.0   \n",
       "4  289242.0      MorningstarHouse, monthly room- open may 1   22296.0   \n",
       "\n",
       "  host_name  latitude  longitude     room_type  price  minimum_nights  \\\n",
       "0   Michele  36.17315  -86.73581  Private room   40.0            30.0   \n",
       "1      Nell  36.17826  -86.74162  Private room   75.0             2.0   \n",
       "2    Evelyn  36.12523  -86.81278  Private room   60.0             1.0   \n",
       "3     Diana  36.16249  -86.58988  Private room   29.0            30.0   \n",
       "4     Diana  36.16102  -86.59207  Private room   28.0            30.0   \n",
       "\n",
       "   number_of_reviews  ... $/SQUARE FEET  HOA/MONTH  STATUS  \\\n",
       "0              674.0  ...           NaN        NaN     NaN   \n",
       "1              510.0  ...           NaN        NaN     NaN   \n",
       "2              262.0  ...           NaN        NaN     NaN   \n",
       "3               96.0  ...           NaN        NaN     NaN   \n",
       "4               76.0  ...           NaN        NaN     NaN   \n",
       "\n",
       "   URL (SEE https://www.redfin.com/buy-a-home/comparative-market-analysis FOR INFO ON PRICING)  \\\n",
       "0                                                NaN                                             \n",
       "1                                                NaN                                             \n",
       "2                                                NaN                                             \n",
       "3                                                NaN                                             \n",
       "4                                                NaN                                             \n",
       "\n",
       "   SOURCE  MLS#  FAVORITE INTERESTED LATITUDE LONGITUDE  \n",
       "0     NaN   NaN       NaN        NaN      NaN       NaN  \n",
       "1     NaN   NaN       NaN        NaN      NaN       NaN  \n",
       "2     NaN   NaN       NaN        NaN      NaN       NaN  \n",
       "3     NaN   NaN       NaN        NaN      NaN       NaN  \n",
       "4     NaN   NaN       NaN        NaN      NaN       NaN  \n",
       "\n",
       "[5 rows x 352 columns]"
      ]
     },
     "execution_count": 13,
     "metadata": {},
     "output_type": "execute_result"
    },
    {
     "name": "stdout",
     "output_type": "stream",
     "text": [
      "time: 16 ms (started: 2021-12-16 00:17:17 -06:00)\n"
     ]
    }
   ],
   "source": [
    "combined_months.head()"
   ]
  },
  {
   "cell_type": "code",
   "execution_count": 14,
   "metadata": {},
   "outputs": [
    {
     "data": {
      "text/html": [
       "<div>\n",
       "<style scoped>\n",
       "    .dataframe tbody tr th:only-of-type {\n",
       "        vertical-align: middle;\n",
       "    }\n",
       "\n",
       "    .dataframe tbody tr th {\n",
       "        vertical-align: top;\n",
       "    }\n",
       "\n",
       "    .dataframe thead th {\n",
       "        text-align: right;\n",
       "    }\n",
       "</style>\n",
       "<table border=\"1\" class=\"dataframe\">\n",
       "  <thead>\n",
       "    <tr style=\"text-align: right;\">\n",
       "      <th></th>\n",
       "      <th>id</th>\n",
       "      <th>host_id</th>\n",
       "      <th>latitude</th>\n",
       "      <th>longitude</th>\n",
       "      <th>price</th>\n",
       "      <th>minimum_nights</th>\n",
       "      <th>number_of_reviews</th>\n",
       "      <th>reviews_per_month</th>\n",
       "      <th>calculated_host_listings_count</th>\n",
       "      <th>availability_365</th>\n",
       "      <th>...</th>\n",
       "      <th>BEDS</th>\n",
       "      <th>BATHS</th>\n",
       "      <th>SQUARE FEET</th>\n",
       "      <th>LOT SIZE</th>\n",
       "      <th>YEAR BUILT</th>\n",
       "      <th>$/SQUARE FEET</th>\n",
       "      <th>HOA/MONTH</th>\n",
       "      <th>MLS#</th>\n",
       "      <th>LATITUDE</th>\n",
       "      <th>LONGITUDE</th>\n",
       "    </tr>\n",
       "  </thead>\n",
       "  <tbody>\n",
       "    <tr>\n",
       "      <th>count</th>\n",
       "      <td>5.526800e+04</td>\n",
       "      <td>5.526800e+04</td>\n",
       "      <td>55268.000000</td>\n",
       "      <td>55268.000000</td>\n",
       "      <td>55268.000000</td>\n",
       "      <td>55268.000000</td>\n",
       "      <td>55268.000000</td>\n",
       "      <td>47985.000000</td>\n",
       "      <td>55268.000000</td>\n",
       "      <td>55268.000000</td>\n",
       "      <td>...</td>\n",
       "      <td>569.000000</td>\n",
       "      <td>573.000000</td>\n",
       "      <td>581.000000</td>\n",
       "      <td>6.180000e+02</td>\n",
       "      <td>587.000000</td>\n",
       "      <td>581.000000</td>\n",
       "      <td>292.000000</td>\n",
       "      <td>6.000000e+02</td>\n",
       "      <td>700.000000</td>\n",
       "      <td>700.000000</td>\n",
       "    </tr>\n",
       "    <tr>\n",
       "      <th>mean</th>\n",
       "      <td>3.258022e+07</td>\n",
       "      <td>1.245387e+08</td>\n",
       "      <td>36.161135</td>\n",
       "      <td>-86.768488</td>\n",
       "      <td>253.961949</td>\n",
       "      <td>7.026543</td>\n",
       "      <td>57.151824</td>\n",
       "      <td>3.243280</td>\n",
       "      <td>18.936455</td>\n",
       "      <td>185.616360</td>\n",
       "      <td>...</td>\n",
       "      <td>3.038664</td>\n",
       "      <td>2.322862</td>\n",
       "      <td>2703.106713</td>\n",
       "      <td>4.637080e+04</td>\n",
       "      <td>1990.156729</td>\n",
       "      <td>214.550775</td>\n",
       "      <td>126.832192</td>\n",
       "      <td>2.176430e+06</td>\n",
       "      <td>36.135738</td>\n",
       "      <td>-86.749743</td>\n",
       "    </tr>\n",
       "    <tr>\n",
       "      <th>std</th>\n",
       "      <td>1.387132e+07</td>\n",
       "      <td>1.174331e+08</td>\n",
       "      <td>0.041666</td>\n",
       "      <td>0.053000</td>\n",
       "      <td>601.408695</td>\n",
       "      <td>17.517649</td>\n",
       "      <td>87.396312</td>\n",
       "      <td>7.977515</td>\n",
       "      <td>35.831029</td>\n",
       "      <td>131.478457</td>\n",
       "      <td>...</td>\n",
       "      <td>0.927997</td>\n",
       "      <td>0.846394</td>\n",
       "      <td>12574.969089</td>\n",
       "      <td>2.635131e+05</td>\n",
       "      <td>25.613549</td>\n",
       "      <td>84.250261</td>\n",
       "      <td>134.266862</td>\n",
       "      <td>9.472311e+04</td>\n",
       "      <td>0.079561</td>\n",
       "      <td>0.103526</td>\n",
       "    </tr>\n",
       "    <tr>\n",
       "      <th>min</th>\n",
       "      <td>6.422000e+03</td>\n",
       "      <td>1.147000e+03</td>\n",
       "      <td>35.984220</td>\n",
       "      <td>-87.035210</td>\n",
       "      <td>0.000000</td>\n",
       "      <td>1.000000</td>\n",
       "      <td>0.000000</td>\n",
       "      <td>0.010000</td>\n",
       "      <td>1.000000</td>\n",
       "      <td>0.000000</td>\n",
       "      <td>...</td>\n",
       "      <td>1.000000</td>\n",
       "      <td>1.000000</td>\n",
       "      <td>600.000000</td>\n",
       "      <td>4.350000e+02</td>\n",
       "      <td>1890.000000</td>\n",
       "      <td>54.000000</td>\n",
       "      <td>2.000000</td>\n",
       "      <td>1.490794e+06</td>\n",
       "      <td>35.973645</td>\n",
       "      <td>-87.019795</td>\n",
       "    </tr>\n",
       "    <tr>\n",
       "      <th>25%</th>\n",
       "      <td>2.120349e+07</td>\n",
       "      <td>2.819603e+07</td>\n",
       "      <td>36.141600</td>\n",
       "      <td>-86.795560</td>\n",
       "      <td>102.000000</td>\n",
       "      <td>1.000000</td>\n",
       "      <td>4.000000</td>\n",
       "      <td>0.820000</td>\n",
       "      <td>1.000000</td>\n",
       "      <td>57.000000</td>\n",
       "      <td>...</td>\n",
       "      <td>3.000000</td>\n",
       "      <td>2.000000</td>\n",
       "      <td>1318.000000</td>\n",
       "      <td>4.791000e+03</td>\n",
       "      <td>1975.000000</td>\n",
       "      <td>159.000000</td>\n",
       "      <td>30.000000</td>\n",
       "      <td>2.107304e+06</td>\n",
       "      <td>36.071174</td>\n",
       "      <td>-86.813492</td>\n",
       "    </tr>\n",
       "    <tr>\n",
       "      <th>50%</th>\n",
       "      <td>3.517674e+07</td>\n",
       "      <td>8.858885e+07</td>\n",
       "      <td>36.158270</td>\n",
       "      <td>-86.775840</td>\n",
       "      <td>169.000000</td>\n",
       "      <td>2.000000</td>\n",
       "      <td>24.000000</td>\n",
       "      <td>1.960000</td>\n",
       "      <td>3.000000</td>\n",
       "      <td>181.000000</td>\n",
       "      <td>...</td>\n",
       "      <td>3.000000</td>\n",
       "      <td>2.500000</td>\n",
       "      <td>1763.000000</td>\n",
       "      <td>8.712000e+03</td>\n",
       "      <td>1996.000000</td>\n",
       "      <td>194.000000</td>\n",
       "      <td>81.500000</td>\n",
       "      <td>2.208478e+06</td>\n",
       "      <td>36.145343</td>\n",
       "      <td>-86.737892</td>\n",
       "    </tr>\n",
       "    <tr>\n",
       "      <th>75%</th>\n",
       "      <td>4.446125e+07</td>\n",
       "      <td>1.949574e+08</td>\n",
       "      <td>36.182760</td>\n",
       "      <td>-86.743260</td>\n",
       "      <td>286.000000</td>\n",
       "      <td>2.000000</td>\n",
       "      <td>74.000000</td>\n",
       "      <td>3.580000</td>\n",
       "      <td>17.000000</td>\n",
       "      <td>317.000000</td>\n",
       "      <td>...</td>\n",
       "      <td>3.000000</td>\n",
       "      <td>2.500000</td>\n",
       "      <td>2296.000000</td>\n",
       "      <td>1.481000e+04</td>\n",
       "      <td>2012.500000</td>\n",
       "      <td>253.000000</td>\n",
       "      <td>187.500000</td>\n",
       "      <td>2.244838e+06</td>\n",
       "      <td>36.186632</td>\n",
       "      <td>-86.680935</td>\n",
       "    </tr>\n",
       "    <tr>\n",
       "      <th>max</th>\n",
       "      <td>5.291577e+07</td>\n",
       "      <td>4.268888e+08</td>\n",
       "      <td>36.404770</td>\n",
       "      <td>-86.535520</td>\n",
       "      <td>25000.000000</td>\n",
       "      <td>365.000000</td>\n",
       "      <td>1080.000000</td>\n",
       "      <td>493.000000</td>\n",
       "      <td>186.000000</td>\n",
       "      <td>365.000000</td>\n",
       "      <td>...</td>\n",
       "      <td>7.000000</td>\n",
       "      <td>8.500000</td>\n",
       "      <td>270245.000000</td>\n",
       "      <td>4.480146e+06</td>\n",
       "      <td>2021.000000</td>\n",
       "      <td>813.000000</td>\n",
       "      <td>975.000000</td>\n",
       "      <td>2.305866e+06</td>\n",
       "      <td>36.374285</td>\n",
       "      <td>-86.557129</td>\n",
       "    </tr>\n",
       "  </tbody>\n",
       "</table>\n",
       "<p>8 rows × 325 columns</p>\n",
       "</div>"
      ],
      "text/plain": [
       "                 id       host_id      latitude     longitude         price  \\\n",
       "count  5.526800e+04  5.526800e+04  55268.000000  55268.000000  55268.000000   \n",
       "mean   3.258022e+07  1.245387e+08     36.161135    -86.768488    253.961949   \n",
       "std    1.387132e+07  1.174331e+08      0.041666      0.053000    601.408695   \n",
       "min    6.422000e+03  1.147000e+03     35.984220    -87.035210      0.000000   \n",
       "25%    2.120349e+07  2.819603e+07     36.141600    -86.795560    102.000000   \n",
       "50%    3.517674e+07  8.858885e+07     36.158270    -86.775840    169.000000   \n",
       "75%    4.446125e+07  1.949574e+08     36.182760    -86.743260    286.000000   \n",
       "max    5.291577e+07  4.268888e+08     36.404770    -86.535520  25000.000000   \n",
       "\n",
       "       minimum_nights  number_of_reviews  reviews_per_month  \\\n",
       "count    55268.000000       55268.000000       47985.000000   \n",
       "mean         7.026543          57.151824           3.243280   \n",
       "std         17.517649          87.396312           7.977515   \n",
       "min          1.000000           0.000000           0.010000   \n",
       "25%          1.000000           4.000000           0.820000   \n",
       "50%          2.000000          24.000000           1.960000   \n",
       "75%          2.000000          74.000000           3.580000   \n",
       "max        365.000000        1080.000000         493.000000   \n",
       "\n",
       "       calculated_host_listings_count  availability_365  ...        BEDS  \\\n",
       "count                    55268.000000      55268.000000  ...  569.000000   \n",
       "mean                        18.936455        185.616360  ...    3.038664   \n",
       "std                         35.831029        131.478457  ...    0.927997   \n",
       "min                          1.000000          0.000000  ...    1.000000   \n",
       "25%                          1.000000         57.000000  ...    3.000000   \n",
       "50%                          3.000000        181.000000  ...    3.000000   \n",
       "75%                         17.000000        317.000000  ...    3.000000   \n",
       "max                        186.000000        365.000000  ...    7.000000   \n",
       "\n",
       "            BATHS    SQUARE FEET      LOT SIZE   YEAR BUILT  $/SQUARE FEET  \\\n",
       "count  573.000000     581.000000  6.180000e+02   587.000000     581.000000   \n",
       "mean     2.322862    2703.106713  4.637080e+04  1990.156729     214.550775   \n",
       "std      0.846394   12574.969089  2.635131e+05    25.613549      84.250261   \n",
       "min      1.000000     600.000000  4.350000e+02  1890.000000      54.000000   \n",
       "25%      2.000000    1318.000000  4.791000e+03  1975.000000     159.000000   \n",
       "50%      2.500000    1763.000000  8.712000e+03  1996.000000     194.000000   \n",
       "75%      2.500000    2296.000000  1.481000e+04  2012.500000     253.000000   \n",
       "max      8.500000  270245.000000  4.480146e+06  2021.000000     813.000000   \n",
       "\n",
       "        HOA/MONTH          MLS#    LATITUDE   LONGITUDE  \n",
       "count  292.000000  6.000000e+02  700.000000  700.000000  \n",
       "mean   126.832192  2.176430e+06   36.135738  -86.749743  \n",
       "std    134.266862  9.472311e+04    0.079561    0.103526  \n",
       "min      2.000000  1.490794e+06   35.973645  -87.019795  \n",
       "25%     30.000000  2.107304e+06   36.071174  -86.813492  \n",
       "50%     81.500000  2.208478e+06   36.145343  -86.737892  \n",
       "75%    187.500000  2.244838e+06   36.186632  -86.680935  \n",
       "max    975.000000  2.305866e+06   36.374285  -86.557129  \n",
       "\n",
       "[8 rows x 325 columns]"
      ]
     },
     "execution_count": 14,
     "metadata": {},
     "output_type": "execute_result"
    },
    {
     "name": "stdout",
     "output_type": "stream",
     "text": [
      "time: 9.17 s (started: 2021-12-16 00:18:05 -06:00)\n"
     ]
    }
   ],
   "source": [
    "combined_months.describe()"
   ]
  },
  {
   "cell_type": "code",
   "execution_count": 16,
   "metadata": {},
   "outputs": [
    {
     "data": {
      "text/plain": [
       "0    36.17315,-86.73581\n",
       "0               nan,nan\n",
       "0    36.17315,-86.73581\n",
       "0               nan,nan\n",
       "0               nan,nan\n",
       "0    36.17315,-86.73581\n",
       "0               nan,nan\n",
       "0    36.17315,-86.73581\n",
       "0               nan,nan\n",
       "0               nan,nan\n",
       "0    36.17315,-86.73581\n",
       "0               nan,nan\n",
       "0    36.17315,-86.73581\n",
       "0               nan,nan\n",
       "0    36.17315,-86.73581\n",
       "0               nan,nan\n",
       "0               nan,nan\n",
       "0               nan,nan\n",
       "0               nan,nan\n",
       "0    36.17315,-86.73581\n",
       "0               nan,nan\n",
       "0               nan,nan\n",
       "0               nan,nan\n",
       "0               nan,nan\n",
       "0    36.17315,-86.73581\n",
       "0               nan,nan\n",
       "Name: geom, dtype: object"
      ]
     },
     "execution_count": 16,
     "metadata": {},
     "output_type": "execute_result"
    },
    {
     "name": "stdout",
     "output_type": "stream",
     "text": [
      "time: 281 ms (started: 2021-12-16 00:26:40 -06:00)\n"
     ]
    }
   ],
   "source": [
    "combined_months['geom'] = combined_months['latitude'].map(str) + ',' + combined_months['longitude'].map(str)\n",
    "combined_months['geom'][0]"
   ]
  },
  {
   "cell_type": "code",
   "execution_count": 19,
   "metadata": {},
   "outputs": [
    {
     "name": "stdout",
     "output_type": "stream",
     "text": [
      "time: 0 ns (started: 2021-12-16 00:27:13 -06:00)\n"
     ]
    }
   ],
   "source": [
    "locator = Photon(user_agent='myGeocoder', timeout=10)\n",
    "rgeocode = RateLimiter(locator.reverse, min_delay_seconds=0.001)"
   ]
  },
  {
   "cell_type": "code",
   "execution_count": 20,
   "metadata": {},
   "outputs": [
    {
     "name": "stdout",
     "output_type": "stream",
     "text": [
      "time: 0 ns (started: 2021-12-16 00:27:17 -06:00)\n"
     ]
    },
    {
     "name": "stderr",
     "output_type": "stream",
     "text": [
      "C:\\Users\\YASHAC~1\\AppData\\Local\\Temp/ipykernel_16120/3043108627.py:1: TqdmDeprecationWarning: This function will be removed in tqdm==5.0.0\n",
      "Please use `tqdm.notebook.*` instead of `tqdm._tqdm_notebook.*`\n",
      "  from tqdm._tqdm_notebook import tqdm_notebook\n"
     ]
    }
   ],
   "source": [
    "from tqdm._tqdm_notebook import tqdm_notebook"
   ]
  },
  {
   "cell_type": "code",
   "execution_count": 21,
   "metadata": {},
   "outputs": [
    {
     "name": "stdout",
     "output_type": "stream",
     "text": [
      "time: 0 ns (started: 2021-12-16 00:28:12 -06:00)\n"
     ]
    }
   ],
   "source": [
    "tqdm_notebook.pandas()"
   ]
  },
  {
   "cell_type": "code",
   "execution_count": null,
   "metadata": {},
   "outputs": [],
   "source": []
  },
  {
   "cell_type": "code",
   "execution_count": 24,
   "metadata": {},
   "outputs": [
    {
     "data": {
      "text/plain": [
       "nan,nan                                 229356\n",
       "36.11303,-86.76811                         323\n",
       "36.15321,-86.78339                         304\n",
       "36.15489,-86.77541                         216\n",
       "36.15551,-86.7757                          149\n",
       "                                         ...  \n",
       "36.1566,-86.77459                            1\n",
       "36.15721,-86.77284                           1\n",
       "36.15655,-86.77314                           1\n",
       "36.22164,-86.8065                            1\n",
       "36.05729142832006,-86.74697566924686         1\n",
       "Name: geom, Length: 8697, dtype: int64"
      ]
     },
     "execution_count": 24,
     "metadata": {},
     "output_type": "execute_result"
    },
    {
     "name": "stdout",
     "output_type": "stream",
     "text": [
      "time: 47 ms (started: 2021-12-16 12:04:11 -06:00)\n"
     ]
    }
   ],
   "source": [
    "combined_months['geom'].value_counts()"
   ]
  },
  {
   "cell_type": "code",
   "execution_count": 23,
   "metadata": {
    "scrolled": true
   },
   "outputs": [
    {
     "data": {
      "application/vnd.jupyter.widget-view+json": {
       "model_id": "6d1ab9971dc74f92acfdc9a0d9f81e79",
       "version_major": 2,
       "version_minor": 0
      },
      "text/plain": [
       "  0%|          | 0/284624 [00:00<?, ?it/s]"
      ]
     },
     "metadata": {},
     "output_type": "display_data"
    },
    {
     "ename": "ValueError",
     "evalue": "Must be a coordinate pair or Point",
     "output_type": "error",
     "traceback": [
      "\u001b[1;31m---------------------------------------------------------------------------\u001b[0m",
      "\u001b[1;31mValueError\u001b[0m                                Traceback (most recent call last)",
      "\u001b[1;32m~\\anaconda3\\envs\\geospatial\\lib\\site-packages\\geopy\\geocoders\\photon.py\u001b[0m in \u001b[0;36mreverse\u001b[1;34m(self, query, exactly_one, timeout, language, limit)\u001b[0m\n\u001b[0;32m    202\u001b[0m         \u001b[1;32mtry\u001b[0m\u001b[1;33m:\u001b[0m\u001b[1;33m\u001b[0m\u001b[1;33m\u001b[0m\u001b[0m\n\u001b[1;32m--> 203\u001b[1;33m             \u001b[0mlat\u001b[0m\u001b[1;33m,\u001b[0m \u001b[0mlon\u001b[0m \u001b[1;33m=\u001b[0m \u001b[0mself\u001b[0m\u001b[1;33m.\u001b[0m\u001b[0m_coerce_point_to_string\u001b[0m\u001b[1;33m(\u001b[0m\u001b[0mquery\u001b[0m\u001b[1;33m)\u001b[0m\u001b[1;33m.\u001b[0m\u001b[0msplit\u001b[0m\u001b[1;33m(\u001b[0m\u001b[1;34m','\u001b[0m\u001b[1;33m)\u001b[0m\u001b[1;33m\u001b[0m\u001b[1;33m\u001b[0m\u001b[0m\n\u001b[0m\u001b[0;32m    204\u001b[0m         \u001b[1;32mexcept\u001b[0m \u001b[0mValueError\u001b[0m\u001b[1;33m:\u001b[0m\u001b[1;33m\u001b[0m\u001b[1;33m\u001b[0m\u001b[0m\n",
      "\u001b[1;32m~\\anaconda3\\envs\\geospatial\\lib\\site-packages\\geopy\\geocoders\\base.py\u001b[0m in \u001b[0;36m_coerce_point_to_string\u001b[1;34m(self, point, output_format)\u001b[0m\n\u001b[0;32m    299\u001b[0m         \u001b[1;32mif\u001b[0m \u001b[1;32mnot\u001b[0m \u001b[0misinstance\u001b[0m\u001b[1;33m(\u001b[0m\u001b[0mpoint\u001b[0m\u001b[1;33m,\u001b[0m \u001b[0mPoint\u001b[0m\u001b[1;33m)\u001b[0m\u001b[1;33m:\u001b[0m\u001b[1;33m\u001b[0m\u001b[1;33m\u001b[0m\u001b[0m\n\u001b[1;32m--> 300\u001b[1;33m             \u001b[0mpoint\u001b[0m \u001b[1;33m=\u001b[0m \u001b[0mPoint\u001b[0m\u001b[1;33m(\u001b[0m\u001b[0mpoint\u001b[0m\u001b[1;33m)\u001b[0m\u001b[1;33m\u001b[0m\u001b[1;33m\u001b[0m\u001b[0m\n\u001b[0m\u001b[0;32m    301\u001b[0m \u001b[1;33m\u001b[0m\u001b[0m\n",
      "\u001b[1;32m~\\anaconda3\\envs\\geospatial\\lib\\site-packages\\geopy\\point.py\u001b[0m in \u001b[0;36m__new__\u001b[1;34m(cls, latitude, longitude, altitude)\u001b[0m\n\u001b[0;32m    165\u001b[0m             \u001b[1;32melif\u001b[0m \u001b[0misinstance\u001b[0m\u001b[1;33m(\u001b[0m\u001b[0marg\u001b[0m\u001b[1;33m,\u001b[0m \u001b[0mstr\u001b[0m\u001b[1;33m)\u001b[0m\u001b[1;33m:\u001b[0m\u001b[1;33m\u001b[0m\u001b[1;33m\u001b[0m\u001b[0m\n\u001b[1;32m--> 166\u001b[1;33m                 \u001b[1;32mreturn\u001b[0m \u001b[0mcls\u001b[0m\u001b[1;33m.\u001b[0m\u001b[0mfrom_string\u001b[0m\u001b[1;33m(\u001b[0m\u001b[0marg\u001b[0m\u001b[1;33m)\u001b[0m\u001b[1;33m\u001b[0m\u001b[1;33m\u001b[0m\u001b[0m\n\u001b[0m\u001b[0;32m    167\u001b[0m             \u001b[1;32melse\u001b[0m\u001b[1;33m:\u001b[0m\u001b[1;33m\u001b[0m\u001b[1;33m\u001b[0m\u001b[0m\n",
      "\u001b[1;32m~\\anaconda3\\envs\\geospatial\\lib\\site-packages\\geopy\\point.py\u001b[0m in \u001b[0;36mfrom_string\u001b[1;34m(cls, string)\u001b[0m\n\u001b[0;32m    456\u001b[0m         \u001b[1;32melse\u001b[0m\u001b[1;33m:\u001b[0m\u001b[1;33m\u001b[0m\u001b[1;33m\u001b[0m\u001b[0m\n\u001b[1;32m--> 457\u001b[1;33m             raise ValueError(\n\u001b[0m\u001b[0;32m    458\u001b[0m                 \u001b[1;34m\"Failed to create Point instance from string: unknown format.\"\u001b[0m\u001b[1;33m\u001b[0m\u001b[1;33m\u001b[0m\u001b[0m\n",
      "\u001b[1;31mValueError\u001b[0m: Failed to create Point instance from string: unknown format.",
      "\nDuring handling of the above exception, another exception occurred:\n",
      "\u001b[1;31mValueError\u001b[0m                                Traceback (most recent call last)",
      "\u001b[1;32mC:\\Users\\YASHAC~1\\AppData\\Local\\Temp/ipykernel_16120/673501548.py\u001b[0m in \u001b[0;36m<module>\u001b[1;34m\u001b[0m\n\u001b[1;32m----> 1\u001b[1;33m \u001b[0mcombined_months\u001b[0m\u001b[1;33m[\u001b[0m\u001b[1;34m'address'\u001b[0m\u001b[1;33m]\u001b[0m \u001b[1;33m=\u001b[0m \u001b[0mcombined_months\u001b[0m\u001b[1;33m[\u001b[0m\u001b[1;34m'geom'\u001b[0m\u001b[1;33m]\u001b[0m\u001b[1;33m.\u001b[0m\u001b[0mprogress_apply\u001b[0m\u001b[1;33m(\u001b[0m\u001b[0mrgeocode\u001b[0m\u001b[1;33m)\u001b[0m\u001b[1;33m\u001b[0m\u001b[1;33m\u001b[0m\u001b[0m\n\u001b[0m\u001b[0;32m      2\u001b[0m \u001b[0mcombined_months\u001b[0m\u001b[1;33m.\u001b[0m\u001b[0mhead\u001b[0m\u001b[1;33m(\u001b[0m\u001b[1;33m)\u001b[0m\u001b[1;33m\u001b[0m\u001b[1;33m\u001b[0m\u001b[0m\n",
      "\u001b[1;32m~\\anaconda3\\envs\\geospatial\\lib\\site-packages\\tqdm\\std.py\u001b[0m in \u001b[0;36minner\u001b[1;34m(df, func, *args, **kwargs)\u001b[0m\n\u001b[0;32m    812\u001b[0m                 \u001b[1;31m# on the df using our wrapper (which provides bar updating)\u001b[0m\u001b[1;33m\u001b[0m\u001b[1;33m\u001b[0m\u001b[1;33m\u001b[0m\u001b[0m\n\u001b[0;32m    813\u001b[0m                 \u001b[1;32mtry\u001b[0m\u001b[1;33m:\u001b[0m\u001b[1;33m\u001b[0m\u001b[1;33m\u001b[0m\u001b[0m\n\u001b[1;32m--> 814\u001b[1;33m                     \u001b[1;32mreturn\u001b[0m \u001b[0mgetattr\u001b[0m\u001b[1;33m(\u001b[0m\u001b[0mdf\u001b[0m\u001b[1;33m,\u001b[0m \u001b[0mdf_function\u001b[0m\u001b[1;33m)\u001b[0m\u001b[1;33m(\u001b[0m\u001b[0mwrapper\u001b[0m\u001b[1;33m,\u001b[0m \u001b[1;33m**\u001b[0m\u001b[0mkwargs\u001b[0m\u001b[1;33m)\u001b[0m\u001b[1;33m\u001b[0m\u001b[1;33m\u001b[0m\u001b[0m\n\u001b[0m\u001b[0;32m    815\u001b[0m                 \u001b[1;32mfinally\u001b[0m\u001b[1;33m:\u001b[0m\u001b[1;33m\u001b[0m\u001b[1;33m\u001b[0m\u001b[0m\n\u001b[0;32m    816\u001b[0m                     \u001b[0mt\u001b[0m\u001b[1;33m.\u001b[0m\u001b[0mclose\u001b[0m\u001b[1;33m(\u001b[0m\u001b[1;33m)\u001b[0m\u001b[1;33m\u001b[0m\u001b[1;33m\u001b[0m\u001b[0m\n",
      "\u001b[1;32m~\\anaconda3\\envs\\geospatial\\lib\\site-packages\\pandas\\core\\series.py\u001b[0m in \u001b[0;36mapply\u001b[1;34m(self, func, convert_dtype, args, **kwargs)\u001b[0m\n\u001b[0;32m   4355\u001b[0m         \u001b[0mdtype\u001b[0m\u001b[1;33m:\u001b[0m \u001b[0mfloat64\u001b[0m\u001b[1;33m\u001b[0m\u001b[1;33m\u001b[0m\u001b[0m\n\u001b[0;32m   4356\u001b[0m         \"\"\"\n\u001b[1;32m-> 4357\u001b[1;33m         \u001b[1;32mreturn\u001b[0m \u001b[0mSeriesApply\u001b[0m\u001b[1;33m(\u001b[0m\u001b[0mself\u001b[0m\u001b[1;33m,\u001b[0m \u001b[0mfunc\u001b[0m\u001b[1;33m,\u001b[0m \u001b[0mconvert_dtype\u001b[0m\u001b[1;33m,\u001b[0m \u001b[0margs\u001b[0m\u001b[1;33m,\u001b[0m \u001b[0mkwargs\u001b[0m\u001b[1;33m)\u001b[0m\u001b[1;33m.\u001b[0m\u001b[0mapply\u001b[0m\u001b[1;33m(\u001b[0m\u001b[1;33m)\u001b[0m\u001b[1;33m\u001b[0m\u001b[1;33m\u001b[0m\u001b[0m\n\u001b[0m\u001b[0;32m   4358\u001b[0m \u001b[1;33m\u001b[0m\u001b[0m\n\u001b[0;32m   4359\u001b[0m     def _reduce(\n",
      "\u001b[1;32m~\\anaconda3\\envs\\geospatial\\lib\\site-packages\\pandas\\core\\apply.py\u001b[0m in \u001b[0;36mapply\u001b[1;34m(self)\u001b[0m\n\u001b[0;32m   1041\u001b[0m             \u001b[1;32mreturn\u001b[0m \u001b[0mself\u001b[0m\u001b[1;33m.\u001b[0m\u001b[0mapply_str\u001b[0m\u001b[1;33m(\u001b[0m\u001b[1;33m)\u001b[0m\u001b[1;33m\u001b[0m\u001b[1;33m\u001b[0m\u001b[0m\n\u001b[0;32m   1042\u001b[0m \u001b[1;33m\u001b[0m\u001b[0m\n\u001b[1;32m-> 1043\u001b[1;33m         \u001b[1;32mreturn\u001b[0m \u001b[0mself\u001b[0m\u001b[1;33m.\u001b[0m\u001b[0mapply_standard\u001b[0m\u001b[1;33m(\u001b[0m\u001b[1;33m)\u001b[0m\u001b[1;33m\u001b[0m\u001b[1;33m\u001b[0m\u001b[0m\n\u001b[0m\u001b[0;32m   1044\u001b[0m \u001b[1;33m\u001b[0m\u001b[0m\n\u001b[0;32m   1045\u001b[0m     \u001b[1;32mdef\u001b[0m \u001b[0magg\u001b[0m\u001b[1;33m(\u001b[0m\u001b[0mself\u001b[0m\u001b[1;33m)\u001b[0m\u001b[1;33m:\u001b[0m\u001b[1;33m\u001b[0m\u001b[1;33m\u001b[0m\u001b[0m\n",
      "\u001b[1;32m~\\anaconda3\\envs\\geospatial\\lib\\site-packages\\pandas\\core\\apply.py\u001b[0m in \u001b[0;36mapply_standard\u001b[1;34m(self)\u001b[0m\n\u001b[0;32m   1097\u001b[0m                 \u001b[1;31m# List[Union[Callable[..., Any], str]]]]]\"; expected\u001b[0m\u001b[1;33m\u001b[0m\u001b[1;33m\u001b[0m\u001b[1;33m\u001b[0m\u001b[0m\n\u001b[0;32m   1098\u001b[0m                 \u001b[1;31m# \"Callable[[Any], Any]\"\u001b[0m\u001b[1;33m\u001b[0m\u001b[1;33m\u001b[0m\u001b[1;33m\u001b[0m\u001b[0m\n\u001b[1;32m-> 1099\u001b[1;33m                 mapped = lib.map_infer(\n\u001b[0m\u001b[0;32m   1100\u001b[0m                     \u001b[0mvalues\u001b[0m\u001b[1;33m,\u001b[0m\u001b[1;33m\u001b[0m\u001b[1;33m\u001b[0m\u001b[0m\n\u001b[0;32m   1101\u001b[0m                     \u001b[0mf\u001b[0m\u001b[1;33m,\u001b[0m  \u001b[1;31m# type: ignore[arg-type]\u001b[0m\u001b[1;33m\u001b[0m\u001b[1;33m\u001b[0m\u001b[0m\n",
      "\u001b[1;32m~\\anaconda3\\envs\\geospatial\\lib\\site-packages\\pandas\\_libs\\lib.pyx\u001b[0m in \u001b[0;36mpandas._libs.lib.map_infer\u001b[1;34m()\u001b[0m\n",
      "\u001b[1;32m~\\anaconda3\\envs\\geospatial\\lib\\site-packages\\tqdm\\std.py\u001b[0m in \u001b[0;36mwrapper\u001b[1;34m(*args, **kwargs)\u001b[0m\n\u001b[0;32m    807\u001b[0m                     \u001b[1;31m# take a fast or slow code path; so stop when t.total==t.n\u001b[0m\u001b[1;33m\u001b[0m\u001b[1;33m\u001b[0m\u001b[1;33m\u001b[0m\u001b[0m\n\u001b[0;32m    808\u001b[0m                     \u001b[0mt\u001b[0m\u001b[1;33m.\u001b[0m\u001b[0mupdate\u001b[0m\u001b[1;33m(\u001b[0m\u001b[0mn\u001b[0m\u001b[1;33m=\u001b[0m\u001b[1;36m1\u001b[0m \u001b[1;32mif\u001b[0m \u001b[1;32mnot\u001b[0m \u001b[0mt\u001b[0m\u001b[1;33m.\u001b[0m\u001b[0mtotal\u001b[0m \u001b[1;32mor\u001b[0m \u001b[0mt\u001b[0m\u001b[1;33m.\u001b[0m\u001b[0mn\u001b[0m \u001b[1;33m<\u001b[0m \u001b[0mt\u001b[0m\u001b[1;33m.\u001b[0m\u001b[0mtotal\u001b[0m \u001b[1;32melse\u001b[0m \u001b[1;36m0\u001b[0m\u001b[1;33m)\u001b[0m\u001b[1;33m\u001b[0m\u001b[1;33m\u001b[0m\u001b[0m\n\u001b[1;32m--> 809\u001b[1;33m                     \u001b[1;32mreturn\u001b[0m \u001b[0mfunc\u001b[0m\u001b[1;33m(\u001b[0m\u001b[1;33m*\u001b[0m\u001b[0margs\u001b[0m\u001b[1;33m,\u001b[0m \u001b[1;33m**\u001b[0m\u001b[0mkwargs\u001b[0m\u001b[1;33m)\u001b[0m\u001b[1;33m\u001b[0m\u001b[1;33m\u001b[0m\u001b[0m\n\u001b[0m\u001b[0;32m    810\u001b[0m \u001b[1;33m\u001b[0m\u001b[0m\n\u001b[0;32m    811\u001b[0m                 \u001b[1;31m# Apply the provided function (in **kwargs)\u001b[0m\u001b[1;33m\u001b[0m\u001b[1;33m\u001b[0m\u001b[1;33m\u001b[0m\u001b[0m\n",
      "\u001b[1;32m~\\anaconda3\\envs\\geospatial\\lib\\site-packages\\geopy\\extra\\rate_limiter.py\u001b[0m in \u001b[0;36m__call__\u001b[1;34m(self, *args, **kwargs)\u001b[0m\n\u001b[0;32m    272\u001b[0m             \u001b[0mself\u001b[0m\u001b[1;33m.\u001b[0m\u001b[0m_acquire_request_slot\u001b[0m\u001b[1;33m(\u001b[0m\u001b[1;33m)\u001b[0m\u001b[1;33m\u001b[0m\u001b[1;33m\u001b[0m\u001b[0m\n\u001b[0;32m    273\u001b[0m             \u001b[1;32mtry\u001b[0m\u001b[1;33m:\u001b[0m\u001b[1;33m\u001b[0m\u001b[1;33m\u001b[0m\u001b[0m\n\u001b[1;32m--> 274\u001b[1;33m                 \u001b[0mres\u001b[0m \u001b[1;33m=\u001b[0m \u001b[0mself\u001b[0m\u001b[1;33m.\u001b[0m\u001b[0mfunc\u001b[0m\u001b[1;33m(\u001b[0m\u001b[1;33m*\u001b[0m\u001b[0margs\u001b[0m\u001b[1;33m,\u001b[0m \u001b[1;33m**\u001b[0m\u001b[0mkwargs\u001b[0m\u001b[1;33m)\u001b[0m\u001b[1;33m\u001b[0m\u001b[1;33m\u001b[0m\u001b[0m\n\u001b[0m\u001b[0;32m    275\u001b[0m                 \u001b[1;32mif\u001b[0m \u001b[0minspect\u001b[0m\u001b[1;33m.\u001b[0m\u001b[0misawaitable\u001b[0m\u001b[1;33m(\u001b[0m\u001b[0mres\u001b[0m\u001b[1;33m)\u001b[0m\u001b[1;33m:\u001b[0m\u001b[1;33m\u001b[0m\u001b[1;33m\u001b[0m\u001b[0m\n\u001b[0;32m    276\u001b[0m                     raise ValueError(\n",
      "\u001b[1;32m~\\anaconda3\\envs\\geospatial\\lib\\site-packages\\geopy\\geocoders\\photon.py\u001b[0m in \u001b[0;36mreverse\u001b[1;34m(self, query, exactly_one, timeout, language, limit)\u001b[0m\n\u001b[0;32m    203\u001b[0m             \u001b[0mlat\u001b[0m\u001b[1;33m,\u001b[0m \u001b[0mlon\u001b[0m \u001b[1;33m=\u001b[0m \u001b[0mself\u001b[0m\u001b[1;33m.\u001b[0m\u001b[0m_coerce_point_to_string\u001b[0m\u001b[1;33m(\u001b[0m\u001b[0mquery\u001b[0m\u001b[1;33m)\u001b[0m\u001b[1;33m.\u001b[0m\u001b[0msplit\u001b[0m\u001b[1;33m(\u001b[0m\u001b[1;34m','\u001b[0m\u001b[1;33m)\u001b[0m\u001b[1;33m\u001b[0m\u001b[1;33m\u001b[0m\u001b[0m\n\u001b[0;32m    204\u001b[0m         \u001b[1;32mexcept\u001b[0m \u001b[0mValueError\u001b[0m\u001b[1;33m:\u001b[0m\u001b[1;33m\u001b[0m\u001b[1;33m\u001b[0m\u001b[0m\n\u001b[1;32m--> 205\u001b[1;33m             \u001b[1;32mraise\u001b[0m \u001b[0mValueError\u001b[0m\u001b[1;33m(\u001b[0m\u001b[1;34m\"Must be a coordinate pair or Point\"\u001b[0m\u001b[1;33m)\u001b[0m\u001b[1;33m\u001b[0m\u001b[1;33m\u001b[0m\u001b[0m\n\u001b[0m\u001b[0;32m    206\u001b[0m         params = {\n\u001b[0;32m    207\u001b[0m             \u001b[1;34m'lat'\u001b[0m\u001b[1;33m:\u001b[0m \u001b[0mlat\u001b[0m\u001b[1;33m,\u001b[0m\u001b[1;33m\u001b[0m\u001b[1;33m\u001b[0m\u001b[0m\n",
      "\u001b[1;31mValueError\u001b[0m: Must be a coordinate pair or Point"
     ]
    },
    {
     "name": "stdout",
     "output_type": "stream",
     "text": [
      "time: 25min 55s (started: 2021-12-16 00:28:42 -06:00)\n"
     ]
    }
   ],
   "source": [
    "combined_months['address'] = combined_months['geom'].progress_apply(rgeocode)\n",
    "combined_months.head()"
   ]
  },
  {
   "cell_type": "code",
   "execution_count": 25,
   "metadata": {},
   "outputs": [
    {
     "data": {
      "text/plain": [
       "{'geometry': {'coordinates': [-86.76810894443116, 36.11302835],\n",
       "  'type': 'Point'},\n",
       " 'type': 'Feature',\n",
       " 'properties': {'osm_id': 727968560,\n",
       "  'extent': [-86.7682971, 36.1132512, -86.7679417, 36.112867],\n",
       "  'country': 'United States',\n",
       "  'city': 'Berry Hill',\n",
       "  'countrycode': 'US',\n",
       "  'postcode': '37204',\n",
       "  'county': 'Davidson County',\n",
       "  'type': 'house',\n",
       "  'osm_type': 'W',\n",
       "  'osm_key': 'tourism',\n",
       "  'street': 'West Iris Drive',\n",
       "  'osm_value': 'motel',\n",
       "  'name': 'The Iris Motel',\n",
       "  'state': 'Tennessee'}}"
      ]
     },
     "execution_count": 25,
     "metadata": {},
     "output_type": "execute_result"
    },
    {
     "name": "stdout",
     "output_type": "stream",
     "text": [
      "time: 593 ms (started: 2021-12-16 12:08:44 -06:00)\n"
     ]
    }
   ],
   "source": [
    "#find out why these coordinates appeared 323 times \n",
    "locator = Photon(user_agent=\"myGeocoder\")\n",
    "coordinates = '36.11303,-86.76811'\n",
    "location = locator.reverse(coordinates)\n",
    "location.raw"
   ]
  },
  {
   "cell_type": "code",
   "execution_count": null,
   "metadata": {},
   "outputs": [],
   "source": [
    "# the coordinates link back to The Iris Motel\n",
    "# this is a small building offering 2 separate bedrooms... it shows up on AirBnB as well as other hotel booking sites.\n",
    "# there is no error that this places may have been rented for that many times"
   ]
  },
  {
   "cell_type": "code",
   "execution_count": null,
   "metadata": {},
   "outputs": [],
   "source": [
    "# i am unable to continue processing for addresses unless i remove all nan values..."
   ]
  },
  {
   "cell_type": "code",
   "execution_count": 26,
   "metadata": {},
   "outputs": [
    {
     "name": "stdout",
     "output_type": "stream",
     "text": [
      "<class 'pandas.core.frame.DataFrame'>\n",
      "Int64Index: 284624 entries, 0 to 34\n",
      "Columns: 353 entries, id to geom\n",
      "dtypes: float64(325), object(28)\n",
      "memory usage: 776.8+ MB\n",
      "time: 16 ms (started: 2021-12-16 12:15:15 -06:00)\n"
     ]
    }
   ],
   "source": [
    "combined_months.info()"
   ]
  },
  {
   "cell_type": "code",
   "execution_count": null,
   "metadata": {},
   "outputs": [],
   "source": []
  },
  {
   "cell_type": "code",
   "execution_count": null,
   "metadata": {},
   "outputs": [],
   "source": []
  }
 ],
 "metadata": {
  "kernelspec": {
   "display_name": "Python 3",
   "language": "python",
   "name": "python3"
  },
  "language_info": {
   "codemirror_mode": {
    "name": "ipython",
    "version": 3
   },
   "file_extension": ".py",
   "mimetype": "text/x-python",
   "name": "python",
   "nbconvert_exporter": "python",
   "pygments_lexer": "ipython3",
   "version": "3.8.5"
  }
 },
 "nbformat": 4,
 "nbformat_minor": 4
}
