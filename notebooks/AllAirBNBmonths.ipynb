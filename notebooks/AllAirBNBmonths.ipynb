{
 "cells": [
  {
   "cell_type": "code",
   "execution_count": 1,
   "metadata": {},
   "outputs": [
    {
     "name": "stdout",
     "output_type": "stream",
     "text": [
      "Populating the interactive namespace from numpy and matplotlib\n",
      "time: 1.58 s (started: 2021-12-16 17:53:35 -06:00)\n"
     ]
    }
   ],
   "source": [
    "%matplotlib inline\n",
    "%pylab inline\n",
    "%load_ext autotime\n",
    "\n",
    "import pandas as pd\n",
    "import numpy as np\n",
    "import matplotlib.pyplot as plt\n",
    "import plotly.graph_objs as go\n",
    "import seaborn as sns\n",
    "import os\n",
    "import glob\n",
    "import geopandas as gpd\n",
    "import geopy\n",
    "import plotly_express as px\n",
    "import tqdm\n",
    "\n",
    "from graphics import Point\n",
    "from functools import reduce\n",
    "from datetime import date\n",
    "from datetime import datetime\n",
    "from geopy.geocoders import Nominatim\n",
    "from geopy.extra.rate_limiter import RateLimiter\n",
    "from tqdm.notebook import tqdm_notebook\n",
    "\n",
    "\n",
    "#from dtale.views import startup\n",
    "#import dtale\n",
    "#import pyplot as plt\n",
    "# os and glob help concat multiple csv files into one"
   ]
  },
  {
   "cell_type": "code",
   "execution_count": 2,
   "metadata": {},
   "outputs": [
    {
     "name": "stdout",
     "output_type": "stream",
     "text": [
      "time: 0 ns (started: 2021-12-16 17:53:37 -06:00)\n"
     ]
    }
   ],
   "source": [
    "from geopy.geocoders import Photon\n",
    "geolocator = Photon(user_agent=\"measurements\")"
   ]
  },
  {
   "cell_type": "code",
   "execution_count": 3,
   "metadata": {},
   "outputs": [
    {
     "data": {
      "text/plain": [
       "(6112, 16)"
      ]
     },
     "execution_count": 3,
     "metadata": {},
     "output_type": "execute_result"
    },
    {
     "name": "stdout",
     "output_type": "stream",
     "text": [
      "time: 31 ms (started: 2021-12-16 17:53:37 -06:00)\n"
     ]
    }
   ],
   "source": [
    "januarylistings = pd.read_csv('../data/January2021listings.csv')\n",
    "januarylistings.shape"
   ]
  },
  {
   "cell_type": "code",
   "execution_count": 4,
   "metadata": {},
   "outputs": [
    {
     "name": "stdout",
     "output_type": "stream",
     "text": [
      "<class 'pandas.core.frame.DataFrame'>\n",
      "RangeIndex: 6112 entries, 0 to 6111\n",
      "Data columns (total 16 columns):\n",
      " #   Column                          Non-Null Count  Dtype  \n",
      "---  ------                          --------------  -----  \n",
      " 0   id                              6112 non-null   int64  \n",
      " 1   name                            6112 non-null   object \n",
      " 2   host_id                         6112 non-null   int64  \n",
      " 3   host_name                       6110 non-null   object \n",
      " 4   neighbourhood_group             0 non-null      float64\n",
      " 5   neighbourhood                   6112 non-null   object \n",
      " 6   latitude                        6112 non-null   float64\n",
      " 7   longitude                       6112 non-null   float64\n",
      " 8   room_type                       6112 non-null   object \n",
      " 9   price                           6112 non-null   int64  \n",
      " 10  minimum_nights                  6112 non-null   int64  \n",
      " 11  number_of_reviews               6112 non-null   int64  \n",
      " 12  last_review                     5224 non-null   object \n",
      " 13  reviews_per_month               5224 non-null   float64\n",
      " 14  calculated_host_listings_count  6112 non-null   int64  \n",
      " 15  availability_365                6112 non-null   int64  \n",
      "dtypes: float64(4), int64(7), object(5)\n",
      "memory usage: 764.1+ KB\n",
      "time: 15 ms (started: 2021-12-16 17:53:37 -06:00)\n"
     ]
    }
   ],
   "source": [
    "januarylistings.info()"
   ]
  },
  {
   "cell_type": "code",
   "execution_count": 5,
   "metadata": {},
   "outputs": [
    {
     "data": {
      "text/html": [
       "<div>\n",
       "<style scoped>\n",
       "    .dataframe tbody tr th:only-of-type {\n",
       "        vertical-align: middle;\n",
       "    }\n",
       "\n",
       "    .dataframe tbody tr th {\n",
       "        vertical-align: top;\n",
       "    }\n",
       "\n",
       "    .dataframe thead th {\n",
       "        text-align: right;\n",
       "    }\n",
       "</style>\n",
       "<table border=\"1\" class=\"dataframe\">\n",
       "  <thead>\n",
       "    <tr style=\"text-align: right;\">\n",
       "      <th></th>\n",
       "      <th>id</th>\n",
       "      <th>name</th>\n",
       "      <th>host_id</th>\n",
       "      <th>host_name</th>\n",
       "      <th>neighbourhood_group</th>\n",
       "      <th>neighbourhood</th>\n",
       "      <th>latitude</th>\n",
       "      <th>longitude</th>\n",
       "      <th>room_type</th>\n",
       "      <th>price</th>\n",
       "      <th>minimum_nights</th>\n",
       "      <th>number_of_reviews</th>\n",
       "      <th>last_review</th>\n",
       "      <th>reviews_per_month</th>\n",
       "      <th>calculated_host_listings_count</th>\n",
       "      <th>availability_365</th>\n",
       "    </tr>\n",
       "  </thead>\n",
       "  <tbody>\n",
       "    <tr>\n",
       "      <th>0</th>\n",
       "      <td>6422</td>\n",
       "      <td>Nashville Charm</td>\n",
       "      <td>12172</td>\n",
       "      <td>Michele</td>\n",
       "      <td>NaN</td>\n",
       "      <td>District 6</td>\n",
       "      <td>36.17315</td>\n",
       "      <td>-86.73581</td>\n",
       "      <td>Private room</td>\n",
       "      <td>40</td>\n",
       "      <td>30</td>\n",
       "      <td>674</td>\n",
       "      <td>2020-03-03</td>\n",
       "      <td>4.72</td>\n",
       "      <td>1</td>\n",
       "      <td>236</td>\n",
       "    </tr>\n",
       "    <tr>\n",
       "      <th>1</th>\n",
       "      <td>25613</td>\n",
       "      <td>Room in Historic East Nashville Craftsman Home</td>\n",
       "      <td>95811</td>\n",
       "      <td>Nell</td>\n",
       "      <td>NaN</td>\n",
       "      <td>District 6</td>\n",
       "      <td>36.17826</td>\n",
       "      <td>-86.74162</td>\n",
       "      <td>Private room</td>\n",
       "      <td>75</td>\n",
       "      <td>2</td>\n",
       "      <td>510</td>\n",
       "      <td>2020-03-14</td>\n",
       "      <td>3.90</td>\n",
       "      <td>1</td>\n",
       "      <td>32</td>\n",
       "    </tr>\n",
       "    <tr>\n",
       "      <th>2</th>\n",
       "      <td>136015</td>\n",
       "      <td>Apart. on the Ridge near Opryland</td>\n",
       "      <td>666322</td>\n",
       "      <td>Dave And Peggy</td>\n",
       "      <td>NaN</td>\n",
       "      <td>District 15</td>\n",
       "      <td>36.19464</td>\n",
       "      <td>-86.67195</td>\n",
       "      <td>Entire home/apt</td>\n",
       "      <td>103</td>\n",
       "      <td>30</td>\n",
       "      <td>50</td>\n",
       "      <td>2020-08-04</td>\n",
       "      <td>0.43</td>\n",
       "      <td>2</td>\n",
       "      <td>1</td>\n",
       "    </tr>\n",
       "    <tr>\n",
       "      <th>3</th>\n",
       "      <td>137063</td>\n",
       "      <td>Furnished basement room for rent</td>\n",
       "      <td>670408</td>\n",
       "      <td>Richard</td>\n",
       "      <td>NaN</td>\n",
       "      <td>District 26</td>\n",
       "      <td>36.09212</td>\n",
       "      <td>-86.71302</td>\n",
       "      <td>Private room</td>\n",
       "      <td>50</td>\n",
       "      <td>1</td>\n",
       "      <td>0</td>\n",
       "      <td>NaN</td>\n",
       "      <td>NaN</td>\n",
       "      <td>1</td>\n",
       "      <td>365</td>\n",
       "    </tr>\n",
       "    <tr>\n",
       "      <th>4</th>\n",
       "      <td>258817</td>\n",
       "      <td>ButterflyRoom-private bath- open Jan 26</td>\n",
       "      <td>22296</td>\n",
       "      <td>Diana</td>\n",
       "      <td>NaN</td>\n",
       "      <td>District 12</td>\n",
       "      <td>36.16249</td>\n",
       "      <td>-86.58988</td>\n",
       "      <td>Private room</td>\n",
       "      <td>27</td>\n",
       "      <td>30</td>\n",
       "      <td>96</td>\n",
       "      <td>2019-12-14</td>\n",
       "      <td>0.87</td>\n",
       "      <td>7</td>\n",
       "      <td>364</td>\n",
       "    </tr>\n",
       "  </tbody>\n",
       "</table>\n",
       "</div>"
      ],
      "text/plain": [
       "       id                                            name  host_id  \\\n",
       "0    6422                                 Nashville Charm    12172   \n",
       "1   25613  Room in Historic East Nashville Craftsman Home    95811   \n",
       "2  136015               Apart. on the Ridge near Opryland   666322   \n",
       "3  137063                Furnished basement room for rent   670408   \n",
       "4  258817         ButterflyRoom-private bath- open Jan 26    22296   \n",
       "\n",
       "        host_name  neighbourhood_group neighbourhood  latitude  longitude  \\\n",
       "0         Michele                  NaN    District 6  36.17315  -86.73581   \n",
       "1            Nell                  NaN    District 6  36.17826  -86.74162   \n",
       "2  Dave And Peggy                  NaN   District 15  36.19464  -86.67195   \n",
       "3         Richard                  NaN   District 26  36.09212  -86.71302   \n",
       "4           Diana                  NaN   District 12  36.16249  -86.58988   \n",
       "\n",
       "         room_type  price  minimum_nights  number_of_reviews last_review  \\\n",
       "0     Private room     40              30                674  2020-03-03   \n",
       "1     Private room     75               2                510  2020-03-14   \n",
       "2  Entire home/apt    103              30                 50  2020-08-04   \n",
       "3     Private room     50               1                  0         NaN   \n",
       "4     Private room     27              30                 96  2019-12-14   \n",
       "\n",
       "   reviews_per_month  calculated_host_listings_count  availability_365  \n",
       "0               4.72                               1               236  \n",
       "1               3.90                               1                32  \n",
       "2               0.43                               2                 1  \n",
       "3                NaN                               1               365  \n",
       "4               0.87                               7               364  "
      ]
     },
     "execution_count": 5,
     "metadata": {},
     "output_type": "execute_result"
    },
    {
     "name": "stdout",
     "output_type": "stream",
     "text": [
      "time: 16 ms (started: 2021-12-16 17:53:37 -06:00)\n"
     ]
    }
   ],
   "source": [
    "januarylistings.head()"
   ]
  },
  {
   "cell_type": "code",
   "execution_count": 14,
   "metadata": {},
   "outputs": [
    {
     "name": "stdout",
     "output_type": "stream",
     "text": [
      "time: 16 ms (started: 2021-12-16 19:07:46 -06:00)\n"
     ]
    }
   ],
   "source": [
    "all_filenames = [i for i in glob.glob('../data/monthlistings/*.{}'.format('csv'))]"
   ]
  },
  {
   "cell_type": "code",
   "execution_count": 15,
   "metadata": {},
   "outputs": [
    {
     "name": "stdout",
     "output_type": "stream",
     "text": [
      "['../data/monthlistings\\\\April2021listings.csv', '../data/monthlistings\\\\August2021listings.csv', '../data/monthlistings\\\\December2020listings.csv', '../data/monthlistings\\\\feb2021listings.csv', '../data/monthlistings\\\\January2021listings.csv', '../data/monthlistings\\\\July2021listings.csv', '../data/monthlistings\\\\June2021listings.csv', '../data/monthlistings\\\\October2021listings.csv', '../data/monthlistings\\\\September2021listings.csv']\n",
      "time: 0 ns (started: 2021-12-16 19:07:46 -06:00)\n"
     ]
    }
   ],
   "source": [
    "print(all_filenames)"
   ]
  },
  {
   "cell_type": "code",
   "execution_count": 16,
   "metadata": {},
   "outputs": [
    {
     "name": "stdout",
     "output_type": "stream",
     "text": [
      "time: 0 ns (started: 2021-12-16 19:07:48 -06:00)\n"
     ]
    }
   ],
   "source": [
    "#this wont work because the equation above is picking up all of the files in my data folder\n",
    "#i  had to make a separate folder which only housed the \"listing\" data that was needed"
   ]
  },
  {
   "cell_type": "code",
   "execution_count": 17,
   "metadata": {},
   "outputs": [
    {
     "name": "stdout",
     "output_type": "stream",
     "text": [
      "time: 265 ms (started: 2021-12-16 19:07:53 -06:00)\n"
     ]
    }
   ],
   "source": [
    "#data is missing march - november and december\n",
    "combined_months = pd.concat([pd.read_csv(f) for f in all_filenames ])"
   ]
  },
  {
   "cell_type": "code",
   "execution_count": 19,
   "metadata": {},
   "outputs": [
    {
     "name": "stdout",
     "output_type": "stream",
     "text": [
      "<class 'pandas.core.frame.DataFrame'>\n",
      "Int64Index: 55268 entries, 0 to 6239\n",
      "Data columns (total 18 columns):\n",
      " #   Column                          Non-Null Count  Dtype  \n",
      "---  ------                          --------------  -----  \n",
      " 0   id                              55268 non-null  int64  \n",
      " 1   name                            55268 non-null  object \n",
      " 2   host_id                         55268 non-null  int64  \n",
      " 3   host_name                       55017 non-null  object \n",
      " 4   neighbourhood_group             0 non-null      float64\n",
      " 5   neighbourhood                   55268 non-null  object \n",
      " 6   latitude                        55268 non-null  float64\n",
      " 7   longitude                       55268 non-null  float64\n",
      " 8   room_type                       55268 non-null  object \n",
      " 9   price                           55268 non-null  int64  \n",
      " 10  minimum_nights                  55268 non-null  int64  \n",
      " 11  number_of_reviews               55268 non-null  int64  \n",
      " 12  last_review                     47985 non-null  object \n",
      " 13  reviews_per_month               47985 non-null  float64\n",
      " 14  calculated_host_listings_count  55268 non-null  int64  \n",
      " 15  availability_365                55268 non-null  int64  \n",
      " 16  number_of_reviews_ltm           18754 non-null  float64\n",
      " 17  license                         0 non-null      float64\n",
      "dtypes: float64(6), int64(7), object(5)\n",
      "memory usage: 8.0+ MB\n",
      "time: 31 ms (started: 2021-12-16 19:11:14 -06:00)\n"
     ]
    }
   ],
   "source": [
    "combined_months.info()"
   ]
  },
  {
   "cell_type": "code",
   "execution_count": 20,
   "metadata": {},
   "outputs": [
    {
     "name": "stdout",
     "output_type": "stream",
     "text": [
      "time: 31 ms (started: 2021-12-16 19:11:16 -06:00)\n"
     ]
    }
   ],
   "source": [
    "#drops columns that have only NAN values\n",
    "combined_months.dropna(how='all', axis=1, inplace=True)\n"
   ]
  },
  {
   "cell_type": "code",
   "execution_count": 21,
   "metadata": {},
   "outputs": [
    {
     "name": "stdout",
     "output_type": "stream",
     "text": [
      "time: 16 ms (started: 2021-12-16 19:11:16 -06:00)\n"
     ]
    }
   ],
   "source": [
    "combined_months = combined_months.drop(['neighbourhood'], axis=1)"
   ]
  },
  {
   "cell_type": "code",
   "execution_count": 22,
   "metadata": {},
   "outputs": [
    {
     "data": {
      "text/html": [
       "<div>\n",
       "<style scoped>\n",
       "    .dataframe tbody tr th:only-of-type {\n",
       "        vertical-align: middle;\n",
       "    }\n",
       "\n",
       "    .dataframe tbody tr th {\n",
       "        vertical-align: top;\n",
       "    }\n",
       "\n",
       "    .dataframe thead th {\n",
       "        text-align: right;\n",
       "    }\n",
       "</style>\n",
       "<table border=\"1\" class=\"dataframe\">\n",
       "  <thead>\n",
       "    <tr style=\"text-align: right;\">\n",
       "      <th></th>\n",
       "      <th>id</th>\n",
       "      <th>name</th>\n",
       "      <th>host_id</th>\n",
       "      <th>host_name</th>\n",
       "      <th>latitude</th>\n",
       "      <th>longitude</th>\n",
       "      <th>room_type</th>\n",
       "      <th>price</th>\n",
       "      <th>minimum_nights</th>\n",
       "      <th>number_of_reviews</th>\n",
       "      <th>last_review</th>\n",
       "      <th>reviews_per_month</th>\n",
       "      <th>calculated_host_listings_count</th>\n",
       "      <th>availability_365</th>\n",
       "      <th>number_of_reviews_ltm</th>\n",
       "    </tr>\n",
       "  </thead>\n",
       "  <tbody>\n",
       "    <tr>\n",
       "      <th>0</th>\n",
       "      <td>6422</td>\n",
       "      <td>Nashville Charm</td>\n",
       "      <td>12172</td>\n",
       "      <td>Michele</td>\n",
       "      <td>36.17315</td>\n",
       "      <td>-86.73581</td>\n",
       "      <td>Private room</td>\n",
       "      <td>40</td>\n",
       "      <td>30</td>\n",
       "      <td>674</td>\n",
       "      <td>2020-03-03</td>\n",
       "      <td>4.62</td>\n",
       "      <td>1</td>\n",
       "      <td>204</td>\n",
       "      <td>NaN</td>\n",
       "    </tr>\n",
       "    <tr>\n",
       "      <th>1</th>\n",
       "      <td>25613</td>\n",
       "      <td>Room in Historic East Nashville Craftsman Home</td>\n",
       "      <td>95811</td>\n",
       "      <td>Nell</td>\n",
       "      <td>36.17826</td>\n",
       "      <td>-86.74162</td>\n",
       "      <td>Private room</td>\n",
       "      <td>75</td>\n",
       "      <td>2</td>\n",
       "      <td>510</td>\n",
       "      <td>2020-03-14</td>\n",
       "      <td>3.81</td>\n",
       "      <td>1</td>\n",
       "      <td>125</td>\n",
       "      <td>NaN</td>\n",
       "    </tr>\n",
       "    <tr>\n",
       "      <th>2</th>\n",
       "      <td>39870</td>\n",
       "      <td>Close to Vanderbilt 2</td>\n",
       "      <td>171184</td>\n",
       "      <td>Evelyn</td>\n",
       "      <td>36.12523</td>\n",
       "      <td>-86.81278</td>\n",
       "      <td>Private room</td>\n",
       "      <td>60</td>\n",
       "      <td>1</td>\n",
       "      <td>262</td>\n",
       "      <td>2020-10-25</td>\n",
       "      <td>4.68</td>\n",
       "      <td>2</td>\n",
       "      <td>152</td>\n",
       "      <td>NaN</td>\n",
       "    </tr>\n",
       "    <tr>\n",
       "      <th>3</th>\n",
       "      <td>258817</td>\n",
       "      <td>ButterflyRoom-private bath- open May 16</td>\n",
       "      <td>22296</td>\n",
       "      <td>Diana</td>\n",
       "      <td>36.16249</td>\n",
       "      <td>-86.58988</td>\n",
       "      <td>Private room</td>\n",
       "      <td>29</td>\n",
       "      <td>30</td>\n",
       "      <td>96</td>\n",
       "      <td>2019-12-14</td>\n",
       "      <td>0.84</td>\n",
       "      <td>7</td>\n",
       "      <td>343</td>\n",
       "      <td>NaN</td>\n",
       "    </tr>\n",
       "    <tr>\n",
       "      <th>4</th>\n",
       "      <td>289242</td>\n",
       "      <td>MorningstarHouse, monthly room- open may 1</td>\n",
       "      <td>22296</td>\n",
       "      <td>Diana</td>\n",
       "      <td>36.16102</td>\n",
       "      <td>-86.59207</td>\n",
       "      <td>Private room</td>\n",
       "      <td>28</td>\n",
       "      <td>30</td>\n",
       "      <td>76</td>\n",
       "      <td>2019-01-12</td>\n",
       "      <td>0.67</td>\n",
       "      <td>7</td>\n",
       "      <td>357</td>\n",
       "      <td>NaN</td>\n",
       "    </tr>\n",
       "  </tbody>\n",
       "</table>\n",
       "</div>"
      ],
      "text/plain": [
       "       id                                            name  host_id host_name  \\\n",
       "0    6422                                 Nashville Charm    12172   Michele   \n",
       "1   25613  Room in Historic East Nashville Craftsman Home    95811      Nell   \n",
       "2   39870                           Close to Vanderbilt 2   171184    Evelyn   \n",
       "3  258817         ButterflyRoom-private bath- open May 16    22296     Diana   \n",
       "4  289242      MorningstarHouse, monthly room- open may 1    22296     Diana   \n",
       "\n",
       "   latitude  longitude     room_type  price  minimum_nights  \\\n",
       "0  36.17315  -86.73581  Private room     40              30   \n",
       "1  36.17826  -86.74162  Private room     75               2   \n",
       "2  36.12523  -86.81278  Private room     60               1   \n",
       "3  36.16249  -86.58988  Private room     29              30   \n",
       "4  36.16102  -86.59207  Private room     28              30   \n",
       "\n",
       "   number_of_reviews last_review  reviews_per_month  \\\n",
       "0                674  2020-03-03               4.62   \n",
       "1                510  2020-03-14               3.81   \n",
       "2                262  2020-10-25               4.68   \n",
       "3                 96  2019-12-14               0.84   \n",
       "4                 76  2019-01-12               0.67   \n",
       "\n",
       "   calculated_host_listings_count  availability_365  number_of_reviews_ltm  \n",
       "0                               1               204                    NaN  \n",
       "1                               1               125                    NaN  \n",
       "2                               2               152                    NaN  \n",
       "3                               7               343                    NaN  \n",
       "4                               7               357                    NaN  "
      ]
     },
     "execution_count": 22,
     "metadata": {},
     "output_type": "execute_result"
    },
    {
     "name": "stdout",
     "output_type": "stream",
     "text": [
      "time: 16 ms (started: 2021-12-16 19:11:19 -06:00)\n"
     ]
    }
   ],
   "source": [
    "combined_months.head()"
   ]
  },
  {
   "cell_type": "code",
   "execution_count": 23,
   "metadata": {},
   "outputs": [
    {
     "data": {
      "text/html": [
       "<div>\n",
       "<style scoped>\n",
       "    .dataframe tbody tr th:only-of-type {\n",
       "        vertical-align: middle;\n",
       "    }\n",
       "\n",
       "    .dataframe tbody tr th {\n",
       "        vertical-align: top;\n",
       "    }\n",
       "\n",
       "    .dataframe thead th {\n",
       "        text-align: right;\n",
       "    }\n",
       "</style>\n",
       "<table border=\"1\" class=\"dataframe\">\n",
       "  <thead>\n",
       "    <tr style=\"text-align: right;\">\n",
       "      <th></th>\n",
       "      <th>id</th>\n",
       "      <th>host_id</th>\n",
       "      <th>latitude</th>\n",
       "      <th>longitude</th>\n",
       "      <th>price</th>\n",
       "      <th>minimum_nights</th>\n",
       "      <th>number_of_reviews</th>\n",
       "      <th>reviews_per_month</th>\n",
       "      <th>calculated_host_listings_count</th>\n",
       "      <th>availability_365</th>\n",
       "      <th>number_of_reviews_ltm</th>\n",
       "    </tr>\n",
       "  </thead>\n",
       "  <tbody>\n",
       "    <tr>\n",
       "      <th>count</th>\n",
       "      <td>5.526800e+04</td>\n",
       "      <td>5.526800e+04</td>\n",
       "      <td>55268.000000</td>\n",
       "      <td>55268.000000</td>\n",
       "      <td>55268.000000</td>\n",
       "      <td>55268.000000</td>\n",
       "      <td>55268.000000</td>\n",
       "      <td>47985.000000</td>\n",
       "      <td>55268.000000</td>\n",
       "      <td>55268.000000</td>\n",
       "      <td>18754.000000</td>\n",
       "    </tr>\n",
       "    <tr>\n",
       "      <th>mean</th>\n",
       "      <td>3.258022e+07</td>\n",
       "      <td>1.245387e+08</td>\n",
       "      <td>36.161135</td>\n",
       "      <td>-86.768488</td>\n",
       "      <td>253.961949</td>\n",
       "      <td>7.026543</td>\n",
       "      <td>57.151824</td>\n",
       "      <td>3.243280</td>\n",
       "      <td>18.936455</td>\n",
       "      <td>185.616360</td>\n",
       "      <td>18.207529</td>\n",
       "    </tr>\n",
       "    <tr>\n",
       "      <th>std</th>\n",
       "      <td>1.387132e+07</td>\n",
       "      <td>1.174331e+08</td>\n",
       "      <td>0.041666</td>\n",
       "      <td>0.053000</td>\n",
       "      <td>601.408695</td>\n",
       "      <td>17.517649</td>\n",
       "      <td>87.396312</td>\n",
       "      <td>7.977515</td>\n",
       "      <td>35.831029</td>\n",
       "      <td>131.478457</td>\n",
       "      <td>23.066427</td>\n",
       "    </tr>\n",
       "    <tr>\n",
       "      <th>min</th>\n",
       "      <td>6.422000e+03</td>\n",
       "      <td>1.147000e+03</td>\n",
       "      <td>35.984220</td>\n",
       "      <td>-87.035210</td>\n",
       "      <td>0.000000</td>\n",
       "      <td>1.000000</td>\n",
       "      <td>0.000000</td>\n",
       "      <td>0.010000</td>\n",
       "      <td>1.000000</td>\n",
       "      <td>0.000000</td>\n",
       "      <td>0.000000</td>\n",
       "    </tr>\n",
       "    <tr>\n",
       "      <th>25%</th>\n",
       "      <td>2.120349e+07</td>\n",
       "      <td>2.819603e+07</td>\n",
       "      <td>36.141600</td>\n",
       "      <td>-86.795560</td>\n",
       "      <td>102.000000</td>\n",
       "      <td>1.000000</td>\n",
       "      <td>4.000000</td>\n",
       "      <td>0.820000</td>\n",
       "      <td>1.000000</td>\n",
       "      <td>57.000000</td>\n",
       "      <td>1.000000</td>\n",
       "    </tr>\n",
       "    <tr>\n",
       "      <th>50%</th>\n",
       "      <td>3.517674e+07</td>\n",
       "      <td>8.858885e+07</td>\n",
       "      <td>36.158270</td>\n",
       "      <td>-86.775840</td>\n",
       "      <td>169.000000</td>\n",
       "      <td>2.000000</td>\n",
       "      <td>24.000000</td>\n",
       "      <td>1.960000</td>\n",
       "      <td>3.000000</td>\n",
       "      <td>181.000000</td>\n",
       "      <td>10.000000</td>\n",
       "    </tr>\n",
       "    <tr>\n",
       "      <th>75%</th>\n",
       "      <td>4.446125e+07</td>\n",
       "      <td>1.949574e+08</td>\n",
       "      <td>36.182760</td>\n",
       "      <td>-86.743260</td>\n",
       "      <td>286.000000</td>\n",
       "      <td>2.000000</td>\n",
       "      <td>74.000000</td>\n",
       "      <td>3.580000</td>\n",
       "      <td>17.000000</td>\n",
       "      <td>317.000000</td>\n",
       "      <td>27.000000</td>\n",
       "    </tr>\n",
       "    <tr>\n",
       "      <th>max</th>\n",
       "      <td>5.291577e+07</td>\n",
       "      <td>4.268888e+08</td>\n",
       "      <td>36.404770</td>\n",
       "      <td>-86.535520</td>\n",
       "      <td>25000.000000</td>\n",
       "      <td>365.000000</td>\n",
       "      <td>1080.000000</td>\n",
       "      <td>493.000000</td>\n",
       "      <td>186.000000</td>\n",
       "      <td>365.000000</td>\n",
       "      <td>235.000000</td>\n",
       "    </tr>\n",
       "  </tbody>\n",
       "</table>\n",
       "</div>"
      ],
      "text/plain": [
       "                 id       host_id      latitude     longitude         price  \\\n",
       "count  5.526800e+04  5.526800e+04  55268.000000  55268.000000  55268.000000   \n",
       "mean   3.258022e+07  1.245387e+08     36.161135    -86.768488    253.961949   \n",
       "std    1.387132e+07  1.174331e+08      0.041666      0.053000    601.408695   \n",
       "min    6.422000e+03  1.147000e+03     35.984220    -87.035210      0.000000   \n",
       "25%    2.120349e+07  2.819603e+07     36.141600    -86.795560    102.000000   \n",
       "50%    3.517674e+07  8.858885e+07     36.158270    -86.775840    169.000000   \n",
       "75%    4.446125e+07  1.949574e+08     36.182760    -86.743260    286.000000   \n",
       "max    5.291577e+07  4.268888e+08     36.404770    -86.535520  25000.000000   \n",
       "\n",
       "       minimum_nights  number_of_reviews  reviews_per_month  \\\n",
       "count    55268.000000       55268.000000       47985.000000   \n",
       "mean         7.026543          57.151824           3.243280   \n",
       "std         17.517649          87.396312           7.977515   \n",
       "min          1.000000           0.000000           0.010000   \n",
       "25%          1.000000           4.000000           0.820000   \n",
       "50%          2.000000          24.000000           1.960000   \n",
       "75%          2.000000          74.000000           3.580000   \n",
       "max        365.000000        1080.000000         493.000000   \n",
       "\n",
       "       calculated_host_listings_count  availability_365  number_of_reviews_ltm  \n",
       "count                    55268.000000      55268.000000           18754.000000  \n",
       "mean                        18.936455        185.616360              18.207529  \n",
       "std                         35.831029        131.478457              23.066427  \n",
       "min                          1.000000          0.000000               0.000000  \n",
       "25%                          1.000000         57.000000               1.000000  \n",
       "50%                          3.000000        181.000000              10.000000  \n",
       "75%                         17.000000        317.000000              27.000000  \n",
       "max                        186.000000        365.000000             235.000000  "
      ]
     },
     "execution_count": 23,
     "metadata": {},
     "output_type": "execute_result"
    },
    {
     "name": "stdout",
     "output_type": "stream",
     "text": [
      "time: 78 ms (started: 2021-12-16 19:11:20 -06:00)\n"
     ]
    }
   ],
   "source": [
    "combined_months.describe()"
   ]
  },
  {
   "cell_type": "code",
   "execution_count": 24,
   "metadata": {},
   "outputs": [
    {
     "data": {
      "text/plain": [
       "0    36.17315,-86.73581\n",
       "0    36.17315,-86.73581\n",
       "0    36.17315,-86.73581\n",
       "0    36.17315,-86.73581\n",
       "0    36.17315,-86.73581\n",
       "0    36.17315,-86.73581\n",
       "0    36.17315,-86.73581\n",
       "0    36.17315,-86.73581\n",
       "0    36.17315,-86.73581\n",
       "Name: geom, dtype: object"
      ]
     },
     "execution_count": 24,
     "metadata": {},
     "output_type": "execute_result"
    },
    {
     "name": "stdout",
     "output_type": "stream",
     "text": [
      "time: 109 ms (started: 2021-12-16 19:11:21 -06:00)\n"
     ]
    }
   ],
   "source": [
    "combined_months['geom'] = combined_months['latitude'].map(str) + ',' + combined_months['longitude'].map(str)\n",
    "combined_months['geom'][0]"
   ]
  },
  {
   "cell_type": "code",
   "execution_count": 25,
   "metadata": {},
   "outputs": [
    {
     "name": "stdout",
     "output_type": "stream",
     "text": [
      "time: 0 ns (started: 2021-12-16 19:11:26 -06:00)\n"
     ]
    }
   ],
   "source": [
    "locator = Photon(user_agent='myGeocoder', timeout=10)\n",
    "rgeocode = RateLimiter(locator.reverse, min_delay_seconds=0.001)"
   ]
  },
  {
   "cell_type": "code",
   "execution_count": 26,
   "metadata": {},
   "outputs": [
    {
     "name": "stdout",
     "output_type": "stream",
     "text": [
      "time: 0 ns (started: 2021-12-16 19:11:28 -06:00)\n"
     ]
    },
    {
     "name": "stderr",
     "output_type": "stream",
     "text": [
      "C:\\Users\\YASHAC~1\\AppData\\Local\\Temp/ipykernel_8004/3043108627.py:1: TqdmDeprecationWarning: This function will be removed in tqdm==5.0.0\n",
      "Please use `tqdm.notebook.*` instead of `tqdm._tqdm_notebook.*`\n",
      "  from tqdm._tqdm_notebook import tqdm_notebook\n"
     ]
    }
   ],
   "source": [
    "from tqdm._tqdm_notebook import tqdm_notebook"
   ]
  },
  {
   "cell_type": "code",
   "execution_count": 27,
   "metadata": {},
   "outputs": [
    {
     "name": "stdout",
     "output_type": "stream",
     "text": [
      "time: 0 ns (started: 2021-12-16 19:11:30 -06:00)\n"
     ]
    }
   ],
   "source": [
    "tqdm_notebook.pandas()"
   ]
  },
  {
   "cell_type": "code",
   "execution_count": null,
   "metadata": {},
   "outputs": [],
   "source": []
  },
  {
   "cell_type": "code",
   "execution_count": 28,
   "metadata": {},
   "outputs": [
    {
     "data": {
      "text/plain": [
       "36.11303,-86.76811                      323\n",
       "36.15321,-86.78339                      304\n",
       "36.15489,-86.77541                      216\n",
       "36.15551,-86.7757                       149\n",
       "36.05636,-86.74637                       96\n",
       "                                       ... \n",
       "36.1566,-86.77459                         1\n",
       "36.15721,-86.77284                        1\n",
       "36.15655,-86.77314                        1\n",
       "36.22164,-86.8065                         1\n",
       "36.05729142832006,-86.74697566924686      1\n",
       "Name: geom, Length: 8696, dtype: int64"
      ]
     },
     "execution_count": 28,
     "metadata": {},
     "output_type": "execute_result"
    },
    {
     "name": "stdout",
     "output_type": "stream",
     "text": [
      "time: 16 ms (started: 2021-12-16 19:11:33 -06:00)\n"
     ]
    }
   ],
   "source": [
    "combined_months['geom'].value_counts()"
   ]
  },
  {
   "cell_type": "code",
   "execution_count": null,
   "metadata": {
    "scrolled": true
   },
   "outputs": [
    {
     "data": {
      "application/vnd.jupyter.widget-view+json": {
       "model_id": "841b59e51b3245adbb27cfd68c084ceb",
       "version_major": 2,
       "version_minor": 0
      },
      "text/plain": [
       "  0%|          | 0/55268 [00:00<?, ?it/s]"
      ]
     },
     "metadata": {},
     "output_type": "display_data"
    }
   ],
   "source": [
    "combined_months['address'] = combined_months['geom'].progress_apply(rgeocode)\n",
    "combined_months.head()"
   ]
  },
  {
   "cell_type": "code",
   "execution_count": 25,
   "metadata": {},
   "outputs": [
    {
     "data": {
      "text/plain": [
       "{'geometry': {'coordinates': [-86.76810894443116, 36.11302835],\n",
       "  'type': 'Point'},\n",
       " 'type': 'Feature',\n",
       " 'properties': {'osm_id': 727968560,\n",
       "  'extent': [-86.7682971, 36.1132512, -86.7679417, 36.112867],\n",
       "  'country': 'United States',\n",
       "  'city': 'Berry Hill',\n",
       "  'countrycode': 'US',\n",
       "  'postcode': '37204',\n",
       "  'county': 'Davidson County',\n",
       "  'type': 'house',\n",
       "  'osm_type': 'W',\n",
       "  'osm_key': 'tourism',\n",
       "  'street': 'West Iris Drive',\n",
       "  'osm_value': 'motel',\n",
       "  'name': 'The Iris Motel',\n",
       "  'state': 'Tennessee'}}"
      ]
     },
     "execution_count": 25,
     "metadata": {},
     "output_type": "execute_result"
    },
    {
     "name": "stdout",
     "output_type": "stream",
     "text": [
      "time: 593 ms (started: 2021-12-16 12:08:44 -06:00)\n"
     ]
    }
   ],
   "source": [
    "#find out why these coordinates appeared 323 times \n",
    "locator = Photon(user_agent=\"myGeocoder\")\n",
    "coordinates = '36.11303,-86.76811'\n",
    "location = locator.reverse(coordinates)\n",
    "location.raw"
   ]
  },
  {
   "cell_type": "code",
   "execution_count": null,
   "metadata": {},
   "outputs": [],
   "source": [
    "# the coordinates link back to The Iris Motel\n",
    "# this is a small building offering 2 separate bedrooms... it shows up on AirBnB as well as other hotel booking sites.\n",
    "# there is no error that this places may have been rented for that many times"
   ]
  },
  {
   "cell_type": "code",
   "execution_count": null,
   "metadata": {},
   "outputs": [],
   "source": [
    "# i am unable to continue processing for addresses unless i remove all nan values..."
   ]
  },
  {
   "cell_type": "code",
   "execution_count": 26,
   "metadata": {},
   "outputs": [
    {
     "name": "stdout",
     "output_type": "stream",
     "text": [
      "<class 'pandas.core.frame.DataFrame'>\n",
      "Int64Index: 284624 entries, 0 to 34\n",
      "Columns: 353 entries, id to geom\n",
      "dtypes: float64(325), object(28)\n",
      "memory usage: 776.8+ MB\n",
      "time: 16 ms (started: 2021-12-16 12:15:15 -06:00)\n"
     ]
    }
   ],
   "source": [
    "combined_months.info()"
   ]
  },
  {
   "cell_type": "code",
   "execution_count": null,
   "metadata": {},
   "outputs": [],
   "source": []
  },
  {
   "cell_type": "code",
   "execution_count": null,
   "metadata": {},
   "outputs": [],
   "source": []
  }
 ],
 "metadata": {
  "kernelspec": {
   "display_name": "Python 3 (ipykernel)",
   "language": "python",
   "name": "python3"
  },
  "language_info": {
   "codemirror_mode": {
    "name": "ipython",
    "version": 3
   },
   "file_extension": ".py",
   "mimetype": "text/x-python",
   "name": "python",
   "nbconvert_exporter": "python",
   "pygments_lexer": "ipython3",
   "version": "3.8.5"
  }
 },
 "nbformat": 4,
 "nbformat_minor": 4
}
