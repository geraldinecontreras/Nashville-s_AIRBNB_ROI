{
 "cells": [
  {
   "cell_type": "code",
   "execution_count": 1,
   "metadata": {},
   "outputs": [
    {
     "name": "stdout",
     "output_type": "stream",
     "text": [
      "Populating the interactive namespace from numpy and matplotlib\n",
      "time: 1.45 s (started: 2021-12-20 00:12:10 -06:00)\n"
     ]
    }
   ],
   "source": [
    "%matplotlib inline\n",
    "%pylab inline\n",
    "%load_ext autotime\n",
    "\n",
    "import pandas as pd\n",
    "import numpy as np\n",
    "import matplotlib.pyplot as plt\n",
    "import plotly.graph_objs as go\n",
    "import seaborn as sns\n",
    "import os\n",
    "import glob\n",
    "import geopandas as gpd\n",
    "import geopy\n",
    "import plotly_express as px\n",
    "import tqdm\n",
    "\n",
    "from graphics import Point\n",
    "from functools import reduce\n",
    "from datetime import date\n",
    "from datetime import datetime\n",
    "from geopy.geocoders import Nominatim\n",
    "from geopy.extra.rate_limiter import RateLimiter\n",
    "from tqdm.notebook import tqdm_notebook\n",
    "\n",
    "\n",
    "#from dtale.views import startup\n",
    "#import dtale\n",
    "#import pyplot as plt\n",
    "# os and glob help concat multiple csv files into one"
   ]
  },
  {
   "cell_type": "code",
   "execution_count": 2,
   "metadata": {},
   "outputs": [
    {
     "name": "stdout",
     "output_type": "stream",
     "text": [
      "time: 0 ns (started: 2021-12-20 00:12:11 -06:00)\n"
     ]
    }
   ],
   "source": [
    "all_filenames = [i for i in glob.glob('../data/redfindata/*.{}'.format('csv'))]"
   ]
  },
  {
   "cell_type": "code",
   "execution_count": 3,
   "metadata": {},
   "outputs": [
    {
     "name": "stdout",
     "output_type": "stream",
     "text": [
      "['../data/redfindata\\\\RedfinData1.csv', '../data/redfindata\\\\RedfinData2.csv']\n",
      "time: 0 ns (started: 2021-12-20 00:12:11 -06:00)\n"
     ]
    }
   ],
   "source": [
    "print(all_filenames)"
   ]
  },
  {
   "cell_type": "code",
   "execution_count": 4,
   "metadata": {},
   "outputs": [
    {
     "name": "stdout",
     "output_type": "stream",
     "text": [
      "time: 16 ms (started: 2021-12-20 00:12:12 -06:00)\n"
     ]
    }
   ],
   "source": [
    "redfin_months = pd.concat([pd.read_csv(f) for f in all_filenames ])"
   ]
  },
  {
   "cell_type": "code",
   "execution_count": 5,
   "metadata": {},
   "outputs": [
    {
     "name": "stdout",
     "output_type": "stream",
     "text": [
      "<class 'pandas.core.frame.DataFrame'>\n",
      "Int64Index: 700 entries, 0 to 349\n",
      "Data columns (total 27 columns):\n",
      " #   Column                                                                                       Non-Null Count  Dtype  \n",
      "---  ------                                                                                       --------------  -----  \n",
      " 0   SALE TYPE                                                                                    700 non-null    object \n",
      " 1   SOLD DATE                                                                                    600 non-null    object \n",
      " 2   PROPERTY TYPE                                                                                700 non-null    object \n",
      " 3   ADDRESS                                                                                      700 non-null    object \n",
      " 4   CITY                                                                                         700 non-null    object \n",
      " 5   STATE OR PROVINCE                                                                            700 non-null    object \n",
      " 6   ZIP OR POSTAL CODE                                                                           700 non-null    int64  \n",
      " 7   PRICE                                                                                        700 non-null    int64  \n",
      " 8   BEDS                                                                                         569 non-null    float64\n",
      " 9   BATHS                                                                                        573 non-null    float64\n",
      " 10  LOCATION                                                                                     600 non-null    object \n",
      " 11  SQUARE FEET                                                                                  581 non-null    float64\n",
      " 12  LOT SIZE                                                                                     618 non-null    float64\n",
      " 13  YEAR BUILT                                                                                   587 non-null    float64\n",
      " 14  DAYS ON MARKET                                                                               0 non-null      float64\n",
      " 15  $/SQUARE FEET                                                                                581 non-null    float64\n",
      " 16  HOA/MONTH                                                                                    292 non-null    float64\n",
      " 17  STATUS                                                                                       600 non-null    object \n",
      " 18  NEXT OPEN HOUSE START TIME                                                                   0 non-null      float64\n",
      " 19  NEXT OPEN HOUSE END TIME                                                                     0 non-null      float64\n",
      " 20  URL (SEE https://www.redfin.com/buy-a-home/comparative-market-analysis FOR INFO ON PRICING)  700 non-null    object \n",
      " 21  SOURCE                                                                                       600 non-null    object \n",
      " 22  MLS#                                                                                         600 non-null    float64\n",
      " 23  FAVORITE                                                                                     700 non-null    object \n",
      " 24  INTERESTED                                                                                   700 non-null    object \n",
      " 25  LATITUDE                                                                                     700 non-null    float64\n",
      " 26  LONGITUDE                                                                                    700 non-null    float64\n",
      "dtypes: float64(13), int64(2), object(12)\n",
      "memory usage: 153.1+ KB\n",
      "time: 16 ms (started: 2021-12-20 00:12:12 -06:00)\n"
     ]
    }
   ],
   "source": [
    "redfin_months.info()"
   ]
  },
  {
   "cell_type": "code",
   "execution_count": 6,
   "metadata": {},
   "outputs": [
    {
     "name": "stdout",
     "output_type": "stream",
     "text": [
      "time: 0 ns (started: 2021-12-20 00:12:13 -06:00)\n"
     ]
    }
   ],
   "source": [
    "#drops columns that have only NAN values\n",
    "redfin_months.dropna(how='all', axis=1, inplace=True)"
   ]
  },
  {
   "cell_type": "code",
   "execution_count": 7,
   "metadata": {},
   "outputs": [
    {
     "name": "stdout",
     "output_type": "stream",
     "text": [
      "time: 0 ns (started: 2021-12-20 00:12:13 -06:00)\n"
     ]
    }
   ],
   "source": [
    "#dropped all trash columns \n",
    "redfin_months = redfin_months.drop(['SALE TYPE', '$/SQUARE FEET', 'STATUS', 'URL (SEE https://www.redfin.com/buy-a-home/comparative-market-analysis FOR INFO ON PRICING)', 'SOURCE', 'MLS#', 'FAVORITE', 'INTERESTED', 'LOT SIZE', 'YEAR BUILT', 'HOA/MONTH', 'PROPERTY TYPE'], axis=1)"
   ]
  },
  {
   "cell_type": "code",
   "execution_count": 8,
   "metadata": {},
   "outputs": [
    {
     "name": "stdout",
     "output_type": "stream",
     "text": [
      "time: 0 ns (started: 2021-12-20 00:12:13 -06:00)\n"
     ]
    }
   ],
   "source": [
    "redfin_months = redfin_months.rename(columns={'ADDRESS': 'Street'})\n",
    "redfin_months = redfin_months.rename(columns={'STATE OR PROVINCE': 'State'})\n",
    "redfin_months = redfin_months.rename(columns={'ZIP OR POSTAL CODE': 'Zipcode'})\n",
    "redfin_months = redfin_months.rename(columns={'SQUARE FEET': 'sqft'})\n",
    "redfin_months = redfin_months.rename(columns={'BEDS': 'Bedroom'})\n",
    "redfin_months = redfin_months.rename(columns={'BATHS': 'Bathroom'})\n",
    "redfin_months = redfin_months.rename(columns={'LATITUDE': 'latitude'})\n",
    "redfin_months = redfin_months.rename(columns={'LONGITUDE': 'longitude'})"
   ]
  },
  {
   "cell_type": "code",
   "execution_count": 9,
   "metadata": {},
   "outputs": [
    {
     "data": {
      "text/html": [
       "<div>\n",
       "<style scoped>\n",
       "    .dataframe tbody tr th:only-of-type {\n",
       "        vertical-align: middle;\n",
       "    }\n",
       "\n",
       "    .dataframe tbody tr th {\n",
       "        vertical-align: top;\n",
       "    }\n",
       "\n",
       "    .dataframe thead th {\n",
       "        text-align: right;\n",
       "    }\n",
       "</style>\n",
       "<table border=\"1\" class=\"dataframe\">\n",
       "  <thead>\n",
       "    <tr style=\"text-align: right;\">\n",
       "      <th></th>\n",
       "      <th>SOLD DATE</th>\n",
       "      <th>Street</th>\n",
       "      <th>CITY</th>\n",
       "      <th>State</th>\n",
       "      <th>Zipcode</th>\n",
       "      <th>PRICE</th>\n",
       "      <th>Bedroom</th>\n",
       "      <th>Bathroom</th>\n",
       "      <th>LOCATION</th>\n",
       "      <th>sqft</th>\n",
       "      <th>Latitude</th>\n",
       "      <th>Longitude</th>\n",
       "    </tr>\n",
       "  </thead>\n",
       "  <tbody>\n",
       "    <tr>\n",
       "      <th>0</th>\n",
       "      <td>April-20-2021</td>\n",
       "      <td>627 Skyview Dr</td>\n",
       "      <td>Nashville</td>\n",
       "      <td>TN</td>\n",
       "      <td>37206</td>\n",
       "      <td>400000</td>\n",
       "      <td>3.0</td>\n",
       "      <td>1.0</td>\n",
       "      <td>Rolling Acres</td>\n",
       "      <td>1704.0</td>\n",
       "      <td>36.180026</td>\n",
       "      <td>-86.731441</td>\n",
       "    </tr>\n",
       "    <tr>\n",
       "      <th>1</th>\n",
       "      <td>May-12-2021</td>\n",
       "      <td>1613 Jacksons Valley Pl</td>\n",
       "      <td>Hermitage</td>\n",
       "      <td>TN</td>\n",
       "      <td>37076</td>\n",
       "      <td>361000</td>\n",
       "      <td>3.0</td>\n",
       "      <td>2.0</td>\n",
       "      <td>Ridgemere</td>\n",
       "      <td>1895.0</td>\n",
       "      <td>36.188682</td>\n",
       "      <td>-86.603974</td>\n",
       "    </tr>\n",
       "    <tr>\n",
       "      <th>2</th>\n",
       "      <td>June-3-2021</td>\n",
       "      <td>2076 Stanford Village Dr</td>\n",
       "      <td>Antioch</td>\n",
       "      <td>TN</td>\n",
       "      <td>37013</td>\n",
       "      <td>336000</td>\n",
       "      <td>3.0</td>\n",
       "      <td>2.5</td>\n",
       "      <td>Stanford Village</td>\n",
       "      <td>1641.0</td>\n",
       "      <td>36.021574</td>\n",
       "      <td>-86.689006</td>\n",
       "    </tr>\n",
       "    <tr>\n",
       "      <th>3</th>\n",
       "      <td>June-21-2021</td>\n",
       "      <td>1827 Cephas St</td>\n",
       "      <td>Nashville</td>\n",
       "      <td>TN</td>\n",
       "      <td>37208</td>\n",
       "      <td>460000</td>\n",
       "      <td>3.0</td>\n",
       "      <td>2.0</td>\n",
       "      <td>Cephas Woodard</td>\n",
       "      <td>1779.0</td>\n",
       "      <td>36.182059</td>\n",
       "      <td>-86.806558</td>\n",
       "    </tr>\n",
       "    <tr>\n",
       "      <th>4</th>\n",
       "      <td>August-5-2021</td>\n",
       "      <td>7620 Staffordshire Dr</td>\n",
       "      <td>Nashville</td>\n",
       "      <td>TN</td>\n",
       "      <td>37221</td>\n",
       "      <td>475000</td>\n",
       "      <td>3.0</td>\n",
       "      <td>2.5</td>\n",
       "      <td>Sheffield On The Harpeth</td>\n",
       "      <td>1843.0</td>\n",
       "      <td>36.064080</td>\n",
       "      <td>-86.971667</td>\n",
       "    </tr>\n",
       "  </tbody>\n",
       "</table>\n",
       "</div>"
      ],
      "text/plain": [
       "       SOLD DATE                    Street       CITY State  Zipcode   PRICE  \\\n",
       "0  April-20-2021            627 Skyview Dr  Nashville    TN    37206  400000   \n",
       "1    May-12-2021   1613 Jacksons Valley Pl  Hermitage    TN    37076  361000   \n",
       "2    June-3-2021  2076 Stanford Village Dr    Antioch    TN    37013  336000   \n",
       "3   June-21-2021            1827 Cephas St  Nashville    TN    37208  460000   \n",
       "4  August-5-2021     7620 Staffordshire Dr  Nashville    TN    37221  475000   \n",
       "\n",
       "   Bedroom  Bathroom                  LOCATION    sqft   Latitude  Longitude  \n",
       "0      3.0       1.0             Rolling Acres  1704.0  36.180026 -86.731441  \n",
       "1      3.0       2.0                 Ridgemere  1895.0  36.188682 -86.603974  \n",
       "2      3.0       2.5          Stanford Village  1641.0  36.021574 -86.689006  \n",
       "3      3.0       2.0            Cephas Woodard  1779.0  36.182059 -86.806558  \n",
       "4      3.0       2.5  Sheffield On The Harpeth  1843.0  36.064080 -86.971667  "
      ]
     },
     "execution_count": 9,
     "metadata": {},
     "output_type": "execute_result"
    },
    {
     "name": "stdout",
     "output_type": "stream",
     "text": [
      "time: 15 ms (started: 2021-12-20 00:12:13 -06:00)\n"
     ]
    }
   ],
   "source": [
    "redfin_months.head()"
   ]
  },
  {
   "cell_type": "code",
   "execution_count": null,
   "metadata": {},
   "outputs": [],
   "source": []
  },
  {
   "cell_type": "code",
   "execution_count": 10,
   "metadata": {},
   "outputs": [
    {
     "name": "stdout",
     "output_type": "stream",
     "text": [
      "time: 0 ns (started: 2021-12-20 00:12:14 -06:00)\n"
     ]
    }
   ],
   "source": [
    "all_filenames = [i for i in glob.glob('../data/zillowdata/*.{}'.format('csv'))]"
   ]
  },
  {
   "cell_type": "code",
   "execution_count": 11,
   "metadata": {},
   "outputs": [
    {
     "name": "stdout",
     "output_type": "stream",
     "text": [
      "['../data/zillowdata\\\\zillowdata22.csv', '../data/zillowdata\\\\zillowfreeapi0.csv', '../data/zillowdata\\\\zillowfreeapi1.csv', '../data/zillowdata\\\\zillowsection1.csv', '../data/zillowdata\\\\zillowsection2.csv', '../data/zillowdata\\\\zillowsection3.csv', '../data/zillowdata\\\\zillowsection4.csv', '../data/zillowdata\\\\zillowwebscrape2.csv', '../data/zillowdata\\\\zillowwebscrape3.csv', '../data/zillowdata\\\\zillowzoomed1.csv']\n",
      "time: 0 ns (started: 2021-12-20 00:12:14 -06:00)\n"
     ]
    }
   ],
   "source": [
    "print(all_filenames)"
   ]
  },
  {
   "cell_type": "code",
   "execution_count": 12,
   "metadata": {},
   "outputs": [
    {
     "name": "stdout",
     "output_type": "stream",
     "text": [
      "time: 375 ms (started: 2021-12-20 00:12:14 -06:00)\n"
     ]
    },
    {
     "name": "stderr",
     "output_type": "stream",
     "text": [
      "C:\\Users\\YASHAC~1\\AppData\\Local\\Temp/ipykernel_6556/2921648921.py:1: DtypeWarning: Columns (5,65,66,67,68,69,70,71,72,73,74,75,76,77,78,79,80,81,82,83,84,85,86,87,88,89,90,91,92,93,94,95,96) have mixed types.Specify dtype option on import or set low_memory=False.\n",
      "  zillow_months = pd.concat([pd.read_csv(f) for f in all_filenames ])\n"
     ]
    }
   ],
   "source": [
    "zillow_months = pd.concat([pd.read_csv(f) for f in all_filenames ])"
   ]
  },
  {
   "cell_type": "code",
   "execution_count": 13,
   "metadata": {},
   "outputs": [
    {
     "name": "stdout",
     "output_type": "stream",
     "text": [
      "<class 'pandas.core.frame.DataFrame'>\n",
      "Int64Index: 9970 entries, 0 to 175\n",
      "Columns: 106 entries, Address to photos/81\n",
      "dtypes: float64(9), object(97)\n",
      "memory usage: 8.1+ MB\n",
      "time: 15 ms (started: 2021-12-20 00:12:15 -06:00)\n"
     ]
    }
   ],
   "source": [
    "zillow_months.info()"
   ]
  },
  {
   "cell_type": "code",
   "execution_count": 14,
   "metadata": {},
   "outputs": [
    {
     "name": "stdout",
     "output_type": "stream",
     "text": [
      "time: 78 ms (started: 2021-12-20 00:12:15 -06:00)\n"
     ]
    }
   ],
   "source": [
    "#drops columns that have only NAN values\n",
    "zillow_months.dropna(how='all', axis=1, inplace=True)"
   ]
  },
  {
   "cell_type": "code",
   "execution_count": 15,
   "metadata": {},
   "outputs": [
    {
     "name": "stdout",
     "output_type": "stream",
     "text": [
      "time: 16 ms (started: 2021-12-20 00:12:15 -06:00)\n"
     ]
    }
   ],
   "source": [
    "#dropped all trash columns \n",
    "zillow_months = zillow_months.drop(['address/city', 'address/neighborhood', 'address/state', 'address/streetAddress', 'address/subdivision', 'address/zipcode', 'photos/72', 'photos/73', 'photos/74', 'photos/75', 'photos/76', 'photos/77', 'photos/78', 'photos/79', 'photos/80', 'photos/81', 'photos/71', 'photos/70', 'photos/69', 'photos/68', 'photos/67', 'photos/66', 'photos/65', 'photos/64', 'photos/63', 'photos/62', 'photos/61', 'photos/60', 'photos/59', 'photos/58', 'photos/57', 'photos/56', 'photos/55', 'photos/54', 'photos/53', 'photos/52', 'photos/51', 'photos/50', 'photos/49', 'photos/48', 'photos/47', 'photos/46', 'photos/45', 'photos/44', 'photos/43', 'photos/42', 'photos/41', 'photos/40', 'photos/39', 'photos/38', 'photos/37', 'photos/36', 'photos/35', 'photos/34', 'photos/33', 'photos/32', 'photos/31', 'photos/30', 'photos/29', 'photos/28', 'photos/27', 'photos/26', 'photos/25', 'photos/24', 'photos/23', 'photos/22', 'photos/21', 'photos/20', 'photos/19'], axis=1)"
   ]
  },
  {
   "cell_type": "code",
   "execution_count": 16,
   "metadata": {},
   "outputs": [
    {
     "name": "stdout",
     "output_type": "stream",
     "text": [
      "time: 0 ns (started: 2021-12-20 00:12:16 -06:00)\n"
     ]
    }
   ],
   "source": [
    "#more trash\n",
    "zillow_months = zillow_months.drop(['photos/12', 'photos/13', 'photos/14', 'photos/15', 'photos/16', 'photos/17', 'photos/18', 'price', 'url', 'yearBuilt', 'currency' ], axis=1)"
   ]
  },
  {
   "cell_type": "code",
   "execution_count": 17,
   "metadata": {},
   "outputs": [
    {
     "name": "stdout",
     "output_type": "stream",
     "text": [
      "time: 0 ns (started: 2021-12-20 00:12:16 -06:00)\n"
     ]
    }
   ],
   "source": [
    "#...more trash\n",
    "zillow_months = zillow_months.drop(['bathrooms', 'bedrooms', 'homeStatus', 'photos/0', 'photos/1', 'photos/2', 'photos/3', 'photos/4', 'photos/5', 'photos/6', 'photos/7', 'photos/8', 'photos/9', 'photos/10', 'photos/11', 'livingArea'], axis=1)"
   ]
  },
  {
   "cell_type": "code",
   "execution_count": 18,
   "metadata": {},
   "outputs": [
    {
     "name": "stdout",
     "output_type": "stream",
     "text": [
      "time: 0 ns (started: 2021-12-20 00:12:16 -06:00)\n"
     ]
    }
   ],
   "source": [
    "zillow_months = zillow_months.rename(columns={'list-card-variable-text': 'Sold'})"
   ]
  },
  {
   "cell_type": "code",
   "execution_count": 19,
   "metadata": {},
   "outputs": [
    {
     "data": {
      "text/html": [
       "<div>\n",
       "<style scoped>\n",
       "    .dataframe tbody tr th:only-of-type {\n",
       "        vertical-align: middle;\n",
       "    }\n",
       "\n",
       "    .dataframe tbody tr th {\n",
       "        vertical-align: top;\n",
       "    }\n",
       "\n",
       "    .dataframe thead th {\n",
       "        text-align: right;\n",
       "    }\n",
       "</style>\n",
       "<table border=\"1\" class=\"dataframe\">\n",
       "  <thead>\n",
       "    <tr style=\"text-align: right;\">\n",
       "      <th></th>\n",
       "      <th>Address</th>\n",
       "      <th>Price</th>\n",
       "      <th>Bedroom</th>\n",
       "      <th>Bathroom</th>\n",
       "      <th>sqft</th>\n",
       "      <th>Sold</th>\n",
       "      <th>description</th>\n",
       "      <th>latitude</th>\n",
       "      <th>longitude</th>\n",
       "    </tr>\n",
       "  </thead>\n",
       "  <tbody>\n",
       "    <tr>\n",
       "      <th>0</th>\n",
       "      <td>536 Wesley Ave, Nashville, TN 37207</td>\n",
       "      <td>$340,000</td>\n",
       "      <td>2.0</td>\n",
       "      <td>1.0</td>\n",
       "      <td>978</td>\n",
       "      <td>Sold 12/17/2021</td>\n",
       "      <td>NaN</td>\n",
       "      <td>NaN</td>\n",
       "      <td>NaN</td>\n",
       "    </tr>\n",
       "    <tr>\n",
       "      <th>1</th>\n",
       "      <td>3528 Paragon Dr, Nashville, TN 37211</td>\n",
       "      <td>$580,000</td>\n",
       "      <td>4.0</td>\n",
       "      <td>3.0</td>\n",
       "      <td>2,391</td>\n",
       "      <td>Sold 12/17/2021</td>\n",
       "      <td>NaN</td>\n",
       "      <td>NaN</td>\n",
       "      <td>NaN</td>\n",
       "    </tr>\n",
       "    <tr>\n",
       "      <th>2</th>\n",
       "      <td>NaN</td>\n",
       "      <td>NaN</td>\n",
       "      <td>NaN</td>\n",
       "      <td>NaN</td>\n",
       "      <td>NaN</td>\n",
       "      <td>NaN</td>\n",
       "      <td>NaN</td>\n",
       "      <td>NaN</td>\n",
       "      <td>NaN</td>\n",
       "    </tr>\n",
       "    <tr>\n",
       "      <th>3</th>\n",
       "      <td>4002 Burrus St, Nashville, TN 37216</td>\n",
       "      <td>$551,000</td>\n",
       "      <td>3.0</td>\n",
       "      <td>3.0</td>\n",
       "      <td>1,886</td>\n",
       "      <td>Sold 12/17/2021</td>\n",
       "      <td>NaN</td>\n",
       "      <td>NaN</td>\n",
       "      <td>NaN</td>\n",
       "    </tr>\n",
       "    <tr>\n",
       "      <th>4</th>\n",
       "      <td>9721 Katz Ln, Brentwood, TN 37027</td>\n",
       "      <td>$584,820</td>\n",
       "      <td>4.0</td>\n",
       "      <td>3.0</td>\n",
       "      <td>2,653</td>\n",
       "      <td>Sold 12/17/2021</td>\n",
       "      <td>NaN</td>\n",
       "      <td>NaN</td>\n",
       "      <td>NaN</td>\n",
       "    </tr>\n",
       "  </tbody>\n",
       "</table>\n",
       "</div>"
      ],
      "text/plain": [
       "                                Address     Price Bedroom Bathroom   sqft  \\\n",
       "0   536 Wesley Ave, Nashville, TN 37207  $340,000     2.0      1.0    978   \n",
       "1  3528 Paragon Dr, Nashville, TN 37211  $580,000     4.0      3.0  2,391   \n",
       "2                                   NaN       NaN     NaN      NaN    NaN   \n",
       "3   4002 Burrus St, Nashville, TN 37216  $551,000     3.0      3.0  1,886   \n",
       "4     9721 Katz Ln, Brentwood, TN 37027  $584,820     4.0      3.0  2,653   \n",
       "\n",
       "              Sold description  latitude  longitude  \n",
       "0  Sold 12/17/2021         NaN       NaN        NaN  \n",
       "1  Sold 12/17/2021         NaN       NaN        NaN  \n",
       "2              NaN         NaN       NaN        NaN  \n",
       "3  Sold 12/17/2021         NaN       NaN        NaN  \n",
       "4  Sold 12/17/2021         NaN       NaN        NaN  "
      ]
     },
     "execution_count": 19,
     "metadata": {},
     "output_type": "execute_result"
    },
    {
     "name": "stdout",
     "output_type": "stream",
     "text": [
      "time: 16 ms (started: 2021-12-20 00:12:17 -06:00)\n"
     ]
    }
   ],
   "source": [
    "zillow_months.head()"
   ]
  },
  {
   "cell_type": "code",
   "execution_count": 20,
   "metadata": {},
   "outputs": [
    {
     "name": "stdout",
     "output_type": "stream",
     "text": [
      "time: 16 ms (started: 2021-12-20 00:12:17 -06:00)\n"
     ]
    }
   ],
   "source": [
    "# split column and add new columns to df\n",
    "zillow_months[['Street', 'City', 'State']] = zillow_months['Address'].str.split(',', n = 2, expand=True)"
   ]
  },
  {
   "cell_type": "code",
   "execution_count": 21,
   "metadata": {},
   "outputs": [
    {
     "data": {
      "text/html": [
       "<div>\n",
       "<style scoped>\n",
       "    .dataframe tbody tr th:only-of-type {\n",
       "        vertical-align: middle;\n",
       "    }\n",
       "\n",
       "    .dataframe tbody tr th {\n",
       "        vertical-align: top;\n",
       "    }\n",
       "\n",
       "    .dataframe thead th {\n",
       "        text-align: right;\n",
       "    }\n",
       "</style>\n",
       "<table border=\"1\" class=\"dataframe\">\n",
       "  <thead>\n",
       "    <tr style=\"text-align: right;\">\n",
       "      <th></th>\n",
       "      <th>Address</th>\n",
       "      <th>Price</th>\n",
       "      <th>Bedroom</th>\n",
       "      <th>Bathroom</th>\n",
       "      <th>sqft</th>\n",
       "      <th>Sold</th>\n",
       "      <th>description</th>\n",
       "      <th>latitude</th>\n",
       "      <th>longitude</th>\n",
       "      <th>Street</th>\n",
       "      <th>City</th>\n",
       "      <th>State</th>\n",
       "    </tr>\n",
       "  </thead>\n",
       "  <tbody>\n",
       "    <tr>\n",
       "      <th>0</th>\n",
       "      <td>536 Wesley Ave, Nashville, TN 37207</td>\n",
       "      <td>$340,000</td>\n",
       "      <td>2.0</td>\n",
       "      <td>1.0</td>\n",
       "      <td>978</td>\n",
       "      <td>Sold 12/17/2021</td>\n",
       "      <td>NaN</td>\n",
       "      <td>NaN</td>\n",
       "      <td>NaN</td>\n",
       "      <td>536 Wesley Ave</td>\n",
       "      <td>Nashville</td>\n",
       "      <td>TN 37207</td>\n",
       "    </tr>\n",
       "    <tr>\n",
       "      <th>1</th>\n",
       "      <td>3528 Paragon Dr, Nashville, TN 37211</td>\n",
       "      <td>$580,000</td>\n",
       "      <td>4.0</td>\n",
       "      <td>3.0</td>\n",
       "      <td>2,391</td>\n",
       "      <td>Sold 12/17/2021</td>\n",
       "      <td>NaN</td>\n",
       "      <td>NaN</td>\n",
       "      <td>NaN</td>\n",
       "      <td>3528 Paragon Dr</td>\n",
       "      <td>Nashville</td>\n",
       "      <td>TN 37211</td>\n",
       "    </tr>\n",
       "    <tr>\n",
       "      <th>2</th>\n",
       "      <td>NaN</td>\n",
       "      <td>NaN</td>\n",
       "      <td>NaN</td>\n",
       "      <td>NaN</td>\n",
       "      <td>NaN</td>\n",
       "      <td>NaN</td>\n",
       "      <td>NaN</td>\n",
       "      <td>NaN</td>\n",
       "      <td>NaN</td>\n",
       "      <td>NaN</td>\n",
       "      <td>NaN</td>\n",
       "      <td>NaN</td>\n",
       "    </tr>\n",
       "    <tr>\n",
       "      <th>3</th>\n",
       "      <td>4002 Burrus St, Nashville, TN 37216</td>\n",
       "      <td>$551,000</td>\n",
       "      <td>3.0</td>\n",
       "      <td>3.0</td>\n",
       "      <td>1,886</td>\n",
       "      <td>Sold 12/17/2021</td>\n",
       "      <td>NaN</td>\n",
       "      <td>NaN</td>\n",
       "      <td>NaN</td>\n",
       "      <td>4002 Burrus St</td>\n",
       "      <td>Nashville</td>\n",
       "      <td>TN 37216</td>\n",
       "    </tr>\n",
       "    <tr>\n",
       "      <th>4</th>\n",
       "      <td>9721 Katz Ln, Brentwood, TN 37027</td>\n",
       "      <td>$584,820</td>\n",
       "      <td>4.0</td>\n",
       "      <td>3.0</td>\n",
       "      <td>2,653</td>\n",
       "      <td>Sold 12/17/2021</td>\n",
       "      <td>NaN</td>\n",
       "      <td>NaN</td>\n",
       "      <td>NaN</td>\n",
       "      <td>9721 Katz Ln</td>\n",
       "      <td>Brentwood</td>\n",
       "      <td>TN 37027</td>\n",
       "    </tr>\n",
       "  </tbody>\n",
       "</table>\n",
       "</div>"
      ],
      "text/plain": [
       "                                Address     Price Bedroom Bathroom   sqft  \\\n",
       "0   536 Wesley Ave, Nashville, TN 37207  $340,000     2.0      1.0    978   \n",
       "1  3528 Paragon Dr, Nashville, TN 37211  $580,000     4.0      3.0  2,391   \n",
       "2                                   NaN       NaN     NaN      NaN    NaN   \n",
       "3   4002 Burrus St, Nashville, TN 37216  $551,000     3.0      3.0  1,886   \n",
       "4     9721 Katz Ln, Brentwood, TN 37027  $584,820     4.0      3.0  2,653   \n",
       "\n",
       "              Sold description  latitude  longitude           Street  \\\n",
       "0  Sold 12/17/2021         NaN       NaN        NaN   536 Wesley Ave   \n",
       "1  Sold 12/17/2021         NaN       NaN        NaN  3528 Paragon Dr   \n",
       "2              NaN         NaN       NaN        NaN              NaN   \n",
       "3  Sold 12/17/2021         NaN       NaN        NaN   4002 Burrus St   \n",
       "4  Sold 12/17/2021         NaN       NaN        NaN     9721 Katz Ln   \n",
       "\n",
       "         City      State  \n",
       "0   Nashville   TN 37207  \n",
       "1   Nashville   TN 37211  \n",
       "2         NaN        NaN  \n",
       "3   Nashville   TN 37216  \n",
       "4   Brentwood   TN 37027  "
      ]
     },
     "execution_count": 21,
     "metadata": {},
     "output_type": "execute_result"
    },
    {
     "name": "stdout",
     "output_type": "stream",
     "text": [
      "time: 0 ns (started: 2021-12-20 00:12:17 -06:00)\n"
     ]
    }
   ],
   "source": [
    "zillow_months.head()"
   ]
  },
  {
   "cell_type": "code",
   "execution_count": 22,
   "metadata": {},
   "outputs": [
    {
     "data": {
      "text/html": [
       "<div>\n",
       "<style scoped>\n",
       "    .dataframe tbody tr th:only-of-type {\n",
       "        vertical-align: middle;\n",
       "    }\n",
       "\n",
       "    .dataframe tbody tr th {\n",
       "        vertical-align: top;\n",
       "    }\n",
       "\n",
       "    .dataframe thead th {\n",
       "        text-align: right;\n",
       "    }\n",
       "</style>\n",
       "<table border=\"1\" class=\"dataframe\">\n",
       "  <thead>\n",
       "    <tr style=\"text-align: right;\">\n",
       "      <th></th>\n",
       "      <th>SOLD DATE</th>\n",
       "      <th>Street</th>\n",
       "      <th>CITY</th>\n",
       "      <th>State</th>\n",
       "      <th>Zipcode</th>\n",
       "      <th>PRICE</th>\n",
       "      <th>Bedroom</th>\n",
       "      <th>Bathroom</th>\n",
       "      <th>LOCATION</th>\n",
       "      <th>sqft</th>\n",
       "      <th>Latitude</th>\n",
       "      <th>Longitude</th>\n",
       "    </tr>\n",
       "  </thead>\n",
       "  <tbody>\n",
       "    <tr>\n",
       "      <th>0</th>\n",
       "      <td>April-20-2021</td>\n",
       "      <td>627 Skyview Dr</td>\n",
       "      <td>Nashville</td>\n",
       "      <td>TN</td>\n",
       "      <td>37206</td>\n",
       "      <td>400000</td>\n",
       "      <td>3.0</td>\n",
       "      <td>1.0</td>\n",
       "      <td>Rolling Acres</td>\n",
       "      <td>1704.0</td>\n",
       "      <td>36.180026</td>\n",
       "      <td>-86.731441</td>\n",
       "    </tr>\n",
       "    <tr>\n",
       "      <th>1</th>\n",
       "      <td>May-12-2021</td>\n",
       "      <td>1613 Jacksons Valley Pl</td>\n",
       "      <td>Hermitage</td>\n",
       "      <td>TN</td>\n",
       "      <td>37076</td>\n",
       "      <td>361000</td>\n",
       "      <td>3.0</td>\n",
       "      <td>2.0</td>\n",
       "      <td>Ridgemere</td>\n",
       "      <td>1895.0</td>\n",
       "      <td>36.188682</td>\n",
       "      <td>-86.603974</td>\n",
       "    </tr>\n",
       "    <tr>\n",
       "      <th>2</th>\n",
       "      <td>June-3-2021</td>\n",
       "      <td>2076 Stanford Village Dr</td>\n",
       "      <td>Antioch</td>\n",
       "      <td>TN</td>\n",
       "      <td>37013</td>\n",
       "      <td>336000</td>\n",
       "      <td>3.0</td>\n",
       "      <td>2.5</td>\n",
       "      <td>Stanford Village</td>\n",
       "      <td>1641.0</td>\n",
       "      <td>36.021574</td>\n",
       "      <td>-86.689006</td>\n",
       "    </tr>\n",
       "    <tr>\n",
       "      <th>3</th>\n",
       "      <td>June-21-2021</td>\n",
       "      <td>1827 Cephas St</td>\n",
       "      <td>Nashville</td>\n",
       "      <td>TN</td>\n",
       "      <td>37208</td>\n",
       "      <td>460000</td>\n",
       "      <td>3.0</td>\n",
       "      <td>2.0</td>\n",
       "      <td>Cephas Woodard</td>\n",
       "      <td>1779.0</td>\n",
       "      <td>36.182059</td>\n",
       "      <td>-86.806558</td>\n",
       "    </tr>\n",
       "    <tr>\n",
       "      <th>4</th>\n",
       "      <td>August-5-2021</td>\n",
       "      <td>7620 Staffordshire Dr</td>\n",
       "      <td>Nashville</td>\n",
       "      <td>TN</td>\n",
       "      <td>37221</td>\n",
       "      <td>475000</td>\n",
       "      <td>3.0</td>\n",
       "      <td>2.5</td>\n",
       "      <td>Sheffield On The Harpeth</td>\n",
       "      <td>1843.0</td>\n",
       "      <td>36.064080</td>\n",
       "      <td>-86.971667</td>\n",
       "    </tr>\n",
       "  </tbody>\n",
       "</table>\n",
       "</div>"
      ],
      "text/plain": [
       "       SOLD DATE                    Street       CITY State  Zipcode   PRICE  \\\n",
       "0  April-20-2021            627 Skyview Dr  Nashville    TN    37206  400000   \n",
       "1    May-12-2021   1613 Jacksons Valley Pl  Hermitage    TN    37076  361000   \n",
       "2    June-3-2021  2076 Stanford Village Dr    Antioch    TN    37013  336000   \n",
       "3   June-21-2021            1827 Cephas St  Nashville    TN    37208  460000   \n",
       "4  August-5-2021     7620 Staffordshire Dr  Nashville    TN    37221  475000   \n",
       "\n",
       "   Bedroom  Bathroom                  LOCATION    sqft   Latitude  Longitude  \n",
       "0      3.0       1.0             Rolling Acres  1704.0  36.180026 -86.731441  \n",
       "1      3.0       2.0                 Ridgemere  1895.0  36.188682 -86.603974  \n",
       "2      3.0       2.5          Stanford Village  1641.0  36.021574 -86.689006  \n",
       "3      3.0       2.0            Cephas Woodard  1779.0  36.182059 -86.806558  \n",
       "4      3.0       2.5  Sheffield On The Harpeth  1843.0  36.064080 -86.971667  "
      ]
     },
     "execution_count": 22,
     "metadata": {},
     "output_type": "execute_result"
    },
    {
     "name": "stdout",
     "output_type": "stream",
     "text": [
      "time: 16 ms (started: 2021-12-20 00:12:18 -06:00)\n"
     ]
    }
   ],
   "source": [
    "redfin_months.head()"
   ]
  },
  {
   "cell_type": "code",
   "execution_count": 23,
   "metadata": {},
   "outputs": [
    {
     "name": "stdout",
     "output_type": "stream",
     "text": [
      "time: 0 ns (started: 2021-12-20 00:12:18 -06:00)\n"
     ]
    }
   ],
   "source": [
    "#delete whole row based on column value // get rid of non \"nashville\" cities\n",
    "#redfin_months = redfin_months[redfin_months.CITY != 'Hermitage']"
   ]
  },
  {
   "cell_type": "code",
   "execution_count": 24,
   "metadata": {},
   "outputs": [
    {
     "name": "stdout",
     "output_type": "stream",
     "text": [
      "time: 16 ms (started: 2021-12-20 00:12:19 -06:00)\n"
     ]
    }
   ],
   "source": [
    "#merge df's    Zillow listings and Redfin Listings = join on \n",
    "sold_merged_listings = pd.merge(redfin_months, zillow_months, on = 'Street', how='outer')"
   ]
  },
  {
   "cell_type": "code",
   "execution_count": 25,
   "metadata": {},
   "outputs": [
    {
     "name": "stdout",
     "output_type": "stream",
     "text": [
      "<class 'pandas.core.frame.DataFrame'>\n",
      "Int64Index: 10665 entries, 0 to 10664\n",
      "Data columns (total 23 columns):\n",
      " #   Column       Non-Null Count  Dtype  \n",
      "---  ------       --------------  -----  \n",
      " 0   SOLD DATE    600 non-null    object \n",
      " 1   Street       2002 non-null   object \n",
      " 2   CITY         700 non-null    object \n",
      " 3   State_x      700 non-null    object \n",
      " 4   Zipcode      700 non-null    float64\n",
      " 5   PRICE        700 non-null    float64\n",
      " 6   Bedroom_x    569 non-null    float64\n",
      " 7   Bathroom_x   573 non-null    float64\n",
      " 8   LOCATION     600 non-null    object \n",
      " 9   sqft_x       581 non-null    float64\n",
      " 10  Latitude     700 non-null    float64\n",
      " 11  Longitude    700 non-null    float64\n",
      " 12  Address      1309 non-null   object \n",
      " 13  Price        1309 non-null   object \n",
      " 14  Bedroom_y    1309 non-null   object \n",
      " 15  Bathroom_y   1309 non-null   object \n",
      " 16  sqft_y       1309 non-null   object \n",
      " 17  Sold         1309 non-null   object \n",
      " 18  description  8586 non-null   object \n",
      " 19  latitude     8653 non-null   float64\n",
      " 20  longitude    8653 non-null   float64\n",
      " 21  City         1309 non-null   object \n",
      " 22  State_y      1309 non-null   object \n",
      "dtypes: float64(9), object(14)\n",
      "memory usage: 2.0+ MB\n",
      "time: 16 ms (started: 2021-12-20 00:12:19 -06:00)\n"
     ]
    }
   ],
   "source": [
    "sold_merged_listings.info()"
   ]
  },
  {
   "cell_type": "code",
   "execution_count": 26,
   "metadata": {},
   "outputs": [
    {
     "name": "stdout",
     "output_type": "stream",
     "text": [
      "time: 16 ms (started: 2021-12-20 00:12:20 -06:00)\n"
     ]
    }
   ],
   "source": [
    "#drop repeats - unusable columns\n",
    "sold_merged_listings = sold_merged_listings.drop(['State_x', 'LOCATION', 'description', 'State_y'], axis=1)"
   ]
  },
  {
   "cell_type": "code",
   "execution_count": 27,
   "metadata": {},
   "outputs": [
    {
     "data": {
      "text/html": [
       "<div>\n",
       "<style scoped>\n",
       "    .dataframe tbody tr th:only-of-type {\n",
       "        vertical-align: middle;\n",
       "    }\n",
       "\n",
       "    .dataframe tbody tr th {\n",
       "        vertical-align: top;\n",
       "    }\n",
       "\n",
       "    .dataframe thead th {\n",
       "        text-align: right;\n",
       "    }\n",
       "</style>\n",
       "<table border=\"1\" class=\"dataframe\">\n",
       "  <thead>\n",
       "    <tr style=\"text-align: right;\">\n",
       "      <th></th>\n",
       "      <th>SOLD DATE</th>\n",
       "      <th>Street</th>\n",
       "      <th>CITY</th>\n",
       "      <th>Zipcode</th>\n",
       "      <th>PRICE</th>\n",
       "      <th>Bedroom_x</th>\n",
       "      <th>Bathroom_x</th>\n",
       "      <th>sqft_x</th>\n",
       "      <th>Latitude</th>\n",
       "      <th>Longitude</th>\n",
       "      <th>Address</th>\n",
       "      <th>Price</th>\n",
       "      <th>Bedroom_y</th>\n",
       "      <th>Bathroom_y</th>\n",
       "      <th>sqft_y</th>\n",
       "      <th>Sold</th>\n",
       "      <th>latitude</th>\n",
       "      <th>longitude</th>\n",
       "      <th>City</th>\n",
       "    </tr>\n",
       "  </thead>\n",
       "  <tbody>\n",
       "    <tr>\n",
       "      <th>10660</th>\n",
       "      <td>NaN</td>\n",
       "      <td>4439 Andrew Jackson Pkwy</td>\n",
       "      <td>NaN</td>\n",
       "      <td>NaN</td>\n",
       "      <td>NaN</td>\n",
       "      <td>NaN</td>\n",
       "      <td>NaN</td>\n",
       "      <td>NaN</td>\n",
       "      <td>NaN</td>\n",
       "      <td>NaN</td>\n",
       "      <td>4439 Andrew Jackson Pkwy, Hermitage, TN 37076</td>\n",
       "      <td>$279,900</td>\n",
       "      <td>3</td>\n",
       "      <td>2</td>\n",
       "      <td>1,988</td>\n",
       "      <td>Sold 01/07/2021</td>\n",
       "      <td>NaN</td>\n",
       "      <td>NaN</td>\n",
       "      <td>Hermitage</td>\n",
       "    </tr>\n",
       "    <tr>\n",
       "      <th>10661</th>\n",
       "      <td>NaN</td>\n",
       "      <td>1608 Pakenhams Retreat</td>\n",
       "      <td>NaN</td>\n",
       "      <td>NaN</td>\n",
       "      <td>NaN</td>\n",
       "      <td>NaN</td>\n",
       "      <td>NaN</td>\n",
       "      <td>NaN</td>\n",
       "      <td>NaN</td>\n",
       "      <td>NaN</td>\n",
       "      <td>1608 Pakenhams Retreat, Hermitage, TN 37076</td>\n",
       "      <td>$348,000</td>\n",
       "      <td>3</td>\n",
       "      <td>3</td>\n",
       "      <td>2,290</td>\n",
       "      <td>Sold 01/07/2021</td>\n",
       "      <td>NaN</td>\n",
       "      <td>NaN</td>\n",
       "      <td>Hermitage</td>\n",
       "    </tr>\n",
       "    <tr>\n",
       "      <th>10662</th>\n",
       "      <td>NaN</td>\n",
       "      <td>1912 Brookmeadow Ct</td>\n",
       "      <td>NaN</td>\n",
       "      <td>NaN</td>\n",
       "      <td>NaN</td>\n",
       "      <td>NaN</td>\n",
       "      <td>NaN</td>\n",
       "      <td>NaN</td>\n",
       "      <td>NaN</td>\n",
       "      <td>NaN</td>\n",
       "      <td>1912 Brookmeadow Ct, Hermitage, TN 37076</td>\n",
       "      <td>$275,000</td>\n",
       "      <td>3</td>\n",
       "      <td>2</td>\n",
       "      <td>1,374</td>\n",
       "      <td>Sold 01/07/2021</td>\n",
       "      <td>NaN</td>\n",
       "      <td>NaN</td>\n",
       "      <td>Hermitage</td>\n",
       "    </tr>\n",
       "    <tr>\n",
       "      <th>10663</th>\n",
       "      <td>NaN</td>\n",
       "      <td>626 Albany Dr</td>\n",
       "      <td>NaN</td>\n",
       "      <td>NaN</td>\n",
       "      <td>NaN</td>\n",
       "      <td>NaN</td>\n",
       "      <td>NaN</td>\n",
       "      <td>NaN</td>\n",
       "      <td>NaN</td>\n",
       "      <td>NaN</td>\n",
       "      <td>626 Albany Dr, Hermitage, TN 37076</td>\n",
       "      <td>$310,000</td>\n",
       "      <td>3</td>\n",
       "      <td>2</td>\n",
       "      <td>1,558</td>\n",
       "      <td>Sold 01/06/2021</td>\n",
       "      <td>NaN</td>\n",
       "      <td>NaN</td>\n",
       "      <td>Hermitage</td>\n",
       "    </tr>\n",
       "    <tr>\n",
       "      <th>10664</th>\n",
       "      <td>NaN</td>\n",
       "      <td>3809 Plantation Dr</td>\n",
       "      <td>NaN</td>\n",
       "      <td>NaN</td>\n",
       "      <td>NaN</td>\n",
       "      <td>NaN</td>\n",
       "      <td>NaN</td>\n",
       "      <td>NaN</td>\n",
       "      <td>NaN</td>\n",
       "      <td>NaN</td>\n",
       "      <td>3809 Plantation Dr, Hermitage, TN 37076</td>\n",
       "      <td>$200,000</td>\n",
       "      <td>5</td>\n",
       "      <td>2</td>\n",
       "      <td>1,738</td>\n",
       "      <td>Sold 01/06/2021</td>\n",
       "      <td>NaN</td>\n",
       "      <td>NaN</td>\n",
       "      <td>Hermitage</td>\n",
       "    </tr>\n",
       "  </tbody>\n",
       "</table>\n",
       "</div>"
      ],
      "text/plain": [
       "      SOLD DATE                    Street CITY  Zipcode  PRICE  Bedroom_x  \\\n",
       "10660       NaN  4439 Andrew Jackson Pkwy  NaN      NaN    NaN        NaN   \n",
       "10661       NaN    1608 Pakenhams Retreat  NaN      NaN    NaN        NaN   \n",
       "10662       NaN       1912 Brookmeadow Ct  NaN      NaN    NaN        NaN   \n",
       "10663       NaN             626 Albany Dr  NaN      NaN    NaN        NaN   \n",
       "10664       NaN        3809 Plantation Dr  NaN      NaN    NaN        NaN   \n",
       "\n",
       "       Bathroom_x  sqft_x  Latitude  Longitude  \\\n",
       "10660         NaN     NaN       NaN        NaN   \n",
       "10661         NaN     NaN       NaN        NaN   \n",
       "10662         NaN     NaN       NaN        NaN   \n",
       "10663         NaN     NaN       NaN        NaN   \n",
       "10664         NaN     NaN       NaN        NaN   \n",
       "\n",
       "                                             Address     Price Bedroom_y  \\\n",
       "10660  4439 Andrew Jackson Pkwy, Hermitage, TN 37076  $279,900         3   \n",
       "10661    1608 Pakenhams Retreat, Hermitage, TN 37076  $348,000         3   \n",
       "10662       1912 Brookmeadow Ct, Hermitage, TN 37076  $275,000         3   \n",
       "10663             626 Albany Dr, Hermitage, TN 37076  $310,000         3   \n",
       "10664        3809 Plantation Dr, Hermitage, TN 37076  $200,000         5   \n",
       "\n",
       "      Bathroom_y sqft_y             Sold  latitude  longitude        City  \n",
       "10660          2  1,988  Sold 01/07/2021       NaN        NaN   Hermitage  \n",
       "10661          3  2,290  Sold 01/07/2021       NaN        NaN   Hermitage  \n",
       "10662          2  1,374  Sold 01/07/2021       NaN        NaN   Hermitage  \n",
       "10663          2  1,558  Sold 01/06/2021       NaN        NaN   Hermitage  \n",
       "10664          2  1,738  Sold 01/06/2021       NaN        NaN   Hermitage  "
      ]
     },
     "execution_count": 27,
     "metadata": {},
     "output_type": "execute_result"
    },
    {
     "name": "stdout",
     "output_type": "stream",
     "text": [
      "time: 16 ms (started: 2021-12-20 00:12:23 -06:00)\n"
     ]
    }
   ],
   "source": [
    "sold_merged_listings.tail()"
   ]
  },
  {
   "cell_type": "code",
   "execution_count": 28,
   "metadata": {},
   "outputs": [
    {
     "name": "stdout",
     "output_type": "stream",
     "text": [
      "time: 78 ms (started: 2021-12-20 00:19:57 -06:00)\n"
     ]
    }
   ],
   "source": [
    "sold_merged_listings.to_csv(\"RedfinandZillowdata.csv\", sep=',', index=False, header=True)"
   ]
  },
  {
   "cell_type": "code",
   "execution_count": null,
   "metadata": {},
   "outputs": [],
   "source": []
  },
  {
   "cell_type": "code",
   "execution_count": null,
   "metadata": {},
   "outputs": [],
   "source": [
    "#used: https://console.apify.com/\n",
    "#used: APP - Instant Data Scraper (had many limitations)"
   ]
  }
 ],
 "metadata": {
  "kernelspec": {
   "display_name": "Python 3 (ipykernel)",
   "language": "python",
   "name": "python3"
  },
  "language_info": {
   "codemirror_mode": {
    "name": "ipython",
    "version": 3
   },
   "file_extension": ".py",
   "mimetype": "text/x-python",
   "name": "python",
   "nbconvert_exporter": "python",
   "pygments_lexer": "ipython3",
   "version": "3.8.5"
  }
 },
 "nbformat": 4,
 "nbformat_minor": 4
}
