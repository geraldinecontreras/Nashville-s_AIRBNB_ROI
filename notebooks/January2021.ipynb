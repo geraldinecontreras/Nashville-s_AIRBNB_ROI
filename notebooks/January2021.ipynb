{
 "cells": [
  {
   "cell_type": "code",
   "execution_count": 2,
   "metadata": {},
   "outputs": [
    {
     "name": "stdout",
     "output_type": "stream",
     "text": [
      "Populating the interactive namespace from numpy and matplotlib\n"
     ]
    },
    {
     "name": "stderr",
     "output_type": "stream",
     "text": [
      "C:\\Users\\yashaclone\\anaconda3\\lib\\site-packages\\IPython\\core\\magics\\pylab.py:159: UserWarning: pylab import has clobbered these variables: ['datetime']\n",
      "`%matplotlib` prevents importing * from pylab and numpy\n",
      "  warn(\"pylab import has clobbered these variables: %s\"  % clobbered +\n"
     ]
    }
   ],
   "source": [
    "%matplotlib inline\n",
    "%pylab inline\n",
    "import pandas as pd\n",
    "import numpy as np\n",
    "import matplotlib.pyplot as plt\n",
    "import plotly.graph_objs as go\n",
    "import seaborn as sns\n",
    "#import pyplot as plt\n",
    "from functools import reduce\n",
    "from datetime import date\n",
    "from datetime import datetime\n",
    "#from dtale.views import startup\n",
    "#import dtale\n",
    "# os and glob help concat multiple csv files into one\n",
    "import os\n",
    "import glob\n"
   ]
  },
  {
   "cell_type": "code",
   "execution_count": 3,
   "metadata": {},
   "outputs": [
    {
     "data": {
      "text/plain": [
       "(6112, 16)"
      ]
     },
     "execution_count": 3,
     "metadata": {},
     "output_type": "execute_result"
    }
   ],
   "source": [
    "januarylistings = pd.read_csv('../data/January2021listings.csv')\n",
    "januarylistings.shape"
   ]
  },
  {
   "cell_type": "code",
   "execution_count": 4,
   "metadata": {},
   "outputs": [
    {
     "name": "stdout",
     "output_type": "stream",
     "text": [
      "<class 'pandas.core.frame.DataFrame'>\n",
      "RangeIndex: 6112 entries, 0 to 6111\n",
      "Data columns (total 16 columns):\n",
      " #   Column                          Non-Null Count  Dtype  \n",
      "---  ------                          --------------  -----  \n",
      " 0   id                              6112 non-null   int64  \n",
      " 1   name                            6112 non-null   object \n",
      " 2   host_id                         6112 non-null   int64  \n",
      " 3   host_name                       6110 non-null   object \n",
      " 4   neighbourhood_group             0 non-null      float64\n",
      " 5   neighbourhood                   6112 non-null   object \n",
      " 6   latitude                        6112 non-null   float64\n",
      " 7   longitude                       6112 non-null   float64\n",
      " 8   room_type                       6112 non-null   object \n",
      " 9   price                           6112 non-null   int64  \n",
      " 10  minimum_nights                  6112 non-null   int64  \n",
      " 11  number_of_reviews               6112 non-null   int64  \n",
      " 12  last_review                     5224 non-null   object \n",
      " 13  reviews_per_month               5224 non-null   float64\n",
      " 14  calculated_host_listings_count  6112 non-null   int64  \n",
      " 15  availability_365                6112 non-null   int64  \n",
      "dtypes: float64(4), int64(7), object(5)\n",
      "memory usage: 764.1+ KB\n"
     ]
    }
   ],
   "source": [
    "januarylistings.info()"
   ]
  },
  {
   "cell_type": "code",
   "execution_count": 5,
   "metadata": {},
   "outputs": [
    {
     "data": {
      "text/html": [
       "<div>\n",
       "<style scoped>\n",
       "    .dataframe tbody tr th:only-of-type {\n",
       "        vertical-align: middle;\n",
       "    }\n",
       "\n",
       "    .dataframe tbody tr th {\n",
       "        vertical-align: top;\n",
       "    }\n",
       "\n",
       "    .dataframe thead th {\n",
       "        text-align: right;\n",
       "    }\n",
       "</style>\n",
       "<table border=\"1\" class=\"dataframe\">\n",
       "  <thead>\n",
       "    <tr style=\"text-align: right;\">\n",
       "      <th></th>\n",
       "      <th>id</th>\n",
       "      <th>name</th>\n",
       "      <th>host_id</th>\n",
       "      <th>host_name</th>\n",
       "      <th>neighbourhood_group</th>\n",
       "      <th>neighbourhood</th>\n",
       "      <th>latitude</th>\n",
       "      <th>longitude</th>\n",
       "      <th>room_type</th>\n",
       "      <th>price</th>\n",
       "      <th>minimum_nights</th>\n",
       "      <th>number_of_reviews</th>\n",
       "      <th>last_review</th>\n",
       "      <th>reviews_per_month</th>\n",
       "      <th>calculated_host_listings_count</th>\n",
       "      <th>availability_365</th>\n",
       "    </tr>\n",
       "  </thead>\n",
       "  <tbody>\n",
       "    <tr>\n",
       "      <th>0</th>\n",
       "      <td>6422</td>\n",
       "      <td>Nashville Charm</td>\n",
       "      <td>12172</td>\n",
       "      <td>Michele</td>\n",
       "      <td>NaN</td>\n",
       "      <td>District 6</td>\n",
       "      <td>36.17315</td>\n",
       "      <td>-86.73581</td>\n",
       "      <td>Private room</td>\n",
       "      <td>40</td>\n",
       "      <td>30</td>\n",
       "      <td>674</td>\n",
       "      <td>2020-03-03</td>\n",
       "      <td>4.72</td>\n",
       "      <td>1</td>\n",
       "      <td>236</td>\n",
       "    </tr>\n",
       "    <tr>\n",
       "      <th>1</th>\n",
       "      <td>25613</td>\n",
       "      <td>Room in Historic East Nashville Craftsman Home</td>\n",
       "      <td>95811</td>\n",
       "      <td>Nell</td>\n",
       "      <td>NaN</td>\n",
       "      <td>District 6</td>\n",
       "      <td>36.17826</td>\n",
       "      <td>-86.74162</td>\n",
       "      <td>Private room</td>\n",
       "      <td>75</td>\n",
       "      <td>2</td>\n",
       "      <td>510</td>\n",
       "      <td>2020-03-14</td>\n",
       "      <td>3.90</td>\n",
       "      <td>1</td>\n",
       "      <td>32</td>\n",
       "    </tr>\n",
       "    <tr>\n",
       "      <th>2</th>\n",
       "      <td>136015</td>\n",
       "      <td>Apart. on the Ridge near Opryland</td>\n",
       "      <td>666322</td>\n",
       "      <td>Dave And Peggy</td>\n",
       "      <td>NaN</td>\n",
       "      <td>District 15</td>\n",
       "      <td>36.19464</td>\n",
       "      <td>-86.67195</td>\n",
       "      <td>Entire home/apt</td>\n",
       "      <td>103</td>\n",
       "      <td>30</td>\n",
       "      <td>50</td>\n",
       "      <td>2020-08-04</td>\n",
       "      <td>0.43</td>\n",
       "      <td>2</td>\n",
       "      <td>1</td>\n",
       "    </tr>\n",
       "    <tr>\n",
       "      <th>3</th>\n",
       "      <td>137063</td>\n",
       "      <td>Furnished basement room for rent</td>\n",
       "      <td>670408</td>\n",
       "      <td>Richard</td>\n",
       "      <td>NaN</td>\n",
       "      <td>District 26</td>\n",
       "      <td>36.09212</td>\n",
       "      <td>-86.71302</td>\n",
       "      <td>Private room</td>\n",
       "      <td>50</td>\n",
       "      <td>1</td>\n",
       "      <td>0</td>\n",
       "      <td>NaN</td>\n",
       "      <td>NaN</td>\n",
       "      <td>1</td>\n",
       "      <td>365</td>\n",
       "    </tr>\n",
       "    <tr>\n",
       "      <th>4</th>\n",
       "      <td>258817</td>\n",
       "      <td>ButterflyRoom-private bath- open Jan 26</td>\n",
       "      <td>22296</td>\n",
       "      <td>Diana</td>\n",
       "      <td>NaN</td>\n",
       "      <td>District 12</td>\n",
       "      <td>36.16249</td>\n",
       "      <td>-86.58988</td>\n",
       "      <td>Private room</td>\n",
       "      <td>27</td>\n",
       "      <td>30</td>\n",
       "      <td>96</td>\n",
       "      <td>2019-12-14</td>\n",
       "      <td>0.87</td>\n",
       "      <td>7</td>\n",
       "      <td>364</td>\n",
       "    </tr>\n",
       "  </tbody>\n",
       "</table>\n",
       "</div>"
      ],
      "text/plain": [
       "       id                                            name  host_id  \\\n",
       "0    6422                                 Nashville Charm    12172   \n",
       "1   25613  Room in Historic East Nashville Craftsman Home    95811   \n",
       "2  136015               Apart. on the Ridge near Opryland   666322   \n",
       "3  137063                Furnished basement room for rent   670408   \n",
       "4  258817         ButterflyRoom-private bath- open Jan 26    22296   \n",
       "\n",
       "        host_name  neighbourhood_group neighbourhood  latitude  longitude  \\\n",
       "0         Michele                  NaN    District 6  36.17315  -86.73581   \n",
       "1            Nell                  NaN    District 6  36.17826  -86.74162   \n",
       "2  Dave And Peggy                  NaN   District 15  36.19464  -86.67195   \n",
       "3         Richard                  NaN   District 26  36.09212  -86.71302   \n",
       "4           Diana                  NaN   District 12  36.16249  -86.58988   \n",
       "\n",
       "         room_type  price  minimum_nights  number_of_reviews last_review  \\\n",
       "0     Private room     40              30                674  2020-03-03   \n",
       "1     Private room     75               2                510  2020-03-14   \n",
       "2  Entire home/apt    103              30                 50  2020-08-04   \n",
       "3     Private room     50               1                  0         NaN   \n",
       "4     Private room     27              30                 96  2019-12-14   \n",
       "\n",
       "   reviews_per_month  calculated_host_listings_count  availability_365  \n",
       "0               4.72                               1               236  \n",
       "1               3.90                               1                32  \n",
       "2               0.43                               2                 1  \n",
       "3                NaN                               1               365  \n",
       "4               0.87                               7               364  "
      ]
     },
     "execution_count": 5,
     "metadata": {},
     "output_type": "execute_result"
    }
   ],
   "source": [
    "januarylistings.head()"
   ]
  },
  {
   "cell_type": "code",
   "execution_count": null,
   "metadata": {},
   "outputs": [],
   "source": []
  },
  {
   "cell_type": "code",
   "execution_count": null,
   "metadata": {},
   "outputs": [],
   "source": []
  }
 ],
 "metadata": {
  "kernelspec": {
   "display_name": "Python 3",
   "language": "python",
   "name": "python3"
  },
  "language_info": {
   "codemirror_mode": {
    "name": "ipython",
    "version": 3
   },
   "file_extension": ".py",
   "mimetype": "text/x-python",
   "name": "python",
   "nbconvert_exporter": "python",
   "pygments_lexer": "ipython3",
   "version": "3.8.5"
  }
 },
 "nbformat": 4,
 "nbformat_minor": 4
}
