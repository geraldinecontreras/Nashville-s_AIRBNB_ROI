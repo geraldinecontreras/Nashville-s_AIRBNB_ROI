{
 "cells": [
  {
   "cell_type": "code",
   "execution_count": 1,
   "id": "6b49c8b8",
   "metadata": {},
   "outputs": [
    {
     "name": "stdout",
     "output_type": "stream",
     "text": [
      "Populating the interactive namespace from numpy and matplotlib\n",
      "time: 1.64 s (started: 2021-12-16 20:18:27 -06:00)\n"
     ]
    }
   ],
   "source": [
    "%matplotlib inline\n",
    "%pylab inline\n",
    "%load_ext autotime\n",
    "\n",
    "import pandas as pd\n",
    "import numpy as np\n",
    "import matplotlib.pyplot as plt\n",
    "import plotly.graph_objs as go\n",
    "import seaborn as sns\n",
    "import os\n",
    "import glob\n",
    "import geopandas as gpd\n",
    "import geopy\n",
    "import plotly_express as px\n",
    "import tqdm\n",
    "\n",
    "from graphics import Point\n",
    "from functools import reduce\n",
    "from datetime import date\n",
    "from datetime import datetime\n",
    "from geopy.geocoders import Nominatim\n",
    "from geopy.extra.rate_limiter import RateLimiter\n",
    "from tqdm.notebook import tqdm_notebook"
   ]
  },
  {
   "cell_type": "code",
   "execution_count": 3,
   "id": "17697218",
   "metadata": {},
   "outputs": [
    {
     "ename": "SyntaxError",
     "evalue": "invalid syntax (Temp/ipykernel_12256/3960254875.py, line 1)",
     "output_type": "error",
     "traceback": [
      "\u001b[1;36m  File \u001b[1;32m\"C:\\Users\\YASHAC~1\\AppData\\Local\\Temp/ipykernel_12256/3960254875.py\"\u001b[1;36m, line \u001b[1;32m1\u001b[0m\n\u001b[1;33m    Populating the interactive namespace from numpy and matplotlib\u001b[0m\n\u001b[1;37m               ^\u001b[0m\n\u001b[1;31mSyntaxError\u001b[0m\u001b[1;31m:\u001b[0m invalid syntax\n"
     ]
    },
    {
     "name": "stdout",
     "output_type": "stream",
     "text": [
      "time: 15 ms (started: 2021-12-16 20:18:41 -06:00)\n"
     ]
    }
   ],
   "source": [
    "Populating the interactive namespace from numpy and matplotlib\n",
    "time: 2.88 s (started: 2021-12-16 17:53:20 -06:00)"
   ]
  },
  {
   "cell_type": "code",
   "execution_count": 4,
   "id": "fc500f9b",
   "metadata": {},
   "outputs": [
    {
     "name": "stdout",
     "output_type": "stream",
     "text": [
      "time: 0 ns (started: 2021-12-16 20:18:41 -06:00)\n"
     ]
    }
   ],
   "source": [
    "from geopy.geocoders import Photon\n",
    "geolocator = Photon(user_agent=\"measurements\")"
   ]
  },
  {
   "cell_type": "code",
   "execution_count": 5,
   "id": "d2a999f5",
   "metadata": {},
   "outputs": [
    {
     "name": "stdout",
     "output_type": "stream",
     "text": [
      "time: 0 ns (started: 2021-12-16 20:18:42 -06:00)\n"
     ]
    }
   ],
   "source": [
    "locator = Nominatim(user_agent='myGeocoder', timeout=10)\n",
    "rgeocode = RateLimiter(locator.reverse, min_delay_seconds=0.1)"
   ]
  },
  {
   "cell_type": "code",
   "execution_count": 6,
   "id": "63165d45",
   "metadata": {},
   "outputs": [
    {
     "name": "stdout",
     "output_type": "stream",
     "text": [
      "time: 15 ms (started: 2021-12-16 20:18:43 -06:00)\n"
     ]
    },
    {
     "name": "stderr",
     "output_type": "stream",
     "text": [
      "C:\\Users\\YASHAC~1\\AppData\\Local\\Temp/ipykernel_12256/3043108627.py:1: TqdmDeprecationWarning: This function will be removed in tqdm==5.0.0\n",
      "Please use `tqdm.notebook.*` instead of `tqdm._tqdm_notebook.*`\n",
      "  from tqdm._tqdm_notebook import tqdm_notebook\n"
     ]
    }
   ],
   "source": [
    "from tqdm._tqdm_notebook import tqdm_notebook"
   ]
  },
  {
   "cell_type": "code",
   "execution_count": 7,
   "id": "891b58c4",
   "metadata": {},
   "outputs": [
    {
     "name": "stdout",
     "output_type": "stream",
     "text": [
      "time: 0 ns (started: 2021-12-16 20:18:46 -06:00)\n"
     ]
    }
   ],
   "source": [
    "tqdm_notebook.pandas()"
   ]
  },
  {
   "cell_type": "code",
   "execution_count": 8,
   "id": "6a914955",
   "metadata": {},
   "outputs": [
    {
     "name": "stdout",
     "output_type": "stream",
     "text": [
      "time: 0 ns (started: 2021-12-16 20:18:48 -06:00)\n"
     ]
    }
   ],
   "source": [
    "#FEBRUARY"
   ]
  },
  {
   "cell_type": "code",
   "execution_count": 11,
   "id": "a366aca7",
   "metadata": {},
   "outputs": [
    {
     "data": {
      "text/plain": [
       "(6144, 16)"
      ]
     },
     "execution_count": 11,
     "metadata": {},
     "output_type": "execute_result"
    },
    {
     "name": "stdout",
     "output_type": "stream",
     "text": [
      "time: 32 ms (started: 2021-12-16 20:19:15 -06:00)\n"
     ]
    }
   ],
   "source": [
    "feblistings = pd.read_csv('../data/monthlistings/feb2021listings.csv')\n",
    "feblistings.shape"
   ]
  },
  {
   "cell_type": "code",
   "execution_count": 12,
   "id": "e3514776",
   "metadata": {},
   "outputs": [
    {
     "name": "stdout",
     "output_type": "stream",
     "text": [
      "<class 'pandas.core.frame.DataFrame'>\n",
      "RangeIndex: 6144 entries, 0 to 6143\n",
      "Data columns (total 16 columns):\n",
      " #   Column                          Non-Null Count  Dtype  \n",
      "---  ------                          --------------  -----  \n",
      " 0   id                              6144 non-null   int64  \n",
      " 1   name                            6144 non-null   object \n",
      " 2   host_id                         6144 non-null   int64  \n",
      " 3   host_name                       6138 non-null   object \n",
      " 4   neighbourhood_group             0 non-null      float64\n",
      " 5   neighbourhood                   6144 non-null   object \n",
      " 6   latitude                        6144 non-null   float64\n",
      " 7   longitude                       6144 non-null   float64\n",
      " 8   room_type                       6144 non-null   object \n",
      " 9   price                           6144 non-null   int64  \n",
      " 10  minimum_nights                  6144 non-null   int64  \n",
      " 11  number_of_reviews               6144 non-null   int64  \n",
      " 12  last_review                     5205 non-null   object \n",
      " 13  reviews_per_month               5205 non-null   float64\n",
      " 14  calculated_host_listings_count  6144 non-null   int64  \n",
      " 15  availability_365                6144 non-null   int64  \n",
      "dtypes: float64(4), int64(7), object(5)\n",
      "memory usage: 768.1+ KB\n",
      "time: 15 ms (started: 2021-12-16 20:19:16 -06:00)\n"
     ]
    }
   ],
   "source": [
    "feblistings.info()"
   ]
  },
  {
   "cell_type": "code",
   "execution_count": 13,
   "id": "4ec60db9",
   "metadata": {},
   "outputs": [
    {
     "name": "stdout",
     "output_type": "stream",
     "text": [
      "time: 0 ns (started: 2021-12-16 20:19:17 -06:00)\n"
     ]
    }
   ],
   "source": [
    "feblistings = feblistings.drop(['neighbourhood'], axis=1)"
   ]
  },
  {
   "cell_type": "code",
   "execution_count": 14,
   "id": "299aa515",
   "metadata": {},
   "outputs": [
    {
     "name": "stdout",
     "output_type": "stream",
     "text": [
      "time: 0 ns (started: 2021-12-16 20:19:18 -06:00)\n"
     ]
    }
   ],
   "source": [
    "feblistings.dropna(how='all', axis=1, inplace=True)"
   ]
  },
  {
   "cell_type": "code",
   "execution_count": 15,
   "id": "2bf72390",
   "metadata": {},
   "outputs": [
    {
     "data": {
      "text/html": [
       "<div>\n",
       "<style scoped>\n",
       "    .dataframe tbody tr th:only-of-type {\n",
       "        vertical-align: middle;\n",
       "    }\n",
       "\n",
       "    .dataframe tbody tr th {\n",
       "        vertical-align: top;\n",
       "    }\n",
       "\n",
       "    .dataframe thead th {\n",
       "        text-align: right;\n",
       "    }\n",
       "</style>\n",
       "<table border=\"1\" class=\"dataframe\">\n",
       "  <thead>\n",
       "    <tr style=\"text-align: right;\">\n",
       "      <th></th>\n",
       "      <th>id</th>\n",
       "      <th>name</th>\n",
       "      <th>host_id</th>\n",
       "      <th>host_name</th>\n",
       "      <th>latitude</th>\n",
       "      <th>longitude</th>\n",
       "      <th>room_type</th>\n",
       "      <th>price</th>\n",
       "      <th>minimum_nights</th>\n",
       "      <th>number_of_reviews</th>\n",
       "      <th>last_review</th>\n",
       "      <th>reviews_per_month</th>\n",
       "      <th>calculated_host_listings_count</th>\n",
       "      <th>availability_365</th>\n",
       "    </tr>\n",
       "  </thead>\n",
       "  <tbody>\n",
       "    <tr>\n",
       "      <th>0</th>\n",
       "      <td>6422</td>\n",
       "      <td>Nashville Charm</td>\n",
       "      <td>12172</td>\n",
       "      <td>Michele</td>\n",
       "      <td>36.17315</td>\n",
       "      <td>-86.73581</td>\n",
       "      <td>Private room</td>\n",
       "      <td>40</td>\n",
       "      <td>30</td>\n",
       "      <td>674</td>\n",
       "      <td>2020-03-03</td>\n",
       "      <td>4.69</td>\n",
       "      <td>1</td>\n",
       "      <td>267</td>\n",
       "    </tr>\n",
       "    <tr>\n",
       "      <th>1</th>\n",
       "      <td>25613</td>\n",
       "      <td>Room in Historic East Nashville Craftsman Home</td>\n",
       "      <td>95811</td>\n",
       "      <td>Nell</td>\n",
       "      <td>36.17826</td>\n",
       "      <td>-86.74162</td>\n",
       "      <td>Private room</td>\n",
       "      <td>75</td>\n",
       "      <td>2</td>\n",
       "      <td>510</td>\n",
       "      <td>2020-03-14</td>\n",
       "      <td>3.87</td>\n",
       "      <td>1</td>\n",
       "      <td>63</td>\n",
       "    </tr>\n",
       "    <tr>\n",
       "      <th>2</th>\n",
       "      <td>136015</td>\n",
       "      <td>Apart. on the Ridge near Opryland</td>\n",
       "      <td>666322</td>\n",
       "      <td>Dave And Peggy</td>\n",
       "      <td>36.19464</td>\n",
       "      <td>-86.67195</td>\n",
       "      <td>Entire home/apt</td>\n",
       "      <td>103</td>\n",
       "      <td>30</td>\n",
       "      <td>50</td>\n",
       "      <td>2020-08-04</td>\n",
       "      <td>0.43</td>\n",
       "      <td>2</td>\n",
       "      <td>190</td>\n",
       "    </tr>\n",
       "    <tr>\n",
       "      <th>3</th>\n",
       "      <td>258817</td>\n",
       "      <td>ButterflyRoom-private bath- open Jan 26</td>\n",
       "      <td>22296</td>\n",
       "      <td>Diana</td>\n",
       "      <td>36.16249</td>\n",
       "      <td>-86.58988</td>\n",
       "      <td>Private room</td>\n",
       "      <td>27</td>\n",
       "      <td>30</td>\n",
       "      <td>96</td>\n",
       "      <td>2019-12-14</td>\n",
       "      <td>0.86</td>\n",
       "      <td>7</td>\n",
       "      <td>364</td>\n",
       "    </tr>\n",
       "    <tr>\n",
       "      <th>4</th>\n",
       "      <td>289242</td>\n",
       "      <td>MorningstarHouse, monthly room- open Feb  2</td>\n",
       "      <td>22296</td>\n",
       "      <td>Diana</td>\n",
       "      <td>36.16102</td>\n",
       "      <td>-86.59207</td>\n",
       "      <td>Private room</td>\n",
       "      <td>24</td>\n",
       "      <td>30</td>\n",
       "      <td>76</td>\n",
       "      <td>2019-01-12</td>\n",
       "      <td>0.68</td>\n",
       "      <td>7</td>\n",
       "      <td>364</td>\n",
       "    </tr>\n",
       "  </tbody>\n",
       "</table>\n",
       "</div>"
      ],
      "text/plain": [
       "       id                                            name  host_id  \\\n",
       "0    6422                                 Nashville Charm    12172   \n",
       "1   25613  Room in Historic East Nashville Craftsman Home    95811   \n",
       "2  136015               Apart. on the Ridge near Opryland   666322   \n",
       "3  258817         ButterflyRoom-private bath- open Jan 26    22296   \n",
       "4  289242     MorningstarHouse, monthly room- open Feb  2    22296   \n",
       "\n",
       "        host_name  latitude  longitude        room_type  price  \\\n",
       "0         Michele  36.17315  -86.73581     Private room     40   \n",
       "1            Nell  36.17826  -86.74162     Private room     75   \n",
       "2  Dave And Peggy  36.19464  -86.67195  Entire home/apt    103   \n",
       "3           Diana  36.16249  -86.58988     Private room     27   \n",
       "4           Diana  36.16102  -86.59207     Private room     24   \n",
       "\n",
       "   minimum_nights  number_of_reviews last_review  reviews_per_month  \\\n",
       "0              30                674  2020-03-03               4.69   \n",
       "1               2                510  2020-03-14               3.87   \n",
       "2              30                 50  2020-08-04               0.43   \n",
       "3              30                 96  2019-12-14               0.86   \n",
       "4              30                 76  2019-01-12               0.68   \n",
       "\n",
       "   calculated_host_listings_count  availability_365  \n",
       "0                               1               267  \n",
       "1                               1                63  \n",
       "2                               2               190  \n",
       "3                               7               364  \n",
       "4                               7               364  "
      ]
     },
     "execution_count": 15,
     "metadata": {},
     "output_type": "execute_result"
    },
    {
     "name": "stdout",
     "output_type": "stream",
     "text": [
      "time: 16 ms (started: 2021-12-16 20:19:19 -06:00)\n"
     ]
    }
   ],
   "source": [
    "feblistings.head()"
   ]
  },
  {
   "cell_type": "code",
   "execution_count": 17,
   "id": "6426cba8",
   "metadata": {},
   "outputs": [
    {
     "data": {
      "text/plain": [
       "'36.17315,-86.73581'"
      ]
     },
     "execution_count": 17,
     "metadata": {},
     "output_type": "execute_result"
    },
    {
     "name": "stdout",
     "output_type": "stream",
     "text": [
      "time: 15 ms (started: 2021-12-16 20:19:31 -06:00)\n"
     ]
    }
   ],
   "source": [
    "feblistings['geom'] = feblistings['latitude'].map(str) + ',' + feblistings['longitude'].map(str)\n",
    "feblistings['geom'][0]"
   ]
  },
  {
   "cell_type": "code",
   "execution_count": 18,
   "id": "2bfac0d8",
   "metadata": {},
   "outputs": [
    {
     "data": {
      "application/vnd.jupyter.widget-view+json": {
       "model_id": "84979211008f4599aa69323818339402",
       "version_major": 2,
       "version_minor": 0
      },
      "text/plain": [
       "  0%|          | 0/6144 [00:00<?, ?it/s]"
      ]
     },
     "metadata": {},
     "output_type": "display_data"
    },
    {
     "name": "stderr",
     "output_type": "stream",
     "text": [
      "RateLimiter caught an error, retrying (0/2 tries). Called with (*('36.17315,-86.73581',), **{}).\n",
      "Traceback (most recent call last):\n",
      "  File \"C:\\Users\\yashaclone\\anaconda3\\envs\\geospatial\\lib\\site-packages\\geopy\\geocoders\\base.py\", line 368, in _call_geocoder\n",
      "    result = self.adapter.get_json(url, timeout=timeout, headers=req_headers)\n",
      "  File \"C:\\Users\\yashaclone\\anaconda3\\envs\\geospatial\\lib\\site-packages\\geopy\\adapters.py\", line 438, in get_json\n",
      "    resp = self._request(url, timeout=timeout, headers=headers)\n",
      "  File \"C:\\Users\\yashaclone\\anaconda3\\envs\\geospatial\\lib\\site-packages\\geopy\\adapters.py\", line 466, in _request\n",
      "    raise AdapterHTTPError(\n",
      "geopy.adapters.AdapterHTTPError: Non-successful status code 403\n",
      "\n",
      "The above exception was the direct cause of the following exception:\n",
      "\n",
      "Traceback (most recent call last):\n",
      "  File \"C:\\Users\\yashaclone\\anaconda3\\envs\\geospatial\\lib\\site-packages\\geopy\\extra\\rate_limiter.py\", line 136, in _retries_gen\n",
      "    yield i  # Run the function.\n",
      "  File \"C:\\Users\\yashaclone\\anaconda3\\envs\\geospatial\\lib\\site-packages\\geopy\\extra\\rate_limiter.py\", line 274, in __call__\n",
      "    res = self.func(*args, **kwargs)\n",
      "  File \"C:\\Users\\yashaclone\\anaconda3\\envs\\geospatial\\lib\\site-packages\\geopy\\geocoders\\nominatim.py\", line 362, in reverse\n",
      "    return self._call_geocoder(url, callback, timeout=timeout)\n",
      "  File \"C:\\Users\\yashaclone\\anaconda3\\envs\\geospatial\\lib\\site-packages\\geopy\\geocoders\\base.py\", line 388, in _call_geocoder\n",
      "    res = self._adapter_error_handler(error)\n",
      "  File \"C:\\Users\\yashaclone\\anaconda3\\envs\\geospatial\\lib\\site-packages\\geopy\\geocoders\\base.py\", line 411, in _adapter_error_handler\n",
      "    raise exc_cls(str(error)) from error\n",
      "geopy.exc.GeocoderInsufficientPrivileges: Non-successful status code 403\n",
      "RateLimiter caught an error, retrying (1/2 tries). Called with (*('36.17315,-86.73581',), **{}).\n",
      "Traceback (most recent call last):\n",
      "  File \"C:\\Users\\yashaclone\\anaconda3\\envs\\geospatial\\lib\\site-packages\\geopy\\geocoders\\base.py\", line 368, in _call_geocoder\n",
      "    result = self.adapter.get_json(url, timeout=timeout, headers=req_headers)\n",
      "  File \"C:\\Users\\yashaclone\\anaconda3\\envs\\geospatial\\lib\\site-packages\\geopy\\adapters.py\", line 438, in get_json\n",
      "    resp = self._request(url, timeout=timeout, headers=headers)\n",
      "  File \"C:\\Users\\yashaclone\\anaconda3\\envs\\geospatial\\lib\\site-packages\\geopy\\adapters.py\", line 466, in _request\n",
      "    raise AdapterHTTPError(\n",
      "geopy.adapters.AdapterHTTPError: Non-successful status code 403\n",
      "\n",
      "The above exception was the direct cause of the following exception:\n",
      "\n",
      "Traceback (most recent call last):\n",
      "  File \"C:\\Users\\yashaclone\\anaconda3\\envs\\geospatial\\lib\\site-packages\\geopy\\extra\\rate_limiter.py\", line 136, in _retries_gen\n",
      "    yield i  # Run the function.\n",
      "  File \"C:\\Users\\yashaclone\\anaconda3\\envs\\geospatial\\lib\\site-packages\\geopy\\extra\\rate_limiter.py\", line 274, in __call__\n",
      "    res = self.func(*args, **kwargs)\n",
      "  File \"C:\\Users\\yashaclone\\anaconda3\\envs\\geospatial\\lib\\site-packages\\geopy\\geocoders\\nominatim.py\", line 362, in reverse\n",
      "    return self._call_geocoder(url, callback, timeout=timeout)\n",
      "  File \"C:\\Users\\yashaclone\\anaconda3\\envs\\geospatial\\lib\\site-packages\\geopy\\geocoders\\base.py\", line 388, in _call_geocoder\n",
      "    res = self._adapter_error_handler(error)\n",
      "  File \"C:\\Users\\yashaclone\\anaconda3\\envs\\geospatial\\lib\\site-packages\\geopy\\geocoders\\base.py\", line 411, in _adapter_error_handler\n",
      "    raise exc_cls(str(error)) from error\n",
      "geopy.exc.GeocoderInsufficientPrivileges: Non-successful status code 403\n",
      "RateLimiter swallowed an error after 2 retries. Called with (*('36.17315,-86.73581',), **{}).\n",
      "Traceback (most recent call last):\n",
      "  File \"C:\\Users\\yashaclone\\anaconda3\\envs\\geospatial\\lib\\site-packages\\geopy\\geocoders\\base.py\", line 368, in _call_geocoder\n",
      "    result = self.adapter.get_json(url, timeout=timeout, headers=req_headers)\n",
      "  File \"C:\\Users\\yashaclone\\anaconda3\\envs\\geospatial\\lib\\site-packages\\geopy\\adapters.py\", line 438, in get_json\n",
      "    resp = self._request(url, timeout=timeout, headers=headers)\n",
      "  File \"C:\\Users\\yashaclone\\anaconda3\\envs\\geospatial\\lib\\site-packages\\geopy\\adapters.py\", line 466, in _request\n",
      "    raise AdapterHTTPError(\n",
      "geopy.adapters.AdapterHTTPError: Non-successful status code 403\n",
      "\n",
      "The above exception was the direct cause of the following exception:\n",
      "\n",
      "Traceback (most recent call last):\n",
      "  File \"C:\\Users\\yashaclone\\anaconda3\\envs\\geospatial\\lib\\site-packages\\geopy\\extra\\rate_limiter.py\", line 274, in __call__\n",
      "    res = self.func(*args, **kwargs)\n",
      "  File \"C:\\Users\\yashaclone\\anaconda3\\envs\\geospatial\\lib\\site-packages\\geopy\\geocoders\\nominatim.py\", line 362, in reverse\n",
      "    return self._call_geocoder(url, callback, timeout=timeout)\n",
      "  File \"C:\\Users\\yashaclone\\anaconda3\\envs\\geospatial\\lib\\site-packages\\geopy\\geocoders\\base.py\", line 388, in _call_geocoder\n",
      "    res = self._adapter_error_handler(error)\n",
      "  File \"C:\\Users\\yashaclone\\anaconda3\\envs\\geospatial\\lib\\site-packages\\geopy\\geocoders\\base.py\", line 411, in _adapter_error_handler\n",
      "    raise exc_cls(str(error)) from error\n",
      "geopy.exc.GeocoderInsufficientPrivileges: Non-successful status code 403\n",
      "RateLimiter caught an error, retrying (0/2 tries). Called with (*('36.17826,-86.74162',), **{}).\n",
      "Traceback (most recent call last):\n",
      "  File \"C:\\Users\\yashaclone\\anaconda3\\envs\\geospatial\\lib\\site-packages\\geopy\\geocoders\\base.py\", line 368, in _call_geocoder\n",
      "    result = self.adapter.get_json(url, timeout=timeout, headers=req_headers)\n",
      "  File \"C:\\Users\\yashaclone\\anaconda3\\envs\\geospatial\\lib\\site-packages\\geopy\\adapters.py\", line 438, in get_json\n",
      "    resp = self._request(url, timeout=timeout, headers=headers)\n",
      "  File \"C:\\Users\\yashaclone\\anaconda3\\envs\\geospatial\\lib\\site-packages\\geopy\\adapters.py\", line 466, in _request\n",
      "    raise AdapterHTTPError(\n",
      "geopy.adapters.AdapterHTTPError: Non-successful status code 403\n",
      "\n",
      "The above exception was the direct cause of the following exception:\n",
      "\n",
      "Traceback (most recent call last):\n",
      "  File \"C:\\Users\\yashaclone\\anaconda3\\envs\\geospatial\\lib\\site-packages\\geopy\\extra\\rate_limiter.py\", line 136, in _retries_gen\n",
      "    yield i  # Run the function.\n",
      "  File \"C:\\Users\\yashaclone\\anaconda3\\envs\\geospatial\\lib\\site-packages\\geopy\\extra\\rate_limiter.py\", line 274, in __call__\n",
      "    res = self.func(*args, **kwargs)\n",
      "  File \"C:\\Users\\yashaclone\\anaconda3\\envs\\geospatial\\lib\\site-packages\\geopy\\geocoders\\nominatim.py\", line 362, in reverse\n",
      "    return self._call_geocoder(url, callback, timeout=timeout)\n",
      "  File \"C:\\Users\\yashaclone\\anaconda3\\envs\\geospatial\\lib\\site-packages\\geopy\\geocoders\\base.py\", line 388, in _call_geocoder\n",
      "    res = self._adapter_error_handler(error)\n",
      "  File \"C:\\Users\\yashaclone\\anaconda3\\envs\\geospatial\\lib\\site-packages\\geopy\\geocoders\\base.py\", line 411, in _adapter_error_handler\n",
      "    raise exc_cls(str(error)) from error\n",
      "geopy.exc.GeocoderInsufficientPrivileges: Non-successful status code 403\n",
      "RateLimiter caught an error, retrying (1/2 tries). Called with (*('36.17826,-86.74162',), **{}).\n",
      "Traceback (most recent call last):\n",
      "  File \"C:\\Users\\yashaclone\\anaconda3\\envs\\geospatial\\lib\\site-packages\\geopy\\geocoders\\base.py\", line 368, in _call_geocoder\n",
      "    result = self.adapter.get_json(url, timeout=timeout, headers=req_headers)\n",
      "  File \"C:\\Users\\yashaclone\\anaconda3\\envs\\geospatial\\lib\\site-packages\\geopy\\adapters.py\", line 438, in get_json\n",
      "    resp = self._request(url, timeout=timeout, headers=headers)\n",
      "  File \"C:\\Users\\yashaclone\\anaconda3\\envs\\geospatial\\lib\\site-packages\\geopy\\adapters.py\", line 466, in _request\n",
      "    raise AdapterHTTPError(\n",
      "geopy.adapters.AdapterHTTPError: Non-successful status code 403\n",
      "\n",
      "The above exception was the direct cause of the following exception:\n",
      "\n",
      "Traceback (most recent call last):\n",
      "  File \"C:\\Users\\yashaclone\\anaconda3\\envs\\geospatial\\lib\\site-packages\\geopy\\extra\\rate_limiter.py\", line 136, in _retries_gen\n",
      "    yield i  # Run the function.\n",
      "  File \"C:\\Users\\yashaclone\\anaconda3\\envs\\geospatial\\lib\\site-packages\\geopy\\extra\\rate_limiter.py\", line 274, in __call__\n",
      "    res = self.func(*args, **kwargs)\n",
      "  File \"C:\\Users\\yashaclone\\anaconda3\\envs\\geospatial\\lib\\site-packages\\geopy\\geocoders\\nominatim.py\", line 362, in reverse\n",
      "    return self._call_geocoder(url, callback, timeout=timeout)\n",
      "  File \"C:\\Users\\yashaclone\\anaconda3\\envs\\geospatial\\lib\\site-packages\\geopy\\geocoders\\base.py\", line 388, in _call_geocoder\n",
      "    res = self._adapter_error_handler(error)\n",
      "  File \"C:\\Users\\yashaclone\\anaconda3\\envs\\geospatial\\lib\\site-packages\\geopy\\geocoders\\base.py\", line 411, in _adapter_error_handler\n",
      "    raise exc_cls(str(error)) from error\n",
      "geopy.exc.GeocoderInsufficientPrivileges: Non-successful status code 403\n"
     ]
    },
    {
     "name": "stderr",
     "output_type": "stream",
     "text": [
      "RateLimiter swallowed an error after 2 retries. Called with (*('36.17826,-86.74162',), **{}).\n",
      "Traceback (most recent call last):\n",
      "  File \"C:\\Users\\yashaclone\\anaconda3\\envs\\geospatial\\lib\\site-packages\\geopy\\geocoders\\base.py\", line 368, in _call_geocoder\n",
      "    result = self.adapter.get_json(url, timeout=timeout, headers=req_headers)\n",
      "  File \"C:\\Users\\yashaclone\\anaconda3\\envs\\geospatial\\lib\\site-packages\\geopy\\adapters.py\", line 438, in get_json\n",
      "    resp = self._request(url, timeout=timeout, headers=headers)\n",
      "  File \"C:\\Users\\yashaclone\\anaconda3\\envs\\geospatial\\lib\\site-packages\\geopy\\adapters.py\", line 466, in _request\n",
      "    raise AdapterHTTPError(\n",
      "geopy.adapters.AdapterHTTPError: Non-successful status code 403\n",
      "\n",
      "The above exception was the direct cause of the following exception:\n",
      "\n",
      "Traceback (most recent call last):\n",
      "  File \"C:\\Users\\yashaclone\\anaconda3\\envs\\geospatial\\lib\\site-packages\\geopy\\extra\\rate_limiter.py\", line 274, in __call__\n",
      "    res = self.func(*args, **kwargs)\n",
      "  File \"C:\\Users\\yashaclone\\anaconda3\\envs\\geospatial\\lib\\site-packages\\geopy\\geocoders\\nominatim.py\", line 362, in reverse\n",
      "    return self._call_geocoder(url, callback, timeout=timeout)\n",
      "  File \"C:\\Users\\yashaclone\\anaconda3\\envs\\geospatial\\lib\\site-packages\\geopy\\geocoders\\base.py\", line 388, in _call_geocoder\n",
      "    res = self._adapter_error_handler(error)\n",
      "  File \"C:\\Users\\yashaclone\\anaconda3\\envs\\geospatial\\lib\\site-packages\\geopy\\geocoders\\base.py\", line 411, in _adapter_error_handler\n",
      "    raise exc_cls(str(error)) from error\n",
      "geopy.exc.GeocoderInsufficientPrivileges: Non-successful status code 403\n",
      "RateLimiter caught an error, retrying (0/2 tries). Called with (*('36.19464,-86.67195',), **{}).\n",
      "Traceback (most recent call last):\n",
      "  File \"C:\\Users\\yashaclone\\anaconda3\\envs\\geospatial\\lib\\site-packages\\geopy\\geocoders\\base.py\", line 368, in _call_geocoder\n",
      "    result = self.adapter.get_json(url, timeout=timeout, headers=req_headers)\n",
      "  File \"C:\\Users\\yashaclone\\anaconda3\\envs\\geospatial\\lib\\site-packages\\geopy\\adapters.py\", line 438, in get_json\n",
      "    resp = self._request(url, timeout=timeout, headers=headers)\n",
      "  File \"C:\\Users\\yashaclone\\anaconda3\\envs\\geospatial\\lib\\site-packages\\geopy\\adapters.py\", line 466, in _request\n",
      "    raise AdapterHTTPError(\n",
      "geopy.adapters.AdapterHTTPError: Non-successful status code 403\n",
      "\n",
      "The above exception was the direct cause of the following exception:\n",
      "\n",
      "Traceback (most recent call last):\n",
      "  File \"C:\\Users\\yashaclone\\anaconda3\\envs\\geospatial\\lib\\site-packages\\geopy\\extra\\rate_limiter.py\", line 136, in _retries_gen\n",
      "    yield i  # Run the function.\n",
      "  File \"C:\\Users\\yashaclone\\anaconda3\\envs\\geospatial\\lib\\site-packages\\geopy\\extra\\rate_limiter.py\", line 274, in __call__\n",
      "    res = self.func(*args, **kwargs)\n",
      "  File \"C:\\Users\\yashaclone\\anaconda3\\envs\\geospatial\\lib\\site-packages\\geopy\\geocoders\\nominatim.py\", line 362, in reverse\n",
      "    return self._call_geocoder(url, callback, timeout=timeout)\n",
      "  File \"C:\\Users\\yashaclone\\anaconda3\\envs\\geospatial\\lib\\site-packages\\geopy\\geocoders\\base.py\", line 388, in _call_geocoder\n",
      "    res = self._adapter_error_handler(error)\n",
      "  File \"C:\\Users\\yashaclone\\anaconda3\\envs\\geospatial\\lib\\site-packages\\geopy\\geocoders\\base.py\", line 411, in _adapter_error_handler\n",
      "    raise exc_cls(str(error)) from error\n",
      "geopy.exc.GeocoderInsufficientPrivileges: Non-successful status code 403\n",
      "RateLimiter caught an error, retrying (1/2 tries). Called with (*('36.19464,-86.67195',), **{}).\n",
      "Traceback (most recent call last):\n",
      "  File \"C:\\Users\\yashaclone\\anaconda3\\envs\\geospatial\\lib\\site-packages\\geopy\\geocoders\\base.py\", line 368, in _call_geocoder\n",
      "    result = self.adapter.get_json(url, timeout=timeout, headers=req_headers)\n",
      "  File \"C:\\Users\\yashaclone\\anaconda3\\envs\\geospatial\\lib\\site-packages\\geopy\\adapters.py\", line 438, in get_json\n",
      "    resp = self._request(url, timeout=timeout, headers=headers)\n",
      "  File \"C:\\Users\\yashaclone\\anaconda3\\envs\\geospatial\\lib\\site-packages\\geopy\\adapters.py\", line 466, in _request\n",
      "    raise AdapterHTTPError(\n",
      "geopy.adapters.AdapterHTTPError: Non-successful status code 403\n",
      "\n",
      "The above exception was the direct cause of the following exception:\n",
      "\n",
      "Traceback (most recent call last):\n",
      "  File \"C:\\Users\\yashaclone\\anaconda3\\envs\\geospatial\\lib\\site-packages\\geopy\\extra\\rate_limiter.py\", line 136, in _retries_gen\n",
      "    yield i  # Run the function.\n",
      "  File \"C:\\Users\\yashaclone\\anaconda3\\envs\\geospatial\\lib\\site-packages\\geopy\\extra\\rate_limiter.py\", line 274, in __call__\n",
      "    res = self.func(*args, **kwargs)\n",
      "  File \"C:\\Users\\yashaclone\\anaconda3\\envs\\geospatial\\lib\\site-packages\\geopy\\geocoders\\nominatim.py\", line 362, in reverse\n",
      "    return self._call_geocoder(url, callback, timeout=timeout)\n",
      "  File \"C:\\Users\\yashaclone\\anaconda3\\envs\\geospatial\\lib\\site-packages\\geopy\\geocoders\\base.py\", line 388, in _call_geocoder\n",
      "    res = self._adapter_error_handler(error)\n",
      "  File \"C:\\Users\\yashaclone\\anaconda3\\envs\\geospatial\\lib\\site-packages\\geopy\\geocoders\\base.py\", line 411, in _adapter_error_handler\n",
      "    raise exc_cls(str(error)) from error\n",
      "geopy.exc.GeocoderInsufficientPrivileges: Non-successful status code 403\n",
      "RateLimiter swallowed an error after 2 retries. Called with (*('36.19464,-86.67195',), **{}).\n",
      "Traceback (most recent call last):\n",
      "  File \"C:\\Users\\yashaclone\\anaconda3\\envs\\geospatial\\lib\\site-packages\\geopy\\geocoders\\base.py\", line 368, in _call_geocoder\n",
      "    result = self.adapter.get_json(url, timeout=timeout, headers=req_headers)\n",
      "  File \"C:\\Users\\yashaclone\\anaconda3\\envs\\geospatial\\lib\\site-packages\\geopy\\adapters.py\", line 438, in get_json\n",
      "    resp = self._request(url, timeout=timeout, headers=headers)\n",
      "  File \"C:\\Users\\yashaclone\\anaconda3\\envs\\geospatial\\lib\\site-packages\\geopy\\adapters.py\", line 466, in _request\n",
      "    raise AdapterHTTPError(\n",
      "geopy.adapters.AdapterHTTPError: Non-successful status code 403\n",
      "\n",
      "The above exception was the direct cause of the following exception:\n",
      "\n",
      "Traceback (most recent call last):\n",
      "  File \"C:\\Users\\yashaclone\\anaconda3\\envs\\geospatial\\lib\\site-packages\\geopy\\extra\\rate_limiter.py\", line 274, in __call__\n",
      "    res = self.func(*args, **kwargs)\n",
      "  File \"C:\\Users\\yashaclone\\anaconda3\\envs\\geospatial\\lib\\site-packages\\geopy\\geocoders\\nominatim.py\", line 362, in reverse\n",
      "    return self._call_geocoder(url, callback, timeout=timeout)\n",
      "  File \"C:\\Users\\yashaclone\\anaconda3\\envs\\geospatial\\lib\\site-packages\\geopy\\geocoders\\base.py\", line 388, in _call_geocoder\n",
      "    res = self._adapter_error_handler(error)\n",
      "  File \"C:\\Users\\yashaclone\\anaconda3\\envs\\geospatial\\lib\\site-packages\\geopy\\geocoders\\base.py\", line 411, in _adapter_error_handler\n",
      "    raise exc_cls(str(error)) from error\n",
      "geopy.exc.GeocoderInsufficientPrivileges: Non-successful status code 403\n",
      "RateLimiter caught an error, retrying (0/2 tries). Called with (*('36.16249,-86.58988',), **{}).\n",
      "Traceback (most recent call last):\n",
      "  File \"C:\\Users\\yashaclone\\anaconda3\\envs\\geospatial\\lib\\site-packages\\geopy\\geocoders\\base.py\", line 368, in _call_geocoder\n",
      "    result = self.adapter.get_json(url, timeout=timeout, headers=req_headers)\n",
      "  File \"C:\\Users\\yashaclone\\anaconda3\\envs\\geospatial\\lib\\site-packages\\geopy\\adapters.py\", line 438, in get_json\n",
      "    resp = self._request(url, timeout=timeout, headers=headers)\n",
      "  File \"C:\\Users\\yashaclone\\anaconda3\\envs\\geospatial\\lib\\site-packages\\geopy\\adapters.py\", line 466, in _request\n",
      "    raise AdapterHTTPError(\n",
      "geopy.adapters.AdapterHTTPError: Non-successful status code 403\n",
      "\n",
      "The above exception was the direct cause of the following exception:\n",
      "\n",
      "Traceback (most recent call last):\n",
      "  File \"C:\\Users\\yashaclone\\anaconda3\\envs\\geospatial\\lib\\site-packages\\geopy\\extra\\rate_limiter.py\", line 136, in _retries_gen\n",
      "    yield i  # Run the function.\n",
      "  File \"C:\\Users\\yashaclone\\anaconda3\\envs\\geospatial\\lib\\site-packages\\geopy\\extra\\rate_limiter.py\", line 274, in __call__\n",
      "    res = self.func(*args, **kwargs)\n",
      "  File \"C:\\Users\\yashaclone\\anaconda3\\envs\\geospatial\\lib\\site-packages\\geopy\\geocoders\\nominatim.py\", line 362, in reverse\n",
      "    return self._call_geocoder(url, callback, timeout=timeout)\n",
      "  File \"C:\\Users\\yashaclone\\anaconda3\\envs\\geospatial\\lib\\site-packages\\geopy\\geocoders\\base.py\", line 388, in _call_geocoder\n",
      "    res = self._adapter_error_handler(error)\n",
      "  File \"C:\\Users\\yashaclone\\anaconda3\\envs\\geospatial\\lib\\site-packages\\geopy\\geocoders\\base.py\", line 411, in _adapter_error_handler\n",
      "    raise exc_cls(str(error)) from error\n",
      "geopy.exc.GeocoderInsufficientPrivileges: Non-successful status code 403\n"
     ]
    },
    {
     "name": "stderr",
     "output_type": "stream",
     "text": [
      "RateLimiter caught an error, retrying (1/2 tries). Called with (*('36.16249,-86.58988',), **{}).\n",
      "Traceback (most recent call last):\n",
      "  File \"C:\\Users\\yashaclone\\anaconda3\\envs\\geospatial\\lib\\site-packages\\geopy\\geocoders\\base.py\", line 368, in _call_geocoder\n",
      "    result = self.adapter.get_json(url, timeout=timeout, headers=req_headers)\n",
      "  File \"C:\\Users\\yashaclone\\anaconda3\\envs\\geospatial\\lib\\site-packages\\geopy\\adapters.py\", line 438, in get_json\n",
      "    resp = self._request(url, timeout=timeout, headers=headers)\n",
      "  File \"C:\\Users\\yashaclone\\anaconda3\\envs\\geospatial\\lib\\site-packages\\geopy\\adapters.py\", line 466, in _request\n",
      "    raise AdapterHTTPError(\n",
      "geopy.adapters.AdapterHTTPError: Non-successful status code 403\n",
      "\n",
      "The above exception was the direct cause of the following exception:\n",
      "\n",
      "Traceback (most recent call last):\n",
      "  File \"C:\\Users\\yashaclone\\anaconda3\\envs\\geospatial\\lib\\site-packages\\geopy\\extra\\rate_limiter.py\", line 136, in _retries_gen\n",
      "    yield i  # Run the function.\n",
      "  File \"C:\\Users\\yashaclone\\anaconda3\\envs\\geospatial\\lib\\site-packages\\geopy\\extra\\rate_limiter.py\", line 274, in __call__\n",
      "    res = self.func(*args, **kwargs)\n",
      "  File \"C:\\Users\\yashaclone\\anaconda3\\envs\\geospatial\\lib\\site-packages\\geopy\\geocoders\\nominatim.py\", line 362, in reverse\n",
      "    return self._call_geocoder(url, callback, timeout=timeout)\n",
      "  File \"C:\\Users\\yashaclone\\anaconda3\\envs\\geospatial\\lib\\site-packages\\geopy\\geocoders\\base.py\", line 388, in _call_geocoder\n",
      "    res = self._adapter_error_handler(error)\n",
      "  File \"C:\\Users\\yashaclone\\anaconda3\\envs\\geospatial\\lib\\site-packages\\geopy\\geocoders\\base.py\", line 411, in _adapter_error_handler\n",
      "    raise exc_cls(str(error)) from error\n",
      "geopy.exc.GeocoderInsufficientPrivileges: Non-successful status code 403\n",
      "RateLimiter swallowed an error after 2 retries. Called with (*('36.16249,-86.58988',), **{}).\n",
      "Traceback (most recent call last):\n",
      "  File \"C:\\Users\\yashaclone\\anaconda3\\envs\\geospatial\\lib\\site-packages\\geopy\\geocoders\\base.py\", line 368, in _call_geocoder\n",
      "    result = self.adapter.get_json(url, timeout=timeout, headers=req_headers)\n",
      "  File \"C:\\Users\\yashaclone\\anaconda3\\envs\\geospatial\\lib\\site-packages\\geopy\\adapters.py\", line 438, in get_json\n",
      "    resp = self._request(url, timeout=timeout, headers=headers)\n",
      "  File \"C:\\Users\\yashaclone\\anaconda3\\envs\\geospatial\\lib\\site-packages\\geopy\\adapters.py\", line 466, in _request\n",
      "    raise AdapterHTTPError(\n",
      "geopy.adapters.AdapterHTTPError: Non-successful status code 403\n",
      "\n",
      "The above exception was the direct cause of the following exception:\n",
      "\n",
      "Traceback (most recent call last):\n",
      "  File \"C:\\Users\\yashaclone\\anaconda3\\envs\\geospatial\\lib\\site-packages\\geopy\\extra\\rate_limiter.py\", line 274, in __call__\n",
      "    res = self.func(*args, **kwargs)\n",
      "  File \"C:\\Users\\yashaclone\\anaconda3\\envs\\geospatial\\lib\\site-packages\\geopy\\geocoders\\nominatim.py\", line 362, in reverse\n",
      "    return self._call_geocoder(url, callback, timeout=timeout)\n",
      "  File \"C:\\Users\\yashaclone\\anaconda3\\envs\\geospatial\\lib\\site-packages\\geopy\\geocoders\\base.py\", line 388, in _call_geocoder\n",
      "    res = self._adapter_error_handler(error)\n",
      "  File \"C:\\Users\\yashaclone\\anaconda3\\envs\\geospatial\\lib\\site-packages\\geopy\\geocoders\\base.py\", line 411, in _adapter_error_handler\n",
      "    raise exc_cls(str(error)) from error\n",
      "geopy.exc.GeocoderInsufficientPrivileges: Non-successful status code 403\n",
      "RateLimiter caught an error, retrying (0/2 tries). Called with (*('36.16102,-86.59207',), **{}).\n",
      "Traceback (most recent call last):\n",
      "  File \"C:\\Users\\yashaclone\\anaconda3\\envs\\geospatial\\lib\\site-packages\\geopy\\geocoders\\base.py\", line 368, in _call_geocoder\n",
      "    result = self.adapter.get_json(url, timeout=timeout, headers=req_headers)\n",
      "  File \"C:\\Users\\yashaclone\\anaconda3\\envs\\geospatial\\lib\\site-packages\\geopy\\adapters.py\", line 438, in get_json\n",
      "    resp = self._request(url, timeout=timeout, headers=headers)\n",
      "  File \"C:\\Users\\yashaclone\\anaconda3\\envs\\geospatial\\lib\\site-packages\\geopy\\adapters.py\", line 466, in _request\n",
      "    raise AdapterHTTPError(\n",
      "geopy.adapters.AdapterHTTPError: Non-successful status code 403\n",
      "\n",
      "The above exception was the direct cause of the following exception:\n",
      "\n",
      "Traceback (most recent call last):\n",
      "  File \"C:\\Users\\yashaclone\\anaconda3\\envs\\geospatial\\lib\\site-packages\\geopy\\extra\\rate_limiter.py\", line 136, in _retries_gen\n",
      "    yield i  # Run the function.\n",
      "  File \"C:\\Users\\yashaclone\\anaconda3\\envs\\geospatial\\lib\\site-packages\\geopy\\extra\\rate_limiter.py\", line 274, in __call__\n",
      "    res = self.func(*args, **kwargs)\n",
      "  File \"C:\\Users\\yashaclone\\anaconda3\\envs\\geospatial\\lib\\site-packages\\geopy\\geocoders\\nominatim.py\", line 362, in reverse\n",
      "    return self._call_geocoder(url, callback, timeout=timeout)\n",
      "  File \"C:\\Users\\yashaclone\\anaconda3\\envs\\geospatial\\lib\\site-packages\\geopy\\geocoders\\base.py\", line 388, in _call_geocoder\n",
      "    res = self._adapter_error_handler(error)\n",
      "  File \"C:\\Users\\yashaclone\\anaconda3\\envs\\geospatial\\lib\\site-packages\\geopy\\geocoders\\base.py\", line 411, in _adapter_error_handler\n",
      "    raise exc_cls(str(error)) from error\n",
      "geopy.exc.GeocoderInsufficientPrivileges: Non-successful status code 403\n"
     ]
    },
    {
     "ename": "KeyboardInterrupt",
     "evalue": "",
     "output_type": "error",
     "traceback": [
      "\u001b[1;31m---------------------------------------------------------------------------\u001b[0m",
      "\u001b[1;31mAdapterHTTPError\u001b[0m                          Traceback (most recent call last)",
      "\u001b[1;32m~\\anaconda3\\envs\\geospatial\\lib\\site-packages\\geopy\\geocoders\\base.py\u001b[0m in \u001b[0;36m_call_geocoder\u001b[1;34m(self, url, callback, timeout, is_json, headers)\u001b[0m\n\u001b[0;32m    367\u001b[0m             \u001b[1;32mif\u001b[0m \u001b[0mis_json\u001b[0m\u001b[1;33m:\u001b[0m\u001b[1;33m\u001b[0m\u001b[1;33m\u001b[0m\u001b[0m\n\u001b[1;32m--> 368\u001b[1;33m                 \u001b[0mresult\u001b[0m \u001b[1;33m=\u001b[0m \u001b[0mself\u001b[0m\u001b[1;33m.\u001b[0m\u001b[0madapter\u001b[0m\u001b[1;33m.\u001b[0m\u001b[0mget_json\u001b[0m\u001b[1;33m(\u001b[0m\u001b[0murl\u001b[0m\u001b[1;33m,\u001b[0m \u001b[0mtimeout\u001b[0m\u001b[1;33m=\u001b[0m\u001b[0mtimeout\u001b[0m\u001b[1;33m,\u001b[0m \u001b[0mheaders\u001b[0m\u001b[1;33m=\u001b[0m\u001b[0mreq_headers\u001b[0m\u001b[1;33m)\u001b[0m\u001b[1;33m\u001b[0m\u001b[1;33m\u001b[0m\u001b[0m\n\u001b[0m\u001b[0;32m    369\u001b[0m             \u001b[1;32melse\u001b[0m\u001b[1;33m:\u001b[0m\u001b[1;33m\u001b[0m\u001b[1;33m\u001b[0m\u001b[0m\n",
      "\u001b[1;32m~\\anaconda3\\envs\\geospatial\\lib\\site-packages\\geopy\\adapters.py\u001b[0m in \u001b[0;36mget_json\u001b[1;34m(self, url, timeout, headers)\u001b[0m\n\u001b[0;32m    437\u001b[0m     \u001b[1;32mdef\u001b[0m \u001b[0mget_json\u001b[0m\u001b[1;33m(\u001b[0m\u001b[0mself\u001b[0m\u001b[1;33m,\u001b[0m \u001b[0murl\u001b[0m\u001b[1;33m,\u001b[0m \u001b[1;33m*\u001b[0m\u001b[1;33m,\u001b[0m \u001b[0mtimeout\u001b[0m\u001b[1;33m,\u001b[0m \u001b[0mheaders\u001b[0m\u001b[1;33m)\u001b[0m\u001b[1;33m:\u001b[0m\u001b[1;33m\u001b[0m\u001b[1;33m\u001b[0m\u001b[0m\n\u001b[1;32m--> 438\u001b[1;33m         \u001b[0mresp\u001b[0m \u001b[1;33m=\u001b[0m \u001b[0mself\u001b[0m\u001b[1;33m.\u001b[0m\u001b[0m_request\u001b[0m\u001b[1;33m(\u001b[0m\u001b[0murl\u001b[0m\u001b[1;33m,\u001b[0m \u001b[0mtimeout\u001b[0m\u001b[1;33m=\u001b[0m\u001b[0mtimeout\u001b[0m\u001b[1;33m,\u001b[0m \u001b[0mheaders\u001b[0m\u001b[1;33m=\u001b[0m\u001b[0mheaders\u001b[0m\u001b[1;33m)\u001b[0m\u001b[1;33m\u001b[0m\u001b[1;33m\u001b[0m\u001b[0m\n\u001b[0m\u001b[0;32m    439\u001b[0m         \u001b[1;32mtry\u001b[0m\u001b[1;33m:\u001b[0m\u001b[1;33m\u001b[0m\u001b[1;33m\u001b[0m\u001b[0m\n",
      "\u001b[1;32m~\\anaconda3\\envs\\geospatial\\lib\\site-packages\\geopy\\adapters.py\u001b[0m in \u001b[0;36m_request\u001b[1;34m(self, url, timeout, headers)\u001b[0m\n\u001b[0;32m    465\u001b[0m             \u001b[1;32mif\u001b[0m \u001b[0mresp\u001b[0m\u001b[1;33m.\u001b[0m\u001b[0mstatus_code\u001b[0m \u001b[1;33m>=\u001b[0m \u001b[1;36m400\u001b[0m\u001b[1;33m:\u001b[0m\u001b[1;33m\u001b[0m\u001b[1;33m\u001b[0m\u001b[0m\n\u001b[1;32m--> 466\u001b[1;33m                 raise AdapterHTTPError(\n\u001b[0m\u001b[0;32m    467\u001b[0m                     \u001b[1;34m\"Non-successful status code %s\"\u001b[0m \u001b[1;33m%\u001b[0m \u001b[0mresp\u001b[0m\u001b[1;33m.\u001b[0m\u001b[0mstatus_code\u001b[0m\u001b[1;33m,\u001b[0m\u001b[1;33m\u001b[0m\u001b[1;33m\u001b[0m\u001b[0m\n",
      "\u001b[1;31mAdapterHTTPError\u001b[0m: Non-successful status code 403",
      "\nThe above exception was the direct cause of the following exception:\n",
      "\u001b[1;31mGeocoderInsufficientPrivileges\u001b[0m            Traceback (most recent call last)",
      "\u001b[1;32m~\\anaconda3\\envs\\geospatial\\lib\\site-packages\\geopy\\extra\\rate_limiter.py\u001b[0m in \u001b[0;36m_retries_gen\u001b[1;34m(self, args, kwargs)\u001b[0m\n\u001b[0;32m    135\u001b[0m             \u001b[1;32mtry\u001b[0m\u001b[1;33m:\u001b[0m\u001b[1;33m\u001b[0m\u001b[1;33m\u001b[0m\u001b[0m\n\u001b[1;32m--> 136\u001b[1;33m                 \u001b[1;32myield\u001b[0m \u001b[0mi\u001b[0m  \u001b[1;31m# Run the function.\u001b[0m\u001b[1;33m\u001b[0m\u001b[1;33m\u001b[0m\u001b[0m\n\u001b[0m\u001b[0;32m    137\u001b[0m             \u001b[1;32mexcept\u001b[0m \u001b[0mself\u001b[0m\u001b[1;33m.\u001b[0m\u001b[0m_retry_exceptions\u001b[0m\u001b[1;33m:\u001b[0m\u001b[1;33m\u001b[0m\u001b[1;33m\u001b[0m\u001b[0m\n",
      "\u001b[1;32m~\\anaconda3\\envs\\geospatial\\lib\\site-packages\\geopy\\extra\\rate_limiter.py\u001b[0m in \u001b[0;36m__call__\u001b[1;34m(self, *args, **kwargs)\u001b[0m\n\u001b[0;32m    273\u001b[0m             \u001b[1;32mtry\u001b[0m\u001b[1;33m:\u001b[0m\u001b[1;33m\u001b[0m\u001b[1;33m\u001b[0m\u001b[0m\n\u001b[1;32m--> 274\u001b[1;33m                 \u001b[0mres\u001b[0m \u001b[1;33m=\u001b[0m \u001b[0mself\u001b[0m\u001b[1;33m.\u001b[0m\u001b[0mfunc\u001b[0m\u001b[1;33m(\u001b[0m\u001b[1;33m*\u001b[0m\u001b[0margs\u001b[0m\u001b[1;33m,\u001b[0m \u001b[1;33m**\u001b[0m\u001b[0mkwargs\u001b[0m\u001b[1;33m)\u001b[0m\u001b[1;33m\u001b[0m\u001b[1;33m\u001b[0m\u001b[0m\n\u001b[0m\u001b[0;32m    275\u001b[0m                 \u001b[1;32mif\u001b[0m \u001b[0minspect\u001b[0m\u001b[1;33m.\u001b[0m\u001b[0misawaitable\u001b[0m\u001b[1;33m(\u001b[0m\u001b[0mres\u001b[0m\u001b[1;33m)\u001b[0m\u001b[1;33m:\u001b[0m\u001b[1;33m\u001b[0m\u001b[1;33m\u001b[0m\u001b[0m\n",
      "\u001b[1;32m~\\anaconda3\\envs\\geospatial\\lib\\site-packages\\geopy\\geocoders\\nominatim.py\u001b[0m in \u001b[0;36mreverse\u001b[1;34m(self, query, exactly_one, timeout, language, addressdetails, zoom)\u001b[0m\n\u001b[0;32m    361\u001b[0m         \u001b[0mcallback\u001b[0m \u001b[1;33m=\u001b[0m \u001b[0mpartial\u001b[0m\u001b[1;33m(\u001b[0m\u001b[0mself\u001b[0m\u001b[1;33m.\u001b[0m\u001b[0m_parse_json\u001b[0m\u001b[1;33m,\u001b[0m \u001b[0mexactly_one\u001b[0m\u001b[1;33m=\u001b[0m\u001b[0mexactly_one\u001b[0m\u001b[1;33m)\u001b[0m\u001b[1;33m\u001b[0m\u001b[1;33m\u001b[0m\u001b[0m\n\u001b[1;32m--> 362\u001b[1;33m         \u001b[1;32mreturn\u001b[0m \u001b[0mself\u001b[0m\u001b[1;33m.\u001b[0m\u001b[0m_call_geocoder\u001b[0m\u001b[1;33m(\u001b[0m\u001b[0murl\u001b[0m\u001b[1;33m,\u001b[0m \u001b[0mcallback\u001b[0m\u001b[1;33m,\u001b[0m \u001b[0mtimeout\u001b[0m\u001b[1;33m=\u001b[0m\u001b[0mtimeout\u001b[0m\u001b[1;33m)\u001b[0m\u001b[1;33m\u001b[0m\u001b[1;33m\u001b[0m\u001b[0m\n\u001b[0m\u001b[0;32m    363\u001b[0m \u001b[1;33m\u001b[0m\u001b[0m\n",
      "\u001b[1;32m~\\anaconda3\\envs\\geospatial\\lib\\site-packages\\geopy\\geocoders\\base.py\u001b[0m in \u001b[0;36m_call_geocoder\u001b[1;34m(self, url, callback, timeout, is_json, headers)\u001b[0m\n\u001b[0;32m    387\u001b[0m         \u001b[1;32mexcept\u001b[0m \u001b[0mException\u001b[0m \u001b[1;32mas\u001b[0m \u001b[0merror\u001b[0m\u001b[1;33m:\u001b[0m\u001b[1;33m\u001b[0m\u001b[1;33m\u001b[0m\u001b[0m\n\u001b[1;32m--> 388\u001b[1;33m             \u001b[0mres\u001b[0m \u001b[1;33m=\u001b[0m \u001b[0mself\u001b[0m\u001b[1;33m.\u001b[0m\u001b[0m_adapter_error_handler\u001b[0m\u001b[1;33m(\u001b[0m\u001b[0merror\u001b[0m\u001b[1;33m)\u001b[0m\u001b[1;33m\u001b[0m\u001b[1;33m\u001b[0m\u001b[0m\n\u001b[0m\u001b[0;32m    389\u001b[0m             \u001b[1;32mif\u001b[0m \u001b[0mres\u001b[0m \u001b[1;32mis\u001b[0m \u001b[0mNONE_RESULT\u001b[0m\u001b[1;33m:\u001b[0m\u001b[1;33m\u001b[0m\u001b[1;33m\u001b[0m\u001b[0m\n",
      "\u001b[1;32m~\\anaconda3\\envs\\geospatial\\lib\\site-packages\\geopy\\geocoders\\base.py\u001b[0m in \u001b[0;36m_adapter_error_handler\u001b[1;34m(self, error)\u001b[0m\n\u001b[0;32m    410\u001b[0m             \u001b[1;32melse\u001b[0m\u001b[1;33m:\u001b[0m\u001b[1;33m\u001b[0m\u001b[1;33m\u001b[0m\u001b[0m\n\u001b[1;32m--> 411\u001b[1;33m                 \u001b[1;32mraise\u001b[0m \u001b[0mexc_cls\u001b[0m\u001b[1;33m(\u001b[0m\u001b[0mstr\u001b[0m\u001b[1;33m(\u001b[0m\u001b[0merror\u001b[0m\u001b[1;33m)\u001b[0m\u001b[1;33m)\u001b[0m \u001b[1;32mfrom\u001b[0m \u001b[0merror\u001b[0m\u001b[1;33m\u001b[0m\u001b[1;33m\u001b[0m\u001b[0m\n\u001b[0m\u001b[0;32m    412\u001b[0m         \u001b[1;32melse\u001b[0m\u001b[1;33m:\u001b[0m\u001b[1;33m\u001b[0m\u001b[1;33m\u001b[0m\u001b[0m\n",
      "\u001b[1;31mGeocoderInsufficientPrivileges\u001b[0m: Non-successful status code 403",
      "\nDuring handling of the above exception, another exception occurred:\n",
      "\u001b[1;31mKeyboardInterrupt\u001b[0m                         Traceback (most recent call last)",
      "\u001b[1;32mC:\\Users\\YASHAC~1\\AppData\\Local\\Temp/ipykernel_12256/3662325846.py\u001b[0m in \u001b[0;36m<module>\u001b[1;34m\u001b[0m\n\u001b[1;32m----> 1\u001b[1;33m \u001b[0mfeblistings\u001b[0m\u001b[1;33m[\u001b[0m\u001b[1;34m'address'\u001b[0m\u001b[1;33m]\u001b[0m \u001b[1;33m=\u001b[0m \u001b[0mfeblistings\u001b[0m\u001b[1;33m[\u001b[0m\u001b[1;34m'geom'\u001b[0m\u001b[1;33m]\u001b[0m\u001b[1;33m.\u001b[0m\u001b[0mprogress_apply\u001b[0m\u001b[1;33m(\u001b[0m\u001b[0mrgeocode\u001b[0m\u001b[1;33m)\u001b[0m\u001b[1;33m\u001b[0m\u001b[1;33m\u001b[0m\u001b[0m\n\u001b[0m\u001b[0;32m      2\u001b[0m \u001b[0mfeblistings\u001b[0m\u001b[1;33m.\u001b[0m\u001b[0mhead\u001b[0m\u001b[1;33m(\u001b[0m\u001b[1;33m)\u001b[0m\u001b[1;33m\u001b[0m\u001b[1;33m\u001b[0m\u001b[0m\n",
      "\u001b[1;32m~\\anaconda3\\envs\\geospatial\\lib\\site-packages\\tqdm\\std.py\u001b[0m in \u001b[0;36minner\u001b[1;34m(df, func, *args, **kwargs)\u001b[0m\n\u001b[0;32m    812\u001b[0m                 \u001b[1;31m# on the df using our wrapper (which provides bar updating)\u001b[0m\u001b[1;33m\u001b[0m\u001b[1;33m\u001b[0m\u001b[1;33m\u001b[0m\u001b[0m\n\u001b[0;32m    813\u001b[0m                 \u001b[1;32mtry\u001b[0m\u001b[1;33m:\u001b[0m\u001b[1;33m\u001b[0m\u001b[1;33m\u001b[0m\u001b[0m\n\u001b[1;32m--> 814\u001b[1;33m                     \u001b[1;32mreturn\u001b[0m \u001b[0mgetattr\u001b[0m\u001b[1;33m(\u001b[0m\u001b[0mdf\u001b[0m\u001b[1;33m,\u001b[0m \u001b[0mdf_function\u001b[0m\u001b[1;33m)\u001b[0m\u001b[1;33m(\u001b[0m\u001b[0mwrapper\u001b[0m\u001b[1;33m,\u001b[0m \u001b[1;33m**\u001b[0m\u001b[0mkwargs\u001b[0m\u001b[1;33m)\u001b[0m\u001b[1;33m\u001b[0m\u001b[1;33m\u001b[0m\u001b[0m\n\u001b[0m\u001b[0;32m    815\u001b[0m                 \u001b[1;32mfinally\u001b[0m\u001b[1;33m:\u001b[0m\u001b[1;33m\u001b[0m\u001b[1;33m\u001b[0m\u001b[0m\n\u001b[0;32m    816\u001b[0m                     \u001b[0mt\u001b[0m\u001b[1;33m.\u001b[0m\u001b[0mclose\u001b[0m\u001b[1;33m(\u001b[0m\u001b[1;33m)\u001b[0m\u001b[1;33m\u001b[0m\u001b[1;33m\u001b[0m\u001b[0m\n",
      "\u001b[1;32m~\\anaconda3\\envs\\geospatial\\lib\\site-packages\\pandas\\core\\series.py\u001b[0m in \u001b[0;36mapply\u001b[1;34m(self, func, convert_dtype, args, **kwargs)\u001b[0m\n\u001b[0;32m   4355\u001b[0m         \u001b[0mdtype\u001b[0m\u001b[1;33m:\u001b[0m \u001b[0mfloat64\u001b[0m\u001b[1;33m\u001b[0m\u001b[1;33m\u001b[0m\u001b[0m\n\u001b[0;32m   4356\u001b[0m         \"\"\"\n\u001b[1;32m-> 4357\u001b[1;33m         \u001b[1;32mreturn\u001b[0m \u001b[0mSeriesApply\u001b[0m\u001b[1;33m(\u001b[0m\u001b[0mself\u001b[0m\u001b[1;33m,\u001b[0m \u001b[0mfunc\u001b[0m\u001b[1;33m,\u001b[0m \u001b[0mconvert_dtype\u001b[0m\u001b[1;33m,\u001b[0m \u001b[0margs\u001b[0m\u001b[1;33m,\u001b[0m \u001b[0mkwargs\u001b[0m\u001b[1;33m)\u001b[0m\u001b[1;33m.\u001b[0m\u001b[0mapply\u001b[0m\u001b[1;33m(\u001b[0m\u001b[1;33m)\u001b[0m\u001b[1;33m\u001b[0m\u001b[1;33m\u001b[0m\u001b[0m\n\u001b[0m\u001b[0;32m   4358\u001b[0m \u001b[1;33m\u001b[0m\u001b[0m\n\u001b[0;32m   4359\u001b[0m     def _reduce(\n",
      "\u001b[1;32m~\\anaconda3\\envs\\geospatial\\lib\\site-packages\\pandas\\core\\apply.py\u001b[0m in \u001b[0;36mapply\u001b[1;34m(self)\u001b[0m\n\u001b[0;32m   1041\u001b[0m             \u001b[1;32mreturn\u001b[0m \u001b[0mself\u001b[0m\u001b[1;33m.\u001b[0m\u001b[0mapply_str\u001b[0m\u001b[1;33m(\u001b[0m\u001b[1;33m)\u001b[0m\u001b[1;33m\u001b[0m\u001b[1;33m\u001b[0m\u001b[0m\n\u001b[0;32m   1042\u001b[0m \u001b[1;33m\u001b[0m\u001b[0m\n\u001b[1;32m-> 1043\u001b[1;33m         \u001b[1;32mreturn\u001b[0m \u001b[0mself\u001b[0m\u001b[1;33m.\u001b[0m\u001b[0mapply_standard\u001b[0m\u001b[1;33m(\u001b[0m\u001b[1;33m)\u001b[0m\u001b[1;33m\u001b[0m\u001b[1;33m\u001b[0m\u001b[0m\n\u001b[0m\u001b[0;32m   1044\u001b[0m \u001b[1;33m\u001b[0m\u001b[0m\n\u001b[0;32m   1045\u001b[0m     \u001b[1;32mdef\u001b[0m \u001b[0magg\u001b[0m\u001b[1;33m(\u001b[0m\u001b[0mself\u001b[0m\u001b[1;33m)\u001b[0m\u001b[1;33m:\u001b[0m\u001b[1;33m\u001b[0m\u001b[1;33m\u001b[0m\u001b[0m\n",
      "\u001b[1;32m~\\anaconda3\\envs\\geospatial\\lib\\site-packages\\pandas\\core\\apply.py\u001b[0m in \u001b[0;36mapply_standard\u001b[1;34m(self)\u001b[0m\n\u001b[0;32m   1097\u001b[0m                 \u001b[1;31m# List[Union[Callable[..., Any], str]]]]]\"; expected\u001b[0m\u001b[1;33m\u001b[0m\u001b[1;33m\u001b[0m\u001b[1;33m\u001b[0m\u001b[0m\n\u001b[0;32m   1098\u001b[0m                 \u001b[1;31m# \"Callable[[Any], Any]\"\u001b[0m\u001b[1;33m\u001b[0m\u001b[1;33m\u001b[0m\u001b[1;33m\u001b[0m\u001b[0m\n\u001b[1;32m-> 1099\u001b[1;33m                 mapped = lib.map_infer(\n\u001b[0m\u001b[0;32m   1100\u001b[0m                     \u001b[0mvalues\u001b[0m\u001b[1;33m,\u001b[0m\u001b[1;33m\u001b[0m\u001b[1;33m\u001b[0m\u001b[0m\n\u001b[0;32m   1101\u001b[0m                     \u001b[0mf\u001b[0m\u001b[1;33m,\u001b[0m  \u001b[1;31m# type: ignore[arg-type]\u001b[0m\u001b[1;33m\u001b[0m\u001b[1;33m\u001b[0m\u001b[0m\n",
      "\u001b[1;32m~\\anaconda3\\envs\\geospatial\\lib\\site-packages\\pandas\\_libs\\lib.pyx\u001b[0m in \u001b[0;36mpandas._libs.lib.map_infer\u001b[1;34m()\u001b[0m\n",
      "\u001b[1;32m~\\anaconda3\\envs\\geospatial\\lib\\site-packages\\tqdm\\std.py\u001b[0m in \u001b[0;36mwrapper\u001b[1;34m(*args, **kwargs)\u001b[0m\n\u001b[0;32m    807\u001b[0m                     \u001b[1;31m# take a fast or slow code path; so stop when t.total==t.n\u001b[0m\u001b[1;33m\u001b[0m\u001b[1;33m\u001b[0m\u001b[1;33m\u001b[0m\u001b[0m\n\u001b[0;32m    808\u001b[0m                     \u001b[0mt\u001b[0m\u001b[1;33m.\u001b[0m\u001b[0mupdate\u001b[0m\u001b[1;33m(\u001b[0m\u001b[0mn\u001b[0m\u001b[1;33m=\u001b[0m\u001b[1;36m1\u001b[0m \u001b[1;32mif\u001b[0m \u001b[1;32mnot\u001b[0m \u001b[0mt\u001b[0m\u001b[1;33m.\u001b[0m\u001b[0mtotal\u001b[0m \u001b[1;32mor\u001b[0m \u001b[0mt\u001b[0m\u001b[1;33m.\u001b[0m\u001b[0mn\u001b[0m \u001b[1;33m<\u001b[0m \u001b[0mt\u001b[0m\u001b[1;33m.\u001b[0m\u001b[0mtotal\u001b[0m \u001b[1;32melse\u001b[0m \u001b[1;36m0\u001b[0m\u001b[1;33m)\u001b[0m\u001b[1;33m\u001b[0m\u001b[1;33m\u001b[0m\u001b[0m\n\u001b[1;32m--> 809\u001b[1;33m                     \u001b[1;32mreturn\u001b[0m \u001b[0mfunc\u001b[0m\u001b[1;33m(\u001b[0m\u001b[1;33m*\u001b[0m\u001b[0margs\u001b[0m\u001b[1;33m,\u001b[0m \u001b[1;33m**\u001b[0m\u001b[0mkwargs\u001b[0m\u001b[1;33m)\u001b[0m\u001b[1;33m\u001b[0m\u001b[1;33m\u001b[0m\u001b[0m\n\u001b[0m\u001b[0;32m    810\u001b[0m \u001b[1;33m\u001b[0m\u001b[0m\n\u001b[0;32m    811\u001b[0m                 \u001b[1;31m# Apply the provided function (in **kwargs)\u001b[0m\u001b[1;33m\u001b[0m\u001b[1;33m\u001b[0m\u001b[1;33m\u001b[0m\u001b[0m\n",
      "\u001b[1;32m~\\anaconda3\\envs\\geospatial\\lib\\site-packages\\geopy\\extra\\rate_limiter.py\u001b[0m in \u001b[0;36m__call__\u001b[1;34m(self, *args, **kwargs)\u001b[0m\n\u001b[0;32m    283\u001b[0m                     \u001b[1;31m# A final try\u001b[0m\u001b[1;33m\u001b[0m\u001b[1;33m\u001b[0m\u001b[1;33m\u001b[0m\u001b[0m\n\u001b[0;32m    284\u001b[0m                     \u001b[1;32mreturn\u001b[0m \u001b[0mself\u001b[0m\u001b[1;33m.\u001b[0m\u001b[0m_handle_exc\u001b[0m\u001b[1;33m(\u001b[0m\u001b[0margs\u001b[0m\u001b[1;33m,\u001b[0m \u001b[0mkwargs\u001b[0m\u001b[1;33m)\u001b[0m\u001b[1;33m\u001b[0m\u001b[1;33m\u001b[0m\u001b[0m\n\u001b[1;32m--> 285\u001b[1;33m                 \u001b[0mself\u001b[0m\u001b[1;33m.\u001b[0m\u001b[0m_sleep\u001b[0m\u001b[1;33m(\u001b[0m\u001b[0mself\u001b[0m\u001b[1;33m.\u001b[0m\u001b[0merror_wait_seconds\u001b[0m\u001b[1;33m)\u001b[0m\u001b[1;33m\u001b[0m\u001b[1;33m\u001b[0m\u001b[0m\n\u001b[0m\u001b[0;32m    286\u001b[0m \u001b[1;33m\u001b[0m\u001b[0m\n\u001b[0;32m    287\u001b[0m         \u001b[1;32mraise\u001b[0m \u001b[0mRuntimeError\u001b[0m\u001b[1;33m(\u001b[0m\u001b[1;34m\"Should not have been reached\"\u001b[0m\u001b[1;33m)\u001b[0m  \u001b[1;31m# pragma: no cover\u001b[0m\u001b[1;33m\u001b[0m\u001b[1;33m\u001b[0m\u001b[0m\n",
      "\u001b[1;32m~\\anaconda3\\envs\\geospatial\\lib\\site-packages\\geopy\\extra\\rate_limiter.py\u001b[0m in \u001b[0;36m_sleep\u001b[1;34m(self, seconds)\u001b[0m\n\u001b[0;32m    261\u001b[0m     \u001b[1;32mdef\u001b[0m \u001b[0m_sleep\u001b[0m\u001b[1;33m(\u001b[0m\u001b[0mself\u001b[0m\u001b[1;33m,\u001b[0m \u001b[0mseconds\u001b[0m\u001b[1;33m)\u001b[0m\u001b[1;33m:\u001b[0m  \u001b[1;31m# pragma: no cover\u001b[0m\u001b[1;33m\u001b[0m\u001b[1;33m\u001b[0m\u001b[0m\n\u001b[0;32m    262\u001b[0m         \u001b[0mlogger\u001b[0m\u001b[1;33m.\u001b[0m\u001b[0mdebug\u001b[0m\u001b[1;33m(\u001b[0m\u001b[0mtype\u001b[0m\u001b[1;33m(\u001b[0m\u001b[0mself\u001b[0m\u001b[1;33m)\u001b[0m\u001b[1;33m.\u001b[0m\u001b[0m__name__\u001b[0m \u001b[1;33m+\u001b[0m \u001b[1;34m\" sleep(%r)\"\u001b[0m\u001b[1;33m,\u001b[0m \u001b[0mseconds\u001b[0m\u001b[1;33m)\u001b[0m\u001b[1;33m\u001b[0m\u001b[1;33m\u001b[0m\u001b[0m\n\u001b[1;32m--> 263\u001b[1;33m         \u001b[0msleep\u001b[0m\u001b[1;33m(\u001b[0m\u001b[0mseconds\u001b[0m\u001b[1;33m)\u001b[0m\u001b[1;33m\u001b[0m\u001b[1;33m\u001b[0m\u001b[0m\n\u001b[0m\u001b[0;32m    264\u001b[0m \u001b[1;33m\u001b[0m\u001b[0m\n\u001b[0;32m    265\u001b[0m     \u001b[1;32mdef\u001b[0m \u001b[0m_acquire_request_slot\u001b[0m\u001b[1;33m(\u001b[0m\u001b[0mself\u001b[0m\u001b[1;33m)\u001b[0m\u001b[1;33m:\u001b[0m\u001b[1;33m\u001b[0m\u001b[1;33m\u001b[0m\u001b[0m\n",
      "\u001b[1;31mKeyboardInterrupt\u001b[0m: "
     ]
    },
    {
     "name": "stdout",
     "output_type": "stream",
     "text": [
      "time: 1min 17s (started: 2021-12-16 20:20:17 -06:00)\n"
     ]
    }
   ],
   "source": [
    "feblistings['address'] = feblistings['geom'].progress_apply(rgeocode)\n",
    "feblistings.head()"
   ]
  },
  {
   "cell_type": "code",
   "execution_count": null,
   "id": "ebd2155b",
   "metadata": {},
   "outputs": [],
   "source": []
  },
  {
   "cell_type": "code",
   "execution_count": null,
   "id": "d33e0c6b",
   "metadata": {},
   "outputs": [],
   "source": []
  },
  {
   "cell_type": "code",
   "execution_count": null,
   "id": "87ca3614",
   "metadata": {},
   "outputs": [],
   "source": []
  },
  {
   "cell_type": "code",
   "execution_count": null,
   "id": "2f5a5079",
   "metadata": {},
   "outputs": [],
   "source": []
  },
  {
   "cell_type": "code",
   "execution_count": null,
   "id": "b2ba57e0",
   "metadata": {},
   "outputs": [],
   "source": []
  },
  {
   "cell_type": "code",
   "execution_count": null,
   "id": "c1c545f2",
   "metadata": {},
   "outputs": [],
   "source": []
  },
  {
   "cell_type": "code",
   "execution_count": null,
   "id": "e5edb979",
   "metadata": {},
   "outputs": [],
   "source": []
  },
  {
   "cell_type": "code",
   "execution_count": null,
   "id": "3dcc1ba9",
   "metadata": {},
   "outputs": [],
   "source": []
  },
  {
   "cell_type": "code",
   "execution_count": null,
   "id": "f1648052",
   "metadata": {},
   "outputs": [],
   "source": []
  },
  {
   "cell_type": "code",
   "execution_count": null,
   "id": "70fcaf49",
   "metadata": {},
   "outputs": [],
   "source": []
  }
 ],
 "metadata": {
  "kernelspec": {
   "display_name": "Python 3 (ipykernel)",
   "language": "python",
   "name": "python3"
  },
  "language_info": {
   "codemirror_mode": {
    "name": "ipython",
    "version": 3
   },
   "file_extension": ".py",
   "mimetype": "text/x-python",
   "name": "python",
   "nbconvert_exporter": "python",
   "pygments_lexer": "ipython3",
   "version": "3.8.5"
  }
 },
 "nbformat": 4,
 "nbformat_minor": 5
}
