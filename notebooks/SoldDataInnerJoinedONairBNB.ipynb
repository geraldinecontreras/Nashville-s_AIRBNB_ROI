{
 "cells": [
  {
   "cell_type": "code",
   "execution_count": 1,
   "metadata": {},
   "outputs": [
    {
     "name": "stdout",
     "output_type": "stream",
     "text": [
      "Populating the interactive namespace from numpy and matplotlib\n",
      "time: 2.42 s (started: 2021-12-20 00:59:34 -06:00)\n"
     ]
    }
   ],
   "source": [
    "%matplotlib inline\n",
    "%pylab inline\n",
    "%load_ext autotime\n",
    "\n",
    "import pandas as pd\n",
    "import numpy as np\n",
    "import matplotlib.pyplot as plt\n",
    "import plotly.graph_objs as go\n",
    "import seaborn as sns\n",
    "import os\n",
    "import glob\n",
    "import geopandas as gpd\n",
    "import geopy\n",
    "import plotly_express as px\n",
    "import tqdm\n",
    "import pickle\n",
    "\n",
    "from graphics import Point\n",
    "from functools import reduce\n",
    "from datetime import date\n",
    "from datetime import datetime\n",
    "from geopy.geocoders import Nominatim\n",
    "from geopy.extra.rate_limiter import RateLimiter\n",
    "from tqdm.notebook import tqdm_notebook\n",
    "\n",
    "\n",
    "#from dtale.views import startup\n",
    "#import dtale\n",
    "#import pyplot as plt\n",
    "# os and glob help concat multiple csv files into one"
   ]
  },
  {
   "cell_type": "code",
   "execution_count": 2,
   "metadata": {},
   "outputs": [
    {
     "name": "stdout",
     "output_type": "stream",
     "text": [
      "time: 32 ms (started: 2021-12-20 00:59:36 -06:00)\n"
     ]
    }
   ],
   "source": [
    "redfinandzillow = pd.read_csv('../data/RedfinandZillowdata.csv')"
   ]
  },
  {
   "cell_type": "code",
   "execution_count": 3,
   "metadata": {},
   "outputs": [
    {
     "name": "stdout",
     "output_type": "stream",
     "text": [
      "time: 219 ms (started: 2021-12-20 00:59:38 -06:00)\n"
     ]
    }
   ],
   "source": [
    "finalairbnbdata = pd.read_csv('../data/FinalAirBnBData.csv')"
   ]
  },
  {
   "cell_type": "code",
   "execution_count": 4,
   "metadata": {},
   "outputs": [
    {
     "name": "stdout",
     "output_type": "stream",
     "text": [
      "<class 'pandas.core.frame.DataFrame'>\n",
      "RangeIndex: 10665 entries, 0 to 10664\n",
      "Data columns (total 19 columns):\n",
      " #   Column      Non-Null Count  Dtype  \n",
      "---  ------      --------------  -----  \n",
      " 0   SOLD DATE   600 non-null    object \n",
      " 1   Street      2002 non-null   object \n",
      " 2   CITY        700 non-null    object \n",
      " 3   Zipcode     700 non-null    float64\n",
      " 4   PRICE       700 non-null    float64\n",
      " 5   Bedroom_x   569 non-null    float64\n",
      " 6   Bathroom_x  573 non-null    float64\n",
      " 7   sqft_x      581 non-null    float64\n",
      " 8   Latitude    700 non-null    float64\n",
      " 9   Longitude   700 non-null    float64\n",
      " 10  Address     1309 non-null   object \n",
      " 11  Price       1309 non-null   object \n",
      " 12  Bedroom_y   1309 non-null   object \n",
      " 13  Bathroom_y  1309 non-null   object \n",
      " 14  sqft_y      1309 non-null   object \n",
      " 15  Sold        1309 non-null   object \n",
      " 16  latitude    8653 non-null   float64\n",
      " 17  longitude   8653 non-null   float64\n",
      " 18  City        1309 non-null   object \n",
      "dtypes: float64(9), object(10)\n",
      "memory usage: 1.5+ MB\n",
      "time: 31 ms (started: 2021-12-20 00:59:40 -06:00)\n"
     ]
    }
   ],
   "source": [
    "redfinandzillow.info()"
   ]
  },
  {
   "cell_type": "code",
   "execution_count": 6,
   "metadata": {},
   "outputs": [
    {
     "name": "stdout",
     "output_type": "stream",
     "text": [
      "time: 16 ms (started: 2021-12-20 01:00:23 -06:00)\n"
     ]
    }
   ],
   "source": [
    "redfinandzillow = redfinandzillow.drop_duplicates(subset=['Street'])"
   ]
  },
  {
   "cell_type": "code",
   "execution_count": null,
   "metadata": {},
   "outputs": [],
   "source": []
  },
  {
   "cell_type": "code",
   "execution_count": 5,
   "metadata": {},
   "outputs": [
    {
     "name": "stdout",
     "output_type": "stream",
     "text": [
      "<class 'pandas.core.frame.DataFrame'>\n",
      "RangeIndex: 56798 entries, 0 to 56797\n",
      "Data columns (total 19 columns):\n",
      " #   Column         Non-Null Count  Dtype  \n",
      "---  ------         --------------  -----  \n",
      " 0   id             56798 non-null  int64  \n",
      " 1   AirBnB         53592 non-null  object \n",
      " 2   HostID         53592 non-null  float64\n",
      " 3   Host           52317 non-null  object \n",
      " 4   Latitude       53592 non-null  float64\n",
      " 5   Longitude      53592 non-null  float64\n",
      " 6   Room_Type      53592 non-null  object \n",
      " 7   Price          53592 non-null  float64\n",
      " 8   Min_Nights     53592 non-null  float64\n",
      " 9   Reviews        53592 non-null  float64\n",
      " 10  Last_Review    46461 non-null  object \n",
      " 11  Rev_per_month  46461 non-null  float64\n",
      " 12  HostListings   53592 non-null  float64\n",
      " 13  Availability   53592 non-null  float64\n",
      " 14  Address        53592 non-null  object \n",
      " 15  Street         53592 non-null  object \n",
      " 16  City           53592 non-null  object \n",
      " 17  State          53592 non-null  object \n",
      " 18  Country        53445 non-null  object \n",
      "dtypes: float64(9), int64(1), object(9)\n",
      "memory usage: 8.2+ MB\n",
      "time: 32 ms (started: 2021-12-20 00:59:42 -06:00)\n"
     ]
    }
   ],
   "source": [
    "finalairbnbdata.info()"
   ]
  },
  {
   "cell_type": "code",
   "execution_count": 7,
   "metadata": {},
   "outputs": [
    {
     "name": "stdout",
     "output_type": "stream",
     "text": [
      "time: 16 ms (started: 2021-12-20 01:00:48 -06:00)\n"
     ]
    }
   ],
   "source": [
    "finalairbnbdata = finalairbnbdata.drop_duplicates(subset=['Street'])"
   ]
  },
  {
   "cell_type": "code",
   "execution_count": null,
   "metadata": {},
   "outputs": [],
   "source": [
    "#if i didnt drop duplicates, i would have gotte approx 22.7m rows when merging these two df's"
   ]
  },
  {
   "cell_type": "code",
   "execution_count": 8,
   "metadata": {},
   "outputs": [
    {
     "name": "stdout",
     "output_type": "stream",
     "text": [
      "time: 15 ms (started: 2021-12-20 01:01:18 -06:00)\n"
     ]
    }
   ],
   "source": [
    "bought_in_2021sample = pd.merge(finalairbnbdata, redfinandzillow, on = 'Street', how='inner')"
   ]
  },
  {
   "cell_type": "code",
   "execution_count": null,
   "metadata": {},
   "outputs": [],
   "source": []
  },
  {
   "cell_type": "code",
   "execution_count": 11,
   "metadata": {},
   "outputs": [
    {
     "name": "stdout",
     "output_type": "stream",
     "text": [
      "<class 'pandas.core.frame.DataFrame'>\n",
      "Int64Index: 27 entries, 0 to 26\n",
      "Data columns (total 37 columns):\n",
      " #   Column         Non-Null Count  Dtype  \n",
      "---  ------         --------------  -----  \n",
      " 0   id             27 non-null     int64  \n",
      " 1   AirBnB         26 non-null     object \n",
      " 2   HostID         26 non-null     float64\n",
      " 3   Host           25 non-null     object \n",
      " 4   Latitude_x     26 non-null     float64\n",
      " 5   Longitude_x    26 non-null     float64\n",
      " 6   Room_Type      26 non-null     object \n",
      " 7   Price_x        26 non-null     float64\n",
      " 8   Min_Nights     26 non-null     float64\n",
      " 9   Reviews        26 non-null     float64\n",
      " 10  Last_Review    22 non-null     object \n",
      " 11  Rev_per_month  22 non-null     float64\n",
      " 12  HostListings   26 non-null     float64\n",
      " 13  Availability   26 non-null     float64\n",
      " 14  Address_x      26 non-null     object \n",
      " 15  Street         26 non-null     object \n",
      " 16  City_x         26 non-null     object \n",
      " 17  State          26 non-null     object \n",
      " 18  Country        26 non-null     object \n",
      " 19  SOLD DATE      5 non-null      object \n",
      " 20  CITY           7 non-null      object \n",
      " 21  Zipcode        7 non-null      float64\n",
      " 22  PRICE          7 non-null      float64\n",
      " 23  Bedroom_x      4 non-null      float64\n",
      " 24  Bathroom_x     4 non-null      float64\n",
      " 25  sqft_x         6 non-null      float64\n",
      " 26  Latitude_y     7 non-null      float64\n",
      " 27  Longitude_y    7 non-null      float64\n",
      " 28  Address_y      19 non-null     object \n",
      " 29  Price_y        19 non-null     object \n",
      " 30  Bedroom_y      19 non-null     object \n",
      " 31  Bathroom_y     19 non-null     object \n",
      " 32  sqft_y         19 non-null     object \n",
      " 33  Sold           19 non-null     object \n",
      " 34  latitude       0 non-null      float64\n",
      " 35  longitude      0 non-null      float64\n",
      " 36  City_y         19 non-null     object \n",
      "dtypes: float64(18), int64(1), object(18)\n",
      "memory usage: 8.0+ KB\n",
      "time: 16 ms (started: 2021-12-20 01:01:55 -06:00)\n"
     ]
    }
   ],
   "source": [
    "bought_in_2021sample.info()"
   ]
  },
  {
   "cell_type": "code",
   "execution_count": 13,
   "metadata": {},
   "outputs": [
    {
     "data": {
      "text/plain": [
       "0       2123 Ashwood Ave\n",
       "1      6350 Columbia Ave\n",
       "2          515 N 17th St\n",
       "3      2245 Berrywood Rd\n",
       "4      1433 Electric Ave\n",
       "5      4910 Delaware Ave\n",
       "6      509 Cottonwood Dr\n",
       "7       1026 Fairwin Ave\n",
       "8           810 Glen Ave\n",
       "9        1104 18th Ave S\n",
       "10        1917 Cephas St\n",
       "11         50 Waters Ave\n",
       "12         6521 Lampe Ct\n",
       "13       2417 Carter Ave\n",
       "14      1221 Pennock Ave\n",
       "15    703 Tulip Grove Rd\n",
       "16         162 3rd Ave N\n",
       "17    923 W Eastland Ave\n",
       "18     1043 E Trinity Ln\n",
       "19     602 Inverness Ave\n",
       "20        312 Pioneer Ln\n",
       "21      1105 Clayton Ave\n",
       "22       1508 Norvel Ave\n",
       "23          702 Ries Ave\n",
       "24        1629 7th Ave N\n",
       "25     1300 Saunders Ave\n",
       "26                   NaN\n",
       "Name: Street, dtype: object"
      ]
     },
     "execution_count": 13,
     "metadata": {},
     "output_type": "execute_result"
    },
    {
     "name": "stdout",
     "output_type": "stream",
     "text": [
      "time: 0 ns (started: 2021-12-20 01:03:30 -06:00)\n"
     ]
    }
   ],
   "source": [
    "bought_in_2021sample['Street']"
   ]
  },
  {
   "cell_type": "code",
   "execution_count": null,
   "metadata": {},
   "outputs": [],
   "source": []
  },
  {
   "cell_type": "code",
   "execution_count": 14,
   "metadata": {},
   "outputs": [
    {
     "name": "stdout",
     "output_type": "stream",
     "text": [
      "time: 0 ns (started: 2021-12-20 18:14:07 -06:00)\n"
     ]
    }
   ],
   "source": [
    "bought_in_2021sample.to_csv(\"SoldandturnedAirBnB.csv\", sep=',', index=False, header=True)"
   ]
  },
  {
   "cell_type": "code",
   "execution_count": null,
   "metadata": {},
   "outputs": [],
   "source": []
  }
 ],
 "metadata": {
  "kernelspec": {
   "display_name": "Python 3 (ipykernel)",
   "language": "python",
   "name": "python3"
  },
  "language_info": {
   "codemirror_mode": {
    "name": "ipython",
    "version": 3
   },
   "file_extension": ".py",
   "mimetype": "text/x-python",
   "name": "python",
   "nbconvert_exporter": "python",
   "pygments_lexer": "ipython3",
   "version": "3.8.5"
  }
 },
 "nbformat": 4,
 "nbformat_minor": 4
}
