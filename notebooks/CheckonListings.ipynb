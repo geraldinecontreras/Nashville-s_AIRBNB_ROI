{
 "cells": [
  {
   "cell_type": "code",
   "execution_count": 1,
   "metadata": {},
   "outputs": [
    {
     "name": "stdout",
     "output_type": "stream",
     "text": [
      "Populating the interactive namespace from numpy and matplotlib\n",
      "time: 1.86 s (started: 2021-12-16 20:31:11 -06:00)\n"
     ]
    }
   ],
   "source": [
    "%matplotlib inline\n",
    "%pylab inline\n",
    "%load_ext autotime\n",
    "\n",
    "import pandas as pd\n",
    "import numpy as np\n",
    "import matplotlib.pyplot as plt\n",
    "import plotly.graph_objs as go\n",
    "import seaborn as sns\n",
    "import os\n",
    "import glob\n",
    "import geopandas as gpd\n",
    "import geopy\n",
    "import plotly_express as px\n",
    "import tqdm\n",
    "\n",
    "from graphics import Point\n",
    "from functools import reduce\n",
    "from datetime import date\n",
    "from datetime import datetime\n",
    "from geopy.geocoders import Nominatim\n",
    "from geopy.extra.rate_limiter import RateLimiter\n",
    "from tqdm.notebook import tqdm_notebook"
   ]
  },
  {
   "cell_type": "code",
   "execution_count": 2,
   "metadata": {},
   "outputs": [
    {
     "name": "stdout",
     "output_type": "stream",
     "text": [
      "time: 16 ms (started: 2021-12-16 20:31:13 -06:00)\n"
     ]
    }
   ],
   "source": [
    "from geopy.geocoders import Photon\n",
    "geolocator = Photon(user_agent=\"measurements\")"
   ]
  },
  {
   "cell_type": "code",
   "execution_count": null,
   "metadata": {},
   "outputs": [],
   "source": [
    "feblistings = pd.read_csv('../data/feb2021listings.csv')\n",
    "feblistings.shape"
   ]
  },
  {
   "cell_type": "code",
   "execution_count": null,
   "metadata": {},
   "outputs": [],
   "source": [
    "feblistings.info()"
   ]
  },
  {
   "cell_type": "code",
   "execution_count": null,
   "metadata": {},
   "outputs": [],
   "source": [
    "feblistings = feblistings.drop(['neighbourhood'], axis=1)"
   ]
  },
  {
   "cell_type": "code",
   "execution_count": null,
   "metadata": {},
   "outputs": [],
   "source": [
    "feblistings.dropna(how='all', axis=1, inplace=True)"
   ]
  },
  {
   "cell_type": "code",
   "execution_count": null,
   "metadata": {},
   "outputs": [],
   "source": [
    "feblistings.head()"
   ]
  },
  {
   "cell_type": "code",
   "execution_count": null,
   "metadata": {},
   "outputs": [],
   "source": [
    "feblistings['latitude'].value_counts()"
   ]
  },
  {
   "cell_type": "code",
   "execution_count": null,
   "metadata": {},
   "outputs": [],
   "source": [
    "feblistings['longitude'].value_counts()"
   ]
  },
  {
   "cell_type": "code",
   "execution_count": null,
   "metadata": {},
   "outputs": [],
   "source": [
    "feblistings = pd.read_csv('../data/feb2021listings.csv')\n",
    "feblistings.shape"
   ]
  },
  {
   "cell_type": "code",
   "execution_count": null,
   "metadata": {},
   "outputs": [],
   "source": [
    "#march month not available in data"
   ]
  },
  {
   "cell_type": "code",
   "execution_count": null,
   "metadata": {},
   "outputs": [],
   "source": [
    "Aprillistings = pd.read_csv('../data/April2021listings.csv')\n",
    "Aprillistings.shape"
   ]
  },
  {
   "cell_type": "code",
   "execution_count": null,
   "metadata": {},
   "outputs": [],
   "source": [
    "Aprillistings['longitude'].value_counts()"
   ]
  },
  {
   "cell_type": "code",
   "execution_count": null,
   "metadata": {},
   "outputs": [],
   "source": [
    "Junelistings = pd.read_csv('../data/June2021listings.csv')\n",
    "Junelistings.shape"
   ]
  },
  {
   "cell_type": "code",
   "execution_count": null,
   "metadata": {},
   "outputs": [],
   "source": [
    "Junelistings['longitude'].value_counts()"
   ]
  },
  {
   "cell_type": "code",
   "execution_count": null,
   "metadata": {},
   "outputs": [],
   "source": [
    "Julylistings = pd.read_csv('../data/July2021listings.csv')\n",
    "Julylistings.shape"
   ]
  },
  {
   "cell_type": "code",
   "execution_count": null,
   "metadata": {},
   "outputs": [],
   "source": [
    "Julylistings['longitude'].value_counts()"
   ]
  },
  {
   "cell_type": "code",
   "execution_count": null,
   "metadata": {},
   "outputs": [],
   "source": [
    "Augustlistings = pd.read_csv('../data/August2021listings.csv')\n",
    "Augustlistings.shape"
   ]
  },
  {
   "cell_type": "code",
   "execution_count": null,
   "metadata": {},
   "outputs": [],
   "source": [
    "Augustlistings['longitude'].value_counts()"
   ]
  },
  {
   "cell_type": "code",
   "execution_count": null,
   "metadata": {},
   "outputs": [],
   "source": [
    "Septemberlistings = pd.read_csv('../data/September2021listings.csv')\n",
    "Septemberlistings.shape"
   ]
  },
  {
   "cell_type": "code",
   "execution_count": null,
   "metadata": {},
   "outputs": [],
   "source": [
    "Septemberlistings['longitude'].value_counts()"
   ]
  },
  {
   "cell_type": "code",
   "execution_count": null,
   "metadata": {},
   "outputs": [],
   "source": [
    "Octoberlistings = pd.read_csv('../data/October2021listings.csv')\n",
    "Octoberlistings.shape"
   ]
  },
  {
   "cell_type": "code",
   "execution_count": null,
   "metadata": {},
   "outputs": [],
   "source": [
    "Octoberlistings['longitude'].value_counts()"
   ]
  },
  {
   "cell_type": "code",
   "execution_count": null,
   "metadata": {},
   "outputs": [],
   "source": [
    "Octoberlistings['latitude'].value_counts()"
   ]
  },
  {
   "cell_type": "code",
   "execution_count": null,
   "metadata": {},
   "outputs": [],
   "source": [
    "#i cannot find the nan,nan values in any of the months - maybe it is duplicates from when the information was merged\n",
    "# i will go ahead and drop all nan rows in my data and attempt to convert all addresses again\n",
    "# if that does not work, i will need to convert addresses individually by month"
   ]
  },
  {
   "cell_type": "code",
   "execution_count": 3,
   "metadata": {},
   "outputs": [
    {
     "name": "stdout",
     "output_type": "stream",
     "text": [
      "time: 0 ns (started: 2021-12-16 20:31:25 -06:00)\n"
     ]
    }
   ],
   "source": [
    "all_filenames = [i for i in glob.glob('../data/monthlistings/*.{}'.format('csv'))]"
   ]
  },
  {
   "cell_type": "code",
   "execution_count": 4,
   "metadata": {},
   "outputs": [
    {
     "name": "stdout",
     "output_type": "stream",
     "text": [
      "['../data/monthlistings\\\\April2021listings.csv', '../data/monthlistings\\\\August2021listings.csv', '../data/monthlistings\\\\December2020listings.csv', '../data/monthlistings\\\\feb2021listings.csv', '../data/monthlistings\\\\January2021listings.csv', '../data/monthlistings\\\\July2021listings.csv', '../data/monthlistings\\\\June2021listings.csv', '../data/monthlistings\\\\October2021listings.csv', '../data/monthlistings\\\\September2021listings.csv']\n",
      "time: 0 ns (started: 2021-12-16 20:31:26 -06:00)\n"
     ]
    }
   ],
   "source": [
    "print(all_filenames)"
   ]
  },
  {
   "cell_type": "code",
   "execution_count": 5,
   "metadata": {},
   "outputs": [
    {
     "name": "stdout",
     "output_type": "stream",
     "text": [
      "time: 266 ms (started: 2021-12-16 20:31:28 -06:00)\n"
     ]
    }
   ],
   "source": [
    "combined_months = pd.concat([pd.read_csv(f) for f in all_filenames ])"
   ]
  },
  {
   "cell_type": "code",
   "execution_count": 6,
   "metadata": {},
   "outputs": [
    {
     "data": {
      "text/html": [
       "<div>\n",
       "<style scoped>\n",
       "    .dataframe tbody tr th:only-of-type {\n",
       "        vertical-align: middle;\n",
       "    }\n",
       "\n",
       "    .dataframe tbody tr th {\n",
       "        vertical-align: top;\n",
       "    }\n",
       "\n",
       "    .dataframe thead th {\n",
       "        text-align: right;\n",
       "    }\n",
       "</style>\n",
       "<table border=\"1\" class=\"dataframe\">\n",
       "  <thead>\n",
       "    <tr style=\"text-align: right;\">\n",
       "      <th></th>\n",
       "      <th>id</th>\n",
       "      <th>name</th>\n",
       "      <th>host_id</th>\n",
       "      <th>host_name</th>\n",
       "      <th>neighbourhood_group</th>\n",
       "      <th>neighbourhood</th>\n",
       "      <th>latitude</th>\n",
       "      <th>longitude</th>\n",
       "      <th>room_type</th>\n",
       "      <th>price</th>\n",
       "      <th>minimum_nights</th>\n",
       "      <th>number_of_reviews</th>\n",
       "      <th>last_review</th>\n",
       "      <th>reviews_per_month</th>\n",
       "      <th>calculated_host_listings_count</th>\n",
       "      <th>availability_365</th>\n",
       "      <th>number_of_reviews_ltm</th>\n",
       "      <th>license</th>\n",
       "    </tr>\n",
       "  </thead>\n",
       "  <tbody>\n",
       "    <tr>\n",
       "      <th>0</th>\n",
       "      <td>6422</td>\n",
       "      <td>Nashville Charm</td>\n",
       "      <td>12172</td>\n",
       "      <td>Michele</td>\n",
       "      <td>NaN</td>\n",
       "      <td>District 6</td>\n",
       "      <td>36.17315</td>\n",
       "      <td>-86.73581</td>\n",
       "      <td>Private room</td>\n",
       "      <td>40</td>\n",
       "      <td>30</td>\n",
       "      <td>674</td>\n",
       "      <td>2020-03-03</td>\n",
       "      <td>4.62</td>\n",
       "      <td>1</td>\n",
       "      <td>204</td>\n",
       "      <td>NaN</td>\n",
       "      <td>NaN</td>\n",
       "    </tr>\n",
       "    <tr>\n",
       "      <th>1</th>\n",
       "      <td>25613</td>\n",
       "      <td>Room in Historic East Nashville Craftsman Home</td>\n",
       "      <td>95811</td>\n",
       "      <td>Nell</td>\n",
       "      <td>NaN</td>\n",
       "      <td>District 6</td>\n",
       "      <td>36.17826</td>\n",
       "      <td>-86.74162</td>\n",
       "      <td>Private room</td>\n",
       "      <td>75</td>\n",
       "      <td>2</td>\n",
       "      <td>510</td>\n",
       "      <td>2020-03-14</td>\n",
       "      <td>3.81</td>\n",
       "      <td>1</td>\n",
       "      <td>125</td>\n",
       "      <td>NaN</td>\n",
       "      <td>NaN</td>\n",
       "    </tr>\n",
       "    <tr>\n",
       "      <th>2</th>\n",
       "      <td>39870</td>\n",
       "      <td>Close to Vanderbilt 2</td>\n",
       "      <td>171184</td>\n",
       "      <td>Evelyn</td>\n",
       "      <td>NaN</td>\n",
       "      <td>District 18</td>\n",
       "      <td>36.12523</td>\n",
       "      <td>-86.81278</td>\n",
       "      <td>Private room</td>\n",
       "      <td>60</td>\n",
       "      <td>1</td>\n",
       "      <td>262</td>\n",
       "      <td>2020-10-25</td>\n",
       "      <td>4.68</td>\n",
       "      <td>2</td>\n",
       "      <td>152</td>\n",
       "      <td>NaN</td>\n",
       "      <td>NaN</td>\n",
       "    </tr>\n",
       "    <tr>\n",
       "      <th>3</th>\n",
       "      <td>258817</td>\n",
       "      <td>ButterflyRoom-private bath- open May 16</td>\n",
       "      <td>22296</td>\n",
       "      <td>Diana</td>\n",
       "      <td>NaN</td>\n",
       "      <td>District 12</td>\n",
       "      <td>36.16249</td>\n",
       "      <td>-86.58988</td>\n",
       "      <td>Private room</td>\n",
       "      <td>29</td>\n",
       "      <td>30</td>\n",
       "      <td>96</td>\n",
       "      <td>2019-12-14</td>\n",
       "      <td>0.84</td>\n",
       "      <td>7</td>\n",
       "      <td>343</td>\n",
       "      <td>NaN</td>\n",
       "      <td>NaN</td>\n",
       "    </tr>\n",
       "    <tr>\n",
       "      <th>4</th>\n",
       "      <td>289242</td>\n",
       "      <td>MorningstarHouse, monthly room- open may 1</td>\n",
       "      <td>22296</td>\n",
       "      <td>Diana</td>\n",
       "      <td>NaN</td>\n",
       "      <td>District 12</td>\n",
       "      <td>36.16102</td>\n",
       "      <td>-86.59207</td>\n",
       "      <td>Private room</td>\n",
       "      <td>28</td>\n",
       "      <td>30</td>\n",
       "      <td>76</td>\n",
       "      <td>2019-01-12</td>\n",
       "      <td>0.67</td>\n",
       "      <td>7</td>\n",
       "      <td>357</td>\n",
       "      <td>NaN</td>\n",
       "      <td>NaN</td>\n",
       "    </tr>\n",
       "  </tbody>\n",
       "</table>\n",
       "</div>"
      ],
      "text/plain": [
       "       id                                            name  host_id host_name  \\\n",
       "0    6422                                 Nashville Charm    12172   Michele   \n",
       "1   25613  Room in Historic East Nashville Craftsman Home    95811      Nell   \n",
       "2   39870                           Close to Vanderbilt 2   171184    Evelyn   \n",
       "3  258817         ButterflyRoom-private bath- open May 16    22296     Diana   \n",
       "4  289242      MorningstarHouse, monthly room- open may 1    22296     Diana   \n",
       "\n",
       "   neighbourhood_group neighbourhood  latitude  longitude     room_type  \\\n",
       "0                  NaN    District 6  36.17315  -86.73581  Private room   \n",
       "1                  NaN    District 6  36.17826  -86.74162  Private room   \n",
       "2                  NaN   District 18  36.12523  -86.81278  Private room   \n",
       "3                  NaN   District 12  36.16249  -86.58988  Private room   \n",
       "4                  NaN   District 12  36.16102  -86.59207  Private room   \n",
       "\n",
       "   price  minimum_nights  number_of_reviews last_review  reviews_per_month  \\\n",
       "0     40              30                674  2020-03-03               4.62   \n",
       "1     75               2                510  2020-03-14               3.81   \n",
       "2     60               1                262  2020-10-25               4.68   \n",
       "3     29              30                 96  2019-12-14               0.84   \n",
       "4     28              30                 76  2019-01-12               0.67   \n",
       "\n",
       "   calculated_host_listings_count  availability_365  number_of_reviews_ltm  \\\n",
       "0                               1               204                    NaN   \n",
       "1                               1               125                    NaN   \n",
       "2                               2               152                    NaN   \n",
       "3                               7               343                    NaN   \n",
       "4                               7               357                    NaN   \n",
       "\n",
       "   license  \n",
       "0      NaN  \n",
       "1      NaN  \n",
       "2      NaN  \n",
       "3      NaN  \n",
       "4      NaN  "
      ]
     },
     "execution_count": 6,
     "metadata": {},
     "output_type": "execute_result"
    },
    {
     "name": "stdout",
     "output_type": "stream",
     "text": [
      "time: 31 ms (started: 2021-12-16 20:31:29 -06:00)\n"
     ]
    }
   ],
   "source": [
    "combined_months.head()"
   ]
  },
  {
   "cell_type": "code",
   "execution_count": 7,
   "metadata": {},
   "outputs": [
    {
     "name": "stdout",
     "output_type": "stream",
     "text": [
      "time: 31 ms (started: 2021-12-16 20:31:35 -06:00)\n"
     ]
    }
   ],
   "source": [
    "#drops columns that have only NAN values\n",
    "combined_months.dropna(how='all', axis=1, inplace=True)"
   ]
  },
  {
   "cell_type": "code",
   "execution_count": 8,
   "metadata": {},
   "outputs": [
    {
     "name": "stdout",
     "output_type": "stream",
     "text": [
      "time: 0 ns (started: 2021-12-16 20:31:37 -06:00)\n"
     ]
    }
   ],
   "source": [
    "combined_months = combined_months.drop(['neighbourhood'], axis=1)"
   ]
  },
  {
   "cell_type": "code",
   "execution_count": 9,
   "metadata": {},
   "outputs": [
    {
     "data": {
      "text/plain": [
       "0    36.17315,-86.73581\n",
       "0    36.17315,-86.73581\n",
       "0    36.17315,-86.73581\n",
       "0    36.17315,-86.73581\n",
       "0    36.17315,-86.73581\n",
       "0    36.17315,-86.73581\n",
       "0    36.17315,-86.73581\n",
       "0    36.17315,-86.73581\n",
       "0    36.17315,-86.73581\n",
       "Name: geom, dtype: object"
      ]
     },
     "execution_count": 9,
     "metadata": {},
     "output_type": "execute_result"
    },
    {
     "name": "stdout",
     "output_type": "stream",
     "text": [
      "time: 93 ms (started: 2021-12-16 20:31:41 -06:00)\n"
     ]
    }
   ],
   "source": [
    "combined_months['geom'] = combined_months['latitude'].map(str) + ',' + combined_months['longitude'].map(str)\n",
    "combined_months['geom'][0]"
   ]
  },
  {
   "cell_type": "code",
   "execution_count": 10,
   "metadata": {},
   "outputs": [
    {
     "name": "stdout",
     "output_type": "stream",
     "text": [
      "<class 'pandas.core.frame.DataFrame'>\n",
      "Int64Index: 55268 entries, 0 to 6239\n",
      "Data columns (total 16 columns):\n",
      " #   Column                          Non-Null Count  Dtype  \n",
      "---  ------                          --------------  -----  \n",
      " 0   id                              55268 non-null  int64  \n",
      " 1   name                            55268 non-null  object \n",
      " 2   host_id                         55268 non-null  int64  \n",
      " 3   host_name                       55017 non-null  object \n",
      " 4   latitude                        55268 non-null  float64\n",
      " 5   longitude                       55268 non-null  float64\n",
      " 6   room_type                       55268 non-null  object \n",
      " 7   price                           55268 non-null  int64  \n",
      " 8   minimum_nights                  55268 non-null  int64  \n",
      " 9   number_of_reviews               55268 non-null  int64  \n",
      " 10  last_review                     47985 non-null  object \n",
      " 11  reviews_per_month               47985 non-null  float64\n",
      " 12  calculated_host_listings_count  55268 non-null  int64  \n",
      " 13  availability_365                55268 non-null  int64  \n",
      " 14  number_of_reviews_ltm           18754 non-null  float64\n",
      " 15  geom                            55268 non-null  object \n",
      "dtypes: float64(4), int64(7), object(5)\n",
      "memory usage: 9.2+ MB\n",
      "time: 32 ms (started: 2021-12-16 20:31:43 -06:00)\n"
     ]
    }
   ],
   "source": [
    "combined_months.info()"
   ]
  },
  {
   "cell_type": "code",
   "execution_count": 11,
   "metadata": {},
   "outputs": [
    {
     "data": {
      "text/plain": [
       "0       36.17315,-86.73581\n",
       "1       36.17826,-86.74162\n",
       "2       36.12523,-86.81278\n",
       "3       36.16249,-86.58988\n",
       "4       36.16102,-86.59207\n",
       "               ...        \n",
       "6235    36.15691,-86.81922\n",
       "6236    36.17879,-86.64087\n",
       "6237    36.16347,-86.80429\n",
       "6238    36.20127,-86.75325\n",
       "6239    36.24438,-86.73639\n",
       "Name: geom, Length: 55268, dtype: object"
      ]
     },
     "execution_count": 11,
     "metadata": {},
     "output_type": "execute_result"
    },
    {
     "name": "stdout",
     "output_type": "stream",
     "text": [
      "time: 0 ns (started: 2021-12-16 20:31:50 -06:00)\n"
     ]
    }
   ],
   "source": [
    "combined_months.loc[:,\"geom\"]"
   ]
  },
  {
   "cell_type": "code",
   "execution_count": 12,
   "metadata": {},
   "outputs": [
    {
     "data": {
      "text/html": [
       "<div>\n",
       "<style scoped>\n",
       "    .dataframe tbody tr th:only-of-type {\n",
       "        vertical-align: middle;\n",
       "    }\n",
       "\n",
       "    .dataframe tbody tr th {\n",
       "        vertical-align: top;\n",
       "    }\n",
       "\n",
       "    .dataframe thead th {\n",
       "        text-align: right;\n",
       "    }\n",
       "</style>\n",
       "<table border=\"1\" class=\"dataframe\">\n",
       "  <thead>\n",
       "    <tr style=\"text-align: right;\">\n",
       "      <th></th>\n",
       "      <th>id</th>\n",
       "      <th>name</th>\n",
       "      <th>host_id</th>\n",
       "      <th>host_name</th>\n",
       "      <th>latitude</th>\n",
       "      <th>longitude</th>\n",
       "      <th>room_type</th>\n",
       "      <th>price</th>\n",
       "      <th>minimum_nights</th>\n",
       "      <th>number_of_reviews</th>\n",
       "      <th>last_review</th>\n",
       "      <th>reviews_per_month</th>\n",
       "      <th>calculated_host_listings_count</th>\n",
       "      <th>availability_365</th>\n",
       "      <th>number_of_reviews_ltm</th>\n",
       "      <th>geom</th>\n",
       "    </tr>\n",
       "  </thead>\n",
       "  <tbody>\n",
       "    <tr>\n",
       "      <th>0</th>\n",
       "      <td>6422</td>\n",
       "      <td>Nashville Charm</td>\n",
       "      <td>12172</td>\n",
       "      <td>Michele</td>\n",
       "      <td>36.173150</td>\n",
       "      <td>-86.735810</td>\n",
       "      <td>Private room</td>\n",
       "      <td>40</td>\n",
       "      <td>30</td>\n",
       "      <td>674</td>\n",
       "      <td>2020-03-03</td>\n",
       "      <td>4.62</td>\n",
       "      <td>1</td>\n",
       "      <td>204</td>\n",
       "      <td>NaN</td>\n",
       "      <td>36.17315,-86.73581</td>\n",
       "    </tr>\n",
       "    <tr>\n",
       "      <th>1</th>\n",
       "      <td>25613</td>\n",
       "      <td>Room in Historic East Nashville Craftsman Home</td>\n",
       "      <td>95811</td>\n",
       "      <td>Nell</td>\n",
       "      <td>36.178260</td>\n",
       "      <td>-86.741620</td>\n",
       "      <td>Private room</td>\n",
       "      <td>75</td>\n",
       "      <td>2</td>\n",
       "      <td>510</td>\n",
       "      <td>2020-03-14</td>\n",
       "      <td>3.81</td>\n",
       "      <td>1</td>\n",
       "      <td>125</td>\n",
       "      <td>NaN</td>\n",
       "      <td>36.17826,-86.74162</td>\n",
       "    </tr>\n",
       "    <tr>\n",
       "      <th>2</th>\n",
       "      <td>39870</td>\n",
       "      <td>Close to Vanderbilt 2</td>\n",
       "      <td>171184</td>\n",
       "      <td>Evelyn</td>\n",
       "      <td>36.125230</td>\n",
       "      <td>-86.812780</td>\n",
       "      <td>Private room</td>\n",
       "      <td>60</td>\n",
       "      <td>1</td>\n",
       "      <td>262</td>\n",
       "      <td>2020-10-25</td>\n",
       "      <td>4.68</td>\n",
       "      <td>2</td>\n",
       "      <td>152</td>\n",
       "      <td>NaN</td>\n",
       "      <td>36.12523,-86.81278</td>\n",
       "    </tr>\n",
       "    <tr>\n",
       "      <th>3</th>\n",
       "      <td>258817</td>\n",
       "      <td>ButterflyRoom-private bath- open May 16</td>\n",
       "      <td>22296</td>\n",
       "      <td>Diana</td>\n",
       "      <td>36.162490</td>\n",
       "      <td>-86.589880</td>\n",
       "      <td>Private room</td>\n",
       "      <td>29</td>\n",
       "      <td>30</td>\n",
       "      <td>96</td>\n",
       "      <td>2019-12-14</td>\n",
       "      <td>0.84</td>\n",
       "      <td>7</td>\n",
       "      <td>343</td>\n",
       "      <td>NaN</td>\n",
       "      <td>36.16249,-86.58988</td>\n",
       "    </tr>\n",
       "    <tr>\n",
       "      <th>4</th>\n",
       "      <td>289242</td>\n",
       "      <td>MorningstarHouse, monthly room- open may 1</td>\n",
       "      <td>22296</td>\n",
       "      <td>Diana</td>\n",
       "      <td>36.161020</td>\n",
       "      <td>-86.592070</td>\n",
       "      <td>Private room</td>\n",
       "      <td>28</td>\n",
       "      <td>30</td>\n",
       "      <td>76</td>\n",
       "      <td>2019-01-12</td>\n",
       "      <td>0.67</td>\n",
       "      <td>7</td>\n",
       "      <td>357</td>\n",
       "      <td>NaN</td>\n",
       "      <td>36.16102,-86.59207</td>\n",
       "    </tr>\n",
       "    <tr>\n",
       "      <th>...</th>\n",
       "      <td>...</td>\n",
       "      <td>...</td>\n",
       "      <td>...</td>\n",
       "      <td>...</td>\n",
       "      <td>...</td>\n",
       "      <td>...</td>\n",
       "      <td>...</td>\n",
       "      <td>...</td>\n",
       "      <td>...</td>\n",
       "      <td>...</td>\n",
       "      <td>...</td>\n",
       "      <td>...</td>\n",
       "      <td>...</td>\n",
       "      <td>...</td>\n",
       "      <td>...</td>\n",
       "      <td>...</td>\n",
       "    </tr>\n",
       "    <tr>\n",
       "      <th>6224</th>\n",
       "      <td>52316344</td>\n",
       "      <td>Deluxe Oasis of Comfort | 10min to DT | Pool +...</td>\n",
       "      <td>391537476</td>\n",
       "      <td>Kiesha</td>\n",
       "      <td>36.130227</td>\n",
       "      <td>-86.821282</td>\n",
       "      <td>Entire home/apt</td>\n",
       "      <td>175</td>\n",
       "      <td>3</td>\n",
       "      <td>0</td>\n",
       "      <td>NaN</td>\n",
       "      <td>NaN</td>\n",
       "      <td>1</td>\n",
       "      <td>73</td>\n",
       "      <td>0.0</td>\n",
       "      <td>36.1302269680404,-86.82128215285468</td>\n",
       "    </tr>\n",
       "    <tr>\n",
       "      <th>6225</th>\n",
       "      <td>52317418</td>\n",
       "      <td>A place of your own | 2BR in Nashville</td>\n",
       "      <td>368944610</td>\n",
       "      <td>Carolyn</td>\n",
       "      <td>36.077250</td>\n",
       "      <td>-86.723540</td>\n",
       "      <td>Entire home/apt</td>\n",
       "      <td>206</td>\n",
       "      <td>90</td>\n",
       "      <td>0</td>\n",
       "      <td>NaN</td>\n",
       "      <td>NaN</td>\n",
       "      <td>126</td>\n",
       "      <td>365</td>\n",
       "      <td>0.0</td>\n",
       "      <td>36.07725,-86.72354</td>\n",
       "    </tr>\n",
       "    <tr>\n",
       "      <th>6228</th>\n",
       "      <td>52317744</td>\n",
       "      <td>Stylish One Bedroom in an Amenity packed build...</td>\n",
       "      <td>391945218</td>\n",
       "      <td>Matt</td>\n",
       "      <td>36.158980</td>\n",
       "      <td>-86.774940</td>\n",
       "      <td>Entire home/apt</td>\n",
       "      <td>274</td>\n",
       "      <td>30</td>\n",
       "      <td>0</td>\n",
       "      <td>NaN</td>\n",
       "      <td>NaN</td>\n",
       "      <td>13</td>\n",
       "      <td>51</td>\n",
       "      <td>0.0</td>\n",
       "      <td>36.15898,-86.77494</td>\n",
       "    </tr>\n",
       "    <tr>\n",
       "      <th>6233</th>\n",
       "      <td>52329163</td>\n",
       "      <td>Landing | Modern Apartment with Amazing Amenit...</td>\n",
       "      <td>263502162</td>\n",
       "      <td>Landing</td>\n",
       "      <td>36.163470</td>\n",
       "      <td>-86.595230</td>\n",
       "      <td>Entire home/apt</td>\n",
       "      <td>122</td>\n",
       "      <td>30</td>\n",
       "      <td>0</td>\n",
       "      <td>NaN</td>\n",
       "      <td>NaN</td>\n",
       "      <td>5</td>\n",
       "      <td>338</td>\n",
       "      <td>0.0</td>\n",
       "      <td>36.16347,-86.59523</td>\n",
       "    </tr>\n",
       "    <tr>\n",
       "      <th>6234</th>\n",
       "      <td>52330387</td>\n",
       "      <td>Brilliant apartment home | 1BR in Nashville</td>\n",
       "      <td>368944610</td>\n",
       "      <td>Carolyn</td>\n",
       "      <td>36.057291</td>\n",
       "      <td>-86.746976</td>\n",
       "      <td>Entire home/apt</td>\n",
       "      <td>183</td>\n",
       "      <td>90</td>\n",
       "      <td>0</td>\n",
       "      <td>NaN</td>\n",
       "      <td>NaN</td>\n",
       "      <td>126</td>\n",
       "      <td>365</td>\n",
       "      <td>0.0</td>\n",
       "      <td>36.05729142832006,-86.74697566924686</td>\n",
       "    </tr>\n",
       "  </tbody>\n",
       "</table>\n",
       "<p>8696 rows × 16 columns</p>\n",
       "</div>"
      ],
      "text/plain": [
       "            id                                               name    host_id  \\\n",
       "0         6422                                    Nashville Charm      12172   \n",
       "1        25613     Room in Historic East Nashville Craftsman Home      95811   \n",
       "2        39870                              Close to Vanderbilt 2     171184   \n",
       "3       258817            ButterflyRoom-private bath- open May 16      22296   \n",
       "4       289242         MorningstarHouse, monthly room- open may 1      22296   \n",
       "...        ...                                                ...        ...   \n",
       "6224  52316344  Deluxe Oasis of Comfort | 10min to DT | Pool +...  391537476   \n",
       "6225  52317418             A place of your own | 2BR in Nashville  368944610   \n",
       "6228  52317744  Stylish One Bedroom in an Amenity packed build...  391945218   \n",
       "6233  52329163  Landing | Modern Apartment with Amazing Amenit...  263502162   \n",
       "6234  52330387        Brilliant apartment home | 1BR in Nashville  368944610   \n",
       "\n",
       "     host_name   latitude  longitude        room_type  price  minimum_nights  \\\n",
       "0      Michele  36.173150 -86.735810     Private room     40              30   \n",
       "1         Nell  36.178260 -86.741620     Private room     75               2   \n",
       "2       Evelyn  36.125230 -86.812780     Private room     60               1   \n",
       "3        Diana  36.162490 -86.589880     Private room     29              30   \n",
       "4        Diana  36.161020 -86.592070     Private room     28              30   \n",
       "...        ...        ...        ...              ...    ...             ...   \n",
       "6224    Kiesha  36.130227 -86.821282  Entire home/apt    175               3   \n",
       "6225   Carolyn  36.077250 -86.723540  Entire home/apt    206              90   \n",
       "6228      Matt  36.158980 -86.774940  Entire home/apt    274              30   \n",
       "6233   Landing  36.163470 -86.595230  Entire home/apt    122              30   \n",
       "6234   Carolyn  36.057291 -86.746976  Entire home/apt    183              90   \n",
       "\n",
       "      number_of_reviews last_review  reviews_per_month  \\\n",
       "0                   674  2020-03-03               4.62   \n",
       "1                   510  2020-03-14               3.81   \n",
       "2                   262  2020-10-25               4.68   \n",
       "3                    96  2019-12-14               0.84   \n",
       "4                    76  2019-01-12               0.67   \n",
       "...                 ...         ...                ...   \n",
       "6224                  0         NaN                NaN   \n",
       "6225                  0         NaN                NaN   \n",
       "6228                  0         NaN                NaN   \n",
       "6233                  0         NaN                NaN   \n",
       "6234                  0         NaN                NaN   \n",
       "\n",
       "      calculated_host_listings_count  availability_365  number_of_reviews_ltm  \\\n",
       "0                                  1               204                    NaN   \n",
       "1                                  1               125                    NaN   \n",
       "2                                  2               152                    NaN   \n",
       "3                                  7               343                    NaN   \n",
       "4                                  7               357                    NaN   \n",
       "...                              ...               ...                    ...   \n",
       "6224                               1                73                    0.0   \n",
       "6225                             126               365                    0.0   \n",
       "6228                              13                51                    0.0   \n",
       "6233                               5               338                    0.0   \n",
       "6234                             126               365                    0.0   \n",
       "\n",
       "                                      geom  \n",
       "0                       36.17315,-86.73581  \n",
       "1                       36.17826,-86.74162  \n",
       "2                       36.12523,-86.81278  \n",
       "3                       36.16249,-86.58988  \n",
       "4                       36.16102,-86.59207  \n",
       "...                                    ...  \n",
       "6224   36.1302269680404,-86.82128215285468  \n",
       "6225                    36.07725,-86.72354  \n",
       "6228                    36.15898,-86.77494  \n",
       "6233                    36.16347,-86.59523  \n",
       "6234  36.05729142832006,-86.74697566924686  \n",
       "\n",
       "[8696 rows x 16 columns]"
      ]
     },
     "execution_count": 12,
     "metadata": {},
     "output_type": "execute_result"
    },
    {
     "name": "stdout",
     "output_type": "stream",
     "text": [
      "time: 62 ms (started: 2021-12-16 20:33:57 -06:00)\n"
     ]
    }
   ],
   "source": [
    "#drop duplicates \n",
    "combined_months.drop_duplicates(subset=['geom'], keep='first')"
   ]
  },
  {
   "cell_type": "code",
   "execution_count": null,
   "metadata": {},
   "outputs": [],
   "source": []
  },
  {
   "cell_type": "code",
   "execution_count": null,
   "metadata": {},
   "outputs": [],
   "source": []
  },
  {
   "cell_type": "code",
   "execution_count": null,
   "metadata": {},
   "outputs": [],
   "source": []
  },
  {
   "cell_type": "code",
   "execution_count": null,
   "metadata": {},
   "outputs": [],
   "source": [
    "api_key = "
   ]
  },
  {
   "cell_type": "code",
   "execution_count": null,
   "metadata": {},
   "outputs": [],
   "source": []
  },
  {
   "cell_type": "code",
   "execution_count": null,
   "metadata": {},
   "outputs": [],
   "source": [
    "geolocator = GoogleV3(api_key=google_key)"
   ]
  },
  {
   "cell_type": "code",
   "execution_count": null,
   "metadata": {},
   "outputs": [],
   "source": []
  },
  {
   "cell_type": "code",
   "execution_count": null,
   "metadata": {},
   "outputs": [],
   "source": [
    "locator = Nominatim(user_agent='myGeocoder', timeout=10)\n",
    "rgeocode = RateLimiter(locator.reverse, min_delay_seconds=0.1)"
   ]
  },
  {
   "cell_type": "code",
   "execution_count": null,
   "metadata": {},
   "outputs": [],
   "source": [
    "from tqdm._tqdm_notebook import tqdm_notebook"
   ]
  },
  {
   "cell_type": "code",
   "execution_count": null,
   "metadata": {},
   "outputs": [],
   "source": [
    "tqdm_notebook.pandas()"
   ]
  },
  {
   "cell_type": "code",
   "execution_count": null,
   "metadata": {},
   "outputs": [],
   "source": [
    "combined_months['address'] = combined_months['geom'].progress_apply(rgeocode)\n",
    "combined_months.head()"
   ]
  },
  {
   "cell_type": "code",
   "execution_count": null,
   "metadata": {},
   "outputs": [],
   "source": []
  },
  {
   "cell_type": "code",
   "execution_count": null,
   "metadata": {},
   "outputs": [],
   "source": []
  },
  {
   "cell_type": "code",
   "execution_count": null,
   "metadata": {},
   "outputs": [],
   "source": []
  }
 ],
 "metadata": {
  "kernelspec": {
   "display_name": "Python 3 (ipykernel)",
   "language": "python",
   "name": "python3"
  },
  "language_info": {
   "codemirror_mode": {
    "name": "ipython",
    "version": 3
   },
   "file_extension": ".py",
   "mimetype": "text/x-python",
   "name": "python",
   "nbconvert_exporter": "python",
   "pygments_lexer": "ipython3",
   "version": "3.8.5"
  }
 },
 "nbformat": 4,
 "nbformat_minor": 4
}
