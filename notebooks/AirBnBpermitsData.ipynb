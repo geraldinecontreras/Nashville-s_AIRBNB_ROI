{
 "cells": [
  {
   "cell_type": "code",
   "execution_count": 1,
   "id": "6ede6c3e",
   "metadata": {},
   "outputs": [
    {
     "name": "stdout",
     "output_type": "stream",
     "text": [
      "Populating the interactive namespace from numpy and matplotlib\n",
      "time: 1.59 s (started: 2021-12-20 18:15:02 -06:00)\n"
     ]
    }
   ],
   "source": [
    "%matplotlib inline\n",
    "%pylab inline\n",
    "%load_ext autotime\n",
    "\n",
    "import pandas as pd\n",
    "import numpy as np\n",
    "import matplotlib.pyplot as plt\n",
    "import plotly.graph_objs as go\n",
    "import seaborn as sns\n",
    "import os\n",
    "import glob\n",
    "import geopandas as gpd\n",
    "import geopy\n",
    "import plotly_express as px\n",
    "import tqdm\n",
    "import pickle\n",
    "\n",
    "from graphics import Point\n",
    "from functools import reduce\n",
    "from datetime import date\n",
    "from datetime import datetime\n",
    "from geopy.geocoders import Nominatim\n",
    "from geopy.extra.rate_limiter import RateLimiter\n",
    "from tqdm.notebook import tqdm_notebook\n",
    "\n",
    "\n",
    "#from dtale.views import startup\n",
    "#import dtale\n",
    "#import pyplot as plt\n",
    "# os and glob help concat multiple csv files into one"
   ]
  },
  {
   "cell_type": "code",
   "execution_count": 3,
   "id": "09c1ac83",
   "metadata": {},
   "outputs": [
    {
     "name": "stdout",
     "output_type": "stream",
     "text": [
      "time: 141 ms (started: 2021-12-20 18:15:56 -06:00)\n"
     ]
    }
   ],
   "source": [
    "AirBnBPermits = pd.read_csv('../data/Residential_Short_Term_Rental_Permits.csv')"
   ]
  },
  {
   "cell_type": "code",
   "execution_count": 4,
   "id": "f934d5b9",
   "metadata": {},
   "outputs": [
    {
     "name": "stdout",
     "output_type": "stream",
     "text": [
      "<class 'pandas.core.frame.DataFrame'>\n",
      "RangeIndex: 11876 entries, 0 to 11875\n",
      "Data columns (total 35 columns):\n",
      " #   Column                      Non-Null Count  Dtype  \n",
      "---  ------                      --------------  -----  \n",
      " 0   Permit #                    11876 non-null  object \n",
      " 1   Applicant                   11873 non-null  object \n",
      " 2   Applicant Home Phone        75 non-null     object \n",
      " 3   Applicant Mobile Phone      6474 non-null   object \n",
      " 4   Applicant Work Phone        2026 non-null   object \n",
      " 5   Applicant Work Phone Ext.   2 non-null      object \n",
      " 6   Contact                     11473 non-null  object \n",
      " 7   Contact Home Phone          384 non-null    object \n",
      " 8   Contact Mobile Phone        6550 non-null   object \n",
      " 9   Contact Work Phone          4902 non-null   object \n",
      " 10  Contact Work Phone Ext.     2 non-null      object \n",
      " 11  Permit Subtype Description  11876 non-null  object \n",
      " 12  Permit Status               11876 non-null  object \n",
      " 13  Parcel                      11876 non-null  object \n",
      " 14  Date Entered                11876 non-null  object \n",
      " 15  Date Issued                 10541 non-null  object \n",
      " 16  Expiration Date             11872 non-null  object \n",
      " 17  Address                     11876 non-null  object \n",
      " 18  City                        11875 non-null  object \n",
      " 19  State                       11875 non-null  object \n",
      " 20  ZIP                         11876 non-null  int64  \n",
      " 21  Subdivision / Lot           11874 non-null  object \n",
      " 22  Purpose                     11789 non-null  object \n",
      " 23  Permit Owner Name           11869 non-null  object \n",
      " 24  Permit Owner Addr. 1        2410 non-null   object \n",
      " 25  Permit Owner Addr. 2        11194 non-null  object \n",
      " 26  Permit Owner Addr. 3        60 non-null     object \n",
      " 27  Permit Owner City           11824 non-null  object \n",
      " 28  Permit Owner State          11807 non-null  object \n",
      " 29  Permit Owner ZIP            11831 non-null  object \n",
      " 30  Permit Type                 11876 non-null  object \n",
      " 31  Permit Subtype              11876 non-null  object \n",
      " 32  Council District            11869 non-null  float64\n",
      " 33  Census Tract                11876 non-null  int64  \n",
      " 34  Mapped Location             11876 non-null  object \n",
      "dtypes: float64(1), int64(2), object(32)\n",
      "memory usage: 3.2+ MB\n",
      "time: 16 ms (started: 2021-12-20 18:16:02 -06:00)\n"
     ]
    }
   ],
   "source": [
    "AirBnBPermits.info()"
   ]
  },
  {
   "cell_type": "code",
   "execution_count": 5,
   "id": "1a0b2093",
   "metadata": {},
   "outputs": [
    {
     "name": "stdout",
     "output_type": "stream",
     "text": [
      "time: 15 ms (started: 2021-12-20 18:16:52 -06:00)\n"
     ]
    }
   ],
   "source": [
    "#drops columns that have only NAN values\n",
    "AirBnBPermits.dropna(how='all', axis=1, inplace=True)"
   ]
  },
  {
   "cell_type": "code",
   "execution_count": 6,
   "id": "f8256b3a",
   "metadata": {},
   "outputs": [
    {
     "data": {
      "text/plain": [
       "['Permit #',\n",
       " 'Applicant',\n",
       " 'Applicant Home Phone',\n",
       " 'Applicant Mobile Phone',\n",
       " 'Applicant Work Phone',\n",
       " 'Applicant Work Phone Ext.',\n",
       " 'Contact',\n",
       " 'Contact Home Phone',\n",
       " 'Contact Mobile Phone',\n",
       " 'Contact Work Phone',\n",
       " 'Contact Work Phone Ext.',\n",
       " 'Permit Subtype Description',\n",
       " 'Permit Status',\n",
       " 'Parcel',\n",
       " 'Date Entered',\n",
       " 'Date Issued',\n",
       " 'Expiration Date',\n",
       " 'Address',\n",
       " 'City',\n",
       " 'State',\n",
       " 'ZIP',\n",
       " 'Subdivision / Lot',\n",
       " 'Purpose',\n",
       " 'Permit Owner Name',\n",
       " 'Permit Owner Addr. 1',\n",
       " 'Permit Owner Addr. 2',\n",
       " 'Permit Owner Addr. 3',\n",
       " 'Permit Owner City',\n",
       " 'Permit Owner State',\n",
       " 'Permit Owner ZIP',\n",
       " 'Permit Type',\n",
       " 'Permit Subtype',\n",
       " 'Council District',\n",
       " 'Census Tract',\n",
       " 'Mapped Location']"
      ]
     },
     "execution_count": 6,
     "metadata": {},
     "output_type": "execute_result"
    },
    {
     "name": "stdout",
     "output_type": "stream",
     "text": [
      "time: 0 ns (started: 2021-12-20 18:21:10 -06:00)\n"
     ]
    }
   ],
   "source": [
    "# easy access to be able to drop columns (copy/paste)\n",
    "list(AirBnBPermits.columns)"
   ]
  },
  {
   "cell_type": "code",
   "execution_count": 10,
   "id": "1e56ba8a",
   "metadata": {},
   "outputs": [
    {
     "name": "stdout",
     "output_type": "stream",
     "text": [
      "time: 15 ms (started: 2021-12-20 18:26:03 -06:00)\n"
     ]
    }
   ],
   "source": [
    "#dropped all trash columns \n",
    "AirBnBPermits = AirBnBPermits.drop(['Applicant Home Phone', 'Applicant Mobile Phone', 'Applicant Work Phone', 'Applicant Work Phone Ext.', 'Contact', 'Contact Home Phone', 'Contact Mobile Phone', 'Contact Work Phone', 'Applicant Work Phone Ext.', 'Contact', 'Contact Home Phone','Contact Mobile Phone', 'Contact Work Phone', 'Contact Work Phone Ext.', 'Permit Owner Name',  'Permit Owner Addr. 1', 'Permit Owner Addr. 2', 'Permit Owner Addr. 3', 'Permit Owner City', 'Permit Owner State', 'Permit Owner ZIP', 'Census Tract'], axis=1)"
   ]
  },
  {
   "cell_type": "code",
   "execution_count": 15,
   "id": "ce367f6f",
   "metadata": {},
   "outputs": [
    {
     "data": {
      "text/html": [
       "<div>\n",
       "<style scoped>\n",
       "    .dataframe tbody tr th:only-of-type {\n",
       "        vertical-align: middle;\n",
       "    }\n",
       "\n",
       "    .dataframe tbody tr th {\n",
       "        vertical-align: top;\n",
       "    }\n",
       "\n",
       "    .dataframe thead th {\n",
       "        text-align: right;\n",
       "    }\n",
       "</style>\n",
       "<table border=\"1\" class=\"dataframe\">\n",
       "  <thead>\n",
       "    <tr style=\"text-align: right;\">\n",
       "      <th></th>\n",
       "      <th>Permit #</th>\n",
       "      <th>Applicant</th>\n",
       "      <th>Permit Subtype Description</th>\n",
       "      <th>Permit Status</th>\n",
       "      <th>Parcel</th>\n",
       "      <th>Date Entered</th>\n",
       "      <th>Date Issued</th>\n",
       "      <th>Expiration Date</th>\n",
       "      <th>Address</th>\n",
       "      <th>City</th>\n",
       "      <th>State</th>\n",
       "      <th>ZIP</th>\n",
       "      <th>Subdivision / Lot</th>\n",
       "      <th>Purpose</th>\n",
       "      <th>Permit Type</th>\n",
       "      <th>Permit Subtype</th>\n",
       "      <th>Council District</th>\n",
       "      <th>Mapped Location</th>\n",
       "    </tr>\n",
       "  </thead>\n",
       "  <tbody>\n",
       "    <tr>\n",
       "      <th>0</th>\n",
       "      <td>2016028278</td>\n",
       "      <td>john briggs</td>\n",
       "      <td>Short Term Rental - Non-Owner Occupied</td>\n",
       "      <td>EXPIRED</td>\n",
       "      <td>13011010400</td>\n",
       "      <td>06/13/2016 12:00:00 AM</td>\n",
       "      <td>2016-08-25</td>\n",
       "      <td>08/25/2020 12:00:00 AM</td>\n",
       "      <td>4517  BEACON DR</td>\n",
       "      <td>NASHVILLE</td>\n",
       "      <td>TN</td>\n",
       "      <td>37215</td>\n",
       "      <td>PT LOT 7 BLK S SEC 4 TYNE MEADE</td>\n",
       "      <td>By making this application for a Residential S...</td>\n",
       "      <td>CASR</td>\n",
       "      <td>CAZ10A002</td>\n",
       "      <td>34.0</td>\n",
       "      <td>4517 BEACON DR\\nNASHVILLE, TN 37215\\n(36.08734...</td>\n",
       "    </tr>\n",
       "    <tr>\n",
       "      <th>1</th>\n",
       "      <td>2018070986</td>\n",
       "      <td>EVI Holdings, LLC</td>\n",
       "      <td>Short Term Rental � Multifamily</td>\n",
       "      <td>ISSUED</td>\n",
       "      <td>10404023000</td>\n",
       "      <td>11/08/2018 12:00:00 AM</td>\n",
       "      <td>2019-01-09</td>\n",
       "      <td>01/09/2022 12:00:00 AM</td>\n",
       "      <td>1208  16TH AVE S 6</td>\n",
       "      <td>NASHVILLE</td>\n",
       "      <td>TN</td>\n",
       "      <td>37212</td>\n",
       "      <td>PT LOT 24 HAYES ROKEBY PLAN</td>\n",
       "      <td>By making this application for Short Term Rent...</td>\n",
       "      <td>CASR</td>\n",
       "      <td>CAZ10A003</td>\n",
       "      <td>17.0</td>\n",
       "      <td>1208 16TH AVE S 6\\nNASHVILLE, TN 37212\\n(36.14...</td>\n",
       "    </tr>\n",
       "    <tr>\n",
       "      <th>2</th>\n",
       "      <td>2019036294</td>\n",
       "      <td>Kenneth Greenberg</td>\n",
       "      <td>Short Term Rental � Multifamily</td>\n",
       "      <td>CANCELLED</td>\n",
       "      <td>072050F00300CO</td>\n",
       "      <td>06/19/2019 12:00:00 AM</td>\n",
       "      <td>2019-06-26</td>\n",
       "      <td>06/26/2021 12:00:00 AM</td>\n",
       "      <td>1027 E TRINITY LN  3</td>\n",
       "      <td>NASHVILLE</td>\n",
       "      <td>TN</td>\n",
       "      <td>37216</td>\n",
       "      <td>UNIT 3 TRINITY LANE TOWNHOMES</td>\n",
       "      <td>By making this application for a Residential S...</td>\n",
       "      <td>CASR</td>\n",
       "      <td>CAZ10A003</td>\n",
       "      <td>5.0</td>\n",
       "      <td>1027 E TRINITY LN 3\\nNASHVILLE, TN 37216\\n(36....</td>\n",
       "    </tr>\n",
       "    <tr>\n",
       "      <th>3</th>\n",
       "      <td>2018074155</td>\n",
       "      <td>Niido Nashville, LLC</td>\n",
       "      <td>Short Term Rental � Multifamily</td>\n",
       "      <td>ISSUED</td>\n",
       "      <td>09310023500</td>\n",
       "      <td>11/27/2018 12:00:00 AM</td>\n",
       "      <td>2018-12-26</td>\n",
       "      <td>12/26/2022 12:00:00 AM</td>\n",
       "      <td>501  REP JOHN LEWIS WAY S 507</td>\n",
       "      <td>NASHVILLE</td>\n",
       "      <td>TN</td>\n",
       "      <td>37203</td>\n",
       "      <td>LOTS 20-25 &amp; PT LOT 19  BARROW GROVE</td>\n",
       "      <td>By making this application for Short Term Rent...</td>\n",
       "      <td>CASR</td>\n",
       "      <td>CAZ10A003</td>\n",
       "      <td>19.0</td>\n",
       "      <td>501 REP JOHN LEWIS WAY S 507\\nNASHVILLE, TN 37203</td>\n",
       "    </tr>\n",
       "    <tr>\n",
       "      <th>4</th>\n",
       "      <td>201514398</td>\n",
       "      <td>Smallman, William</td>\n",
       "      <td>Short Term Rental - Non-Owner Occupied</td>\n",
       "      <td>EXPIRED</td>\n",
       "      <td>10511016200</td>\n",
       "      <td>04/16/2015 12:00:00 AM</td>\n",
       "      <td>2015-04-16</td>\n",
       "      <td>04/16/2021 12:00:00 AM</td>\n",
       "      <td>1801  NEAL TER</td>\n",
       "      <td>NASHVILLE</td>\n",
       "      <td>TN</td>\n",
       "      <td>37203</td>\n",
       "      <td>LOT 9 BLK A S M NEAL</td>\n",
       "      <td>By making this application for a Residential S...</td>\n",
       "      <td>CASR</td>\n",
       "      <td>CAZ10A002</td>\n",
       "      <td>17.0</td>\n",
       "      <td>1801 NEAL TER\\nNASHVILLE, TN 37203\\n(36.13453,...</td>\n",
       "    </tr>\n",
       "  </tbody>\n",
       "</table>\n",
       "</div>"
      ],
      "text/plain": [
       "     Permit #             Applicant              Permit Subtype Description  \\\n",
       "0  2016028278           john briggs  Short Term Rental - Non-Owner Occupied   \n",
       "1  2018070986     EVI Holdings, LLC         Short Term Rental � Multifamily   \n",
       "2  2019036294     Kenneth Greenberg         Short Term Rental � Multifamily   \n",
       "3  2018074155  Niido Nashville, LLC         Short Term Rental � Multifamily   \n",
       "4   201514398     Smallman, William  Short Term Rental - Non-Owner Occupied   \n",
       "\n",
       "  Permit Status          Parcel            Date Entered Date Issued  \\\n",
       "0       EXPIRED     13011010400  06/13/2016 12:00:00 AM  2016-08-25   \n",
       "1        ISSUED     10404023000  11/08/2018 12:00:00 AM  2019-01-09   \n",
       "2     CANCELLED  072050F00300CO  06/19/2019 12:00:00 AM  2019-06-26   \n",
       "3        ISSUED     09310023500  11/27/2018 12:00:00 AM  2018-12-26   \n",
       "4       EXPIRED     10511016200  04/16/2015 12:00:00 AM  2015-04-16   \n",
       "\n",
       "          Expiration Date                        Address       City State  \\\n",
       "0  08/25/2020 12:00:00 AM                4517  BEACON DR  NASHVILLE    TN   \n",
       "1  01/09/2022 12:00:00 AM             1208  16TH AVE S 6  NASHVILLE    TN   \n",
       "2  06/26/2021 12:00:00 AM           1027 E TRINITY LN  3  NASHVILLE    TN   \n",
       "3  12/26/2022 12:00:00 AM  501  REP JOHN LEWIS WAY S 507  NASHVILLE    TN   \n",
       "4  04/16/2021 12:00:00 AM                 1801  NEAL TER  NASHVILLE    TN   \n",
       "\n",
       "     ZIP                     Subdivision / Lot  \\\n",
       "0  37215       PT LOT 7 BLK S SEC 4 TYNE MEADE   \n",
       "1  37212           PT LOT 24 HAYES ROKEBY PLAN   \n",
       "2  37216         UNIT 3 TRINITY LANE TOWNHOMES   \n",
       "3  37203  LOTS 20-25 & PT LOT 19  BARROW GROVE   \n",
       "4  37203                  LOT 9 BLK A S M NEAL   \n",
       "\n",
       "                                             Purpose Permit Type  \\\n",
       "0  By making this application for a Residential S...        CASR   \n",
       "1  By making this application for Short Term Rent...        CASR   \n",
       "2  By making this application for a Residential S...        CASR   \n",
       "3  By making this application for Short Term Rent...        CASR   \n",
       "4  By making this application for a Residential S...        CASR   \n",
       "\n",
       "  Permit Subtype  Council District  \\\n",
       "0      CAZ10A002              34.0   \n",
       "1      CAZ10A003              17.0   \n",
       "2      CAZ10A003               5.0   \n",
       "3      CAZ10A003              19.0   \n",
       "4      CAZ10A002              17.0   \n",
       "\n",
       "                                     Mapped Location  \n",
       "0  4517 BEACON DR\\nNASHVILLE, TN 37215\\n(36.08734...  \n",
       "1  1208 16TH AVE S 6\\nNASHVILLE, TN 37212\\n(36.14...  \n",
       "2  1027 E TRINITY LN 3\\nNASHVILLE, TN 37216\\n(36....  \n",
       "3  501 REP JOHN LEWIS WAY S 507\\nNASHVILLE, TN 37203  \n",
       "4  1801 NEAL TER\\nNASHVILLE, TN 37203\\n(36.13453,...  "
      ]
     },
     "execution_count": 15,
     "metadata": {},
     "output_type": "execute_result"
    },
    {
     "name": "stdout",
     "output_type": "stream",
     "text": [
      "time: 15 ms (started: 2021-12-20 18:43:23 -06:00)\n"
     ]
    }
   ],
   "source": [
    "AirBnBPermits.head()"
   ]
  },
  {
   "cell_type": "code",
   "execution_count": 13,
   "id": "eb8e10ae",
   "metadata": {},
   "outputs": [
    {
     "name": "stdout",
     "output_type": "stream",
     "text": [
      "time: 203 ms (started: 2021-12-20 18:32:22 -06:00)\n"
     ]
    }
   ],
   "source": [
    "#turn to datetime to isolate only year 2021\n",
    "AirBnBPermits['Date Issued'] = pd.to_datetime(AirBnBPermits['Date Issued'])"
   ]
  },
  {
   "cell_type": "code",
   "execution_count": 14,
   "id": "ab0c5f90",
   "metadata": {},
   "outputs": [
    {
     "name": "stdout",
     "output_type": "stream",
     "text": [
      "<class 'pandas.core.frame.DataFrame'>\n",
      "RangeIndex: 11876 entries, 0 to 11875\n",
      "Data columns (total 18 columns):\n",
      " #   Column                      Non-Null Count  Dtype         \n",
      "---  ------                      --------------  -----         \n",
      " 0   Permit #                    11876 non-null  object        \n",
      " 1   Applicant                   11873 non-null  object        \n",
      " 2   Permit Subtype Description  11876 non-null  object        \n",
      " 3   Permit Status               11876 non-null  object        \n",
      " 4   Parcel                      11876 non-null  object        \n",
      " 5   Date Entered                11876 non-null  object        \n",
      " 6   Date Issued                 10541 non-null  datetime64[ns]\n",
      " 7   Expiration Date             11872 non-null  object        \n",
      " 8   Address                     11876 non-null  object        \n",
      " 9   City                        11875 non-null  object        \n",
      " 10  State                       11875 non-null  object        \n",
      " 11  ZIP                         11876 non-null  int64         \n",
      " 12  Subdivision / Lot           11874 non-null  object        \n",
      " 13  Purpose                     11789 non-null  object        \n",
      " 14  Permit Type                 11876 non-null  object        \n",
      " 15  Permit Subtype              11876 non-null  object        \n",
      " 16  Council District            11869 non-null  float64       \n",
      " 17  Mapped Location             11876 non-null  object        \n",
      "dtypes: datetime64[ns](1), float64(1), int64(1), object(15)\n",
      "memory usage: 1.6+ MB\n",
      "time: 16 ms (started: 2021-12-20 18:32:54 -06:00)\n"
     ]
    }
   ],
   "source": [
    "AirBnBPermits.info()"
   ]
  },
  {
   "cell_type": "code",
   "execution_count": 16,
   "id": "dc8799c1",
   "metadata": {},
   "outputs": [
    {
     "name": "stdout",
     "output_type": "stream",
     "text": [
      "time: 0 ns (started: 2021-12-20 18:48:50 -06:00)\n"
     ]
    }
   ],
   "source": [
    "#example for range in dates\n",
    "#https://www.interviewqs.com/ddi-code-snippets/select-pandas-dataframe-rows-between-two-dates\n",
    "\n",
    "start_date = '01-01-2021' \n",
    "end_date = '12-30-2021'\n",
    "mask = (AirBnBPermits['Date Issued'] > start_date) & (AirBnBPermits['Date Issued'] <= end_date)"
   ]
  },
  {
   "cell_type": "code",
   "execution_count": 17,
   "id": "9b78be7d",
   "metadata": {},
   "outputs": [
    {
     "name": "stdout",
     "output_type": "stream",
     "text": [
      "time: 0 ns (started: 2021-12-20 18:48:51 -06:00)\n"
     ]
    }
   ],
   "source": [
    "#new df\n",
    "AirBnBPermits2021 = AirBnBPermits.loc[mask]"
   ]
  },
  {
   "cell_type": "code",
   "execution_count": 18,
   "id": "af6b1d17",
   "metadata": {},
   "outputs": [
    {
     "data": {
      "text/html": [
       "<div>\n",
       "<style scoped>\n",
       "    .dataframe tbody tr th:only-of-type {\n",
       "        vertical-align: middle;\n",
       "    }\n",
       "\n",
       "    .dataframe tbody tr th {\n",
       "        vertical-align: top;\n",
       "    }\n",
       "\n",
       "    .dataframe thead th {\n",
       "        text-align: right;\n",
       "    }\n",
       "</style>\n",
       "<table border=\"1\" class=\"dataframe\">\n",
       "  <thead>\n",
       "    <tr style=\"text-align: right;\">\n",
       "      <th></th>\n",
       "      <th>Permit #</th>\n",
       "      <th>Applicant</th>\n",
       "      <th>Permit Subtype Description</th>\n",
       "      <th>Permit Status</th>\n",
       "      <th>Parcel</th>\n",
       "      <th>Date Entered</th>\n",
       "      <th>Date Issued</th>\n",
       "      <th>Expiration Date</th>\n",
       "      <th>Address</th>\n",
       "      <th>City</th>\n",
       "      <th>State</th>\n",
       "      <th>ZIP</th>\n",
       "      <th>Subdivision / Lot</th>\n",
       "      <th>Purpose</th>\n",
       "      <th>Permit Type</th>\n",
       "      <th>Permit Subtype</th>\n",
       "      <th>Council District</th>\n",
       "      <th>Mapped Location</th>\n",
       "    </tr>\n",
       "  </thead>\n",
       "  <tbody>\n",
       "    <tr>\n",
       "      <th>51</th>\n",
       "      <td>2021008680</td>\n",
       "      <td>KAMEL, RAAFAT</td>\n",
       "      <td>Short Term Rental � Multifamily</td>\n",
       "      <td>ISSUED</td>\n",
       "      <td>071120E04700CO</td>\n",
       "      <td>02/09/2021 12:00:00 AM</td>\n",
       "      <td>2021-02-19</td>\n",
       "      <td>02/19/2022 12:00:00 AM</td>\n",
       "      <td>1107  HARMONY WAY</td>\n",
       "      <td>NASHVILLE</td>\n",
       "      <td>TN</td>\n",
       "      <td>37207</td>\n",
       "      <td>UNIT 47 LYRIC AT CLEVELAND PARK</td>\n",
       "      <td>By making this application for a Residential S...</td>\n",
       "      <td>CASR</td>\n",
       "      <td>CAZ10A003</td>\n",
       "      <td>5.0</td>\n",
       "      <td>1107 HARMONY WAY\\nNASHVILLE, TN 37207</td>\n",
       "    </tr>\n",
       "    <tr>\n",
       "      <th>54</th>\n",
       "      <td>2021015610</td>\n",
       "      <td>CITY HEIGHTS VIEWS LLC</td>\n",
       "      <td>Short Term Rental � Multifamily</td>\n",
       "      <td>ISSUED</td>\n",
       "      <td>092100N01100CO</td>\n",
       "      <td>03/16/2021 12:00:00 AM</td>\n",
       "      <td>2021-03-26</td>\n",
       "      <td>03/26/2022 12:00:00 AM</td>\n",
       "      <td>2910  FELICIA ST  11</td>\n",
       "      <td>NASHVILLE</td>\n",
       "      <td>TN</td>\n",
       "      <td>37209</td>\n",
       "      <td>UNIT 11 RUDY AT CITY HEIGHTS</td>\n",
       "      <td>By making this application for a Residential S...</td>\n",
       "      <td>CASR</td>\n",
       "      <td>CAZ10A003</td>\n",
       "      <td>21.0</td>\n",
       "      <td>2910 FELICIA ST 11\\nNASHVILLE, TN 37209\\n(36.1...</td>\n",
       "    </tr>\n",
       "    <tr>\n",
       "      <th>69</th>\n",
       "      <td>2020065139</td>\n",
       "      <td>BEUTLER TN INVESTMENTS, LLC</td>\n",
       "      <td>Short Term Rental � Multifamily</td>\n",
       "      <td>ISSUED</td>\n",
       "      <td>092070P00100CO</td>\n",
       "      <td>10/16/2020 12:00:00 AM</td>\n",
       "      <td>2021-02-19</td>\n",
       "      <td>02/19/2022 12:00:00 AM</td>\n",
       "      <td>901  21ST AVE N</td>\n",
       "      <td>NASHVILLE</td>\n",
       "      <td>TN</td>\n",
       "      <td>37208</td>\n",
       "      <td>UNIT 901 RESIDENCES AT 21ST AND HERMAN</td>\n",
       "      <td>By making this application for a Residential S...</td>\n",
       "      <td>CASR</td>\n",
       "      <td>CAZ10A003</td>\n",
       "      <td>21.0</td>\n",
       "      <td>901 21ST AVE N\\nNASHVILLE, TN 37208\\n(36.16291...</td>\n",
       "    </tr>\n",
       "    <tr>\n",
       "      <th>72</th>\n",
       "      <td>2021068672</td>\n",
       "      <td>Grand Welcome Nashville</td>\n",
       "      <td>Short Term Rental � Multifamily</td>\n",
       "      <td>ISSUED</td>\n",
       "      <td>072091C00500CO</td>\n",
       "      <td>10/26/2021 12:00:00 AM</td>\n",
       "      <td>2021-11-02</td>\n",
       "      <td>11/02/2022 12:00:00 AM</td>\n",
       "      <td>844  CHEROKEE AVE  5</td>\n",
       "      <td>NASHVILLE</td>\n",
       "      <td>TN</td>\n",
       "      <td>37207</td>\n",
       "      <td>UNIT 5 TOWNHOMES AT 844</td>\n",
       "      <td>By making this application for a Residential S...</td>\n",
       "      <td>CASR</td>\n",
       "      <td>CAZ10A003</td>\n",
       "      <td>5.0</td>\n",
       "      <td>844 CHEROKEE AVE 5\\nNASHVILLE, TN 37207\\n(36.2...</td>\n",
       "    </tr>\n",
       "    <tr>\n",
       "      <th>75</th>\n",
       "      <td>2020065161</td>\n",
       "      <td>BEUTLER TN INVESTMENTS, LLC</td>\n",
       "      <td>Short Term Rental � Multifamily</td>\n",
       "      <td>ISSUED</td>\n",
       "      <td>092070P00300CO</td>\n",
       "      <td>10/16/2020 12:00:00 AM</td>\n",
       "      <td>2021-02-19</td>\n",
       "      <td>02/19/2022 12:00:00 AM</td>\n",
       "      <td>905  21ST AVE N</td>\n",
       "      <td>NASHVILLE</td>\n",
       "      <td>TN</td>\n",
       "      <td>37208</td>\n",
       "      <td>UNIT 905 RESIDENCES AT 21ST AND HERMAN</td>\n",
       "      <td>By making this application for a Residential S...</td>\n",
       "      <td>CASR</td>\n",
       "      <td>CAZ10A003</td>\n",
       "      <td>21.0</td>\n",
       "      <td>905 21ST AVE N\\nNASHVILLE, TN 37208\\n(36.16295...</td>\n",
       "    </tr>\n",
       "  </tbody>\n",
       "</table>\n",
       "</div>"
      ],
      "text/plain": [
       "      Permit #                    Applicant       Permit Subtype Description  \\\n",
       "51  2021008680                KAMEL, RAAFAT  Short Term Rental � Multifamily   \n",
       "54  2021015610       CITY HEIGHTS VIEWS LLC  Short Term Rental � Multifamily   \n",
       "69  2020065139  BEUTLER TN INVESTMENTS, LLC  Short Term Rental � Multifamily   \n",
       "72  2021068672      Grand Welcome Nashville  Short Term Rental � Multifamily   \n",
       "75  2020065161  BEUTLER TN INVESTMENTS, LLC  Short Term Rental � Multifamily   \n",
       "\n",
       "   Permit Status          Parcel            Date Entered Date Issued  \\\n",
       "51        ISSUED  071120E04700CO  02/09/2021 12:00:00 AM  2021-02-19   \n",
       "54        ISSUED  092100N01100CO  03/16/2021 12:00:00 AM  2021-03-26   \n",
       "69        ISSUED  092070P00100CO  10/16/2020 12:00:00 AM  2021-02-19   \n",
       "72        ISSUED  072091C00500CO  10/26/2021 12:00:00 AM  2021-11-02   \n",
       "75        ISSUED  092070P00300CO  10/16/2020 12:00:00 AM  2021-02-19   \n",
       "\n",
       "           Expiration Date               Address       City State    ZIP  \\\n",
       "51  02/19/2022 12:00:00 AM     1107  HARMONY WAY  NASHVILLE    TN  37207   \n",
       "54  03/26/2022 12:00:00 AM  2910  FELICIA ST  11  NASHVILLE    TN  37209   \n",
       "69  02/19/2022 12:00:00 AM       901  21ST AVE N  NASHVILLE    TN  37208   \n",
       "72  11/02/2022 12:00:00 AM  844  CHEROKEE AVE  5  NASHVILLE    TN  37207   \n",
       "75  02/19/2022 12:00:00 AM       905  21ST AVE N  NASHVILLE    TN  37208   \n",
       "\n",
       "                         Subdivision / Lot  \\\n",
       "51         UNIT 47 LYRIC AT CLEVELAND PARK   \n",
       "54            UNIT 11 RUDY AT CITY HEIGHTS   \n",
       "69  UNIT 901 RESIDENCES AT 21ST AND HERMAN   \n",
       "72                 UNIT 5 TOWNHOMES AT 844   \n",
       "75  UNIT 905 RESIDENCES AT 21ST AND HERMAN   \n",
       "\n",
       "                                              Purpose Permit Type  \\\n",
       "51  By making this application for a Residential S...        CASR   \n",
       "54  By making this application for a Residential S...        CASR   \n",
       "69  By making this application for a Residential S...        CASR   \n",
       "72  By making this application for a Residential S...        CASR   \n",
       "75  By making this application for a Residential S...        CASR   \n",
       "\n",
       "   Permit Subtype  Council District  \\\n",
       "51      CAZ10A003               5.0   \n",
       "54      CAZ10A003              21.0   \n",
       "69      CAZ10A003              21.0   \n",
       "72      CAZ10A003               5.0   \n",
       "75      CAZ10A003              21.0   \n",
       "\n",
       "                                      Mapped Location  \n",
       "51              1107 HARMONY WAY\\nNASHVILLE, TN 37207  \n",
       "54  2910 FELICIA ST 11\\nNASHVILLE, TN 37209\\n(36.1...  \n",
       "69  901 21ST AVE N\\nNASHVILLE, TN 37208\\n(36.16291...  \n",
       "72  844 CHEROKEE AVE 5\\nNASHVILLE, TN 37207\\n(36.2...  \n",
       "75  905 21ST AVE N\\nNASHVILLE, TN 37208\\n(36.16295...  "
      ]
     },
     "execution_count": 18,
     "metadata": {},
     "output_type": "execute_result"
    },
    {
     "name": "stdout",
     "output_type": "stream",
     "text": [
      "time: 16 ms (started: 2021-12-20 18:49:00 -06:00)\n"
     ]
    }
   ],
   "source": [
    "AirBnBPermits2021.head()"
   ]
  },
  {
   "cell_type": "code",
   "execution_count": 19,
   "id": "44273dc7",
   "metadata": {},
   "outputs": [
    {
     "data": {
      "text/plain": [
       "2021-02-25    44\n",
       "2021-09-27    32\n",
       "2021-12-03    26\n",
       "2021-10-11    23\n",
       "2021-12-14    19\n",
       "              ..\n",
       "2021-02-02     1\n",
       "2021-02-10     1\n",
       "2021-10-27     1\n",
       "2021-02-11     1\n",
       "2021-01-27     1\n",
       "Name: Date Issued, Length: 230, dtype: int64"
      ]
     },
     "execution_count": 19,
     "metadata": {},
     "output_type": "execute_result"
    },
    {
     "name": "stdout",
     "output_type": "stream",
     "text": [
      "time: 0 ns (started: 2021-12-20 18:50:31 -06:00)\n"
     ]
    }
   ],
   "source": [
    "AirBnBPermits2021['Date Issued'].value_counts()"
   ]
  },
  {
   "cell_type": "code",
   "execution_count": null,
   "id": "6347ebf3",
   "metadata": {},
   "outputs": [],
   "source": []
  },
  {
   "cell_type": "code",
   "execution_count": 20,
   "id": "93772047",
   "metadata": {},
   "outputs": [
    {
     "data": {
      "text/plain": [
       "37203    223\n",
       "37207    196\n",
       "37208    157\n",
       "37212    152\n",
       "37206    134\n",
       "37209    108\n",
       "37210     52\n",
       "37201     42\n",
       "37211     32\n",
       "37216     31\n",
       "37204     29\n",
       "37214     24\n",
       "37115     19\n",
       "37217     16\n",
       "37076      9\n",
       "37218      8\n",
       "37219      8\n",
       "37205      4\n",
       "37215      4\n",
       "37138      3\n",
       "37189      2\n",
       "37072      2\n",
       "37013      2\n",
       "37027      1\n",
       "37080      1\n",
       "37220      1\n",
       "37221      1\n",
       "Name: ZIP, dtype: int64"
      ]
     },
     "execution_count": 20,
     "metadata": {},
     "output_type": "execute_result"
    },
    {
     "name": "stdout",
     "output_type": "stream",
     "text": [
      "time: 15 ms (started: 2021-12-20 18:52:50 -06:00)\n"
     ]
    }
   ],
   "source": [
    "#37203 is the center of nashville (gulch/partheon/music row)\n",
    "AirBnBPermits2021['ZIP'].value_counts()"
   ]
  },
  {
   "cell_type": "code",
   "execution_count": 21,
   "id": "f194bd52",
   "metadata": {},
   "outputs": [
    {
     "name": "stdout",
     "output_type": "stream",
     "text": [
      "<class 'pandas.core.frame.DataFrame'>\n",
      "Int64Index: 1261 entries, 51 to 11852\n",
      "Data columns (total 18 columns):\n",
      " #   Column                      Non-Null Count  Dtype         \n",
      "---  ------                      --------------  -----         \n",
      " 0   Permit #                    1261 non-null   object        \n",
      " 1   Applicant                   1261 non-null   object        \n",
      " 2   Permit Subtype Description  1261 non-null   object        \n",
      " 3   Permit Status               1261 non-null   object        \n",
      " 4   Parcel                      1261 non-null   object        \n",
      " 5   Date Entered                1261 non-null   object        \n",
      " 6   Date Issued                 1261 non-null   datetime64[ns]\n",
      " 7   Expiration Date             1261 non-null   object        \n",
      " 8   Address                     1261 non-null   object        \n",
      " 9   City                        1261 non-null   object        \n",
      " 10  State                       1261 non-null   object        \n",
      " 11  ZIP                         1261 non-null   int64         \n",
      " 12  Subdivision / Lot           1261 non-null   object        \n",
      " 13  Purpose                     1261 non-null   object        \n",
      " 14  Permit Type                 1261 non-null   object        \n",
      " 15  Permit Subtype              1261 non-null   object        \n",
      " 16  Council District            1261 non-null   float64       \n",
      " 17  Mapped Location             1261 non-null   object        \n",
      "dtypes: datetime64[ns](1), float64(1), int64(1), object(15)\n",
      "memory usage: 187.2+ KB\n",
      "time: 16 ms (started: 2021-12-20 18:55:16 -06:00)\n"
     ]
    }
   ],
   "source": [
    "AirBnBPermits2021.info()"
   ]
  },
  {
   "cell_type": "code",
   "execution_count": 23,
   "id": "95d1d509",
   "metadata": {},
   "outputs": [
    {
     "name": "stdout",
     "output_type": "stream",
     "text": [
      "time: 0 ns (started: 2021-12-20 19:30:37 -06:00)\n"
     ]
    }
   ],
   "source": [
    "AirBnBPermits2021 = AirBnBPermits2021.rename(columns={'Address': 'Street'})"
   ]
  },
  {
   "cell_type": "code",
   "execution_count": 24,
   "id": "16b460c4",
   "metadata": {},
   "outputs": [
    {
     "name": "stdout",
     "output_type": "stream",
     "text": [
      "time: 47 ms (started: 2021-12-20 19:30:38 -06:00)\n"
     ]
    }
   ],
   "source": [
    "AirBnBPermits2021.to_csv(\"AirBnBPermits2021.csv\", sep=',', index=False, header=True)"
   ]
  },
  {
   "cell_type": "code",
   "execution_count": null,
   "id": "ed7419a6",
   "metadata": {},
   "outputs": [],
   "source": []
  }
 ],
 "metadata": {
  "kernelspec": {
   "display_name": "Python 3 (ipykernel)",
   "language": "python",
   "name": "python3"
  },
  "language_info": {
   "codemirror_mode": {
    "name": "ipython",
    "version": 3
   },
   "file_extension": ".py",
   "mimetype": "text/x-python",
   "name": "python",
   "nbconvert_exporter": "python",
   "pygments_lexer": "ipython3",
   "version": "3.8.5"
  }
 },
 "nbformat": 4,
 "nbformat_minor": 5
}
